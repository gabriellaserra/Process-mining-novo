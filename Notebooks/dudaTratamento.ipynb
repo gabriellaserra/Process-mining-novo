{
 "cells": [
  {
   "cell_type": "code",
   "execution_count": 1,
   "metadata": {},
   "outputs": [],
   "source": [
    "import pm4py\n",
    "import pandas"
   ]
  },
  {
   "cell_type": "code",
   "execution_count": 3,
   "metadata": {},
   "outputs": [],
   "source": [
    "dfBaseNT2023 = pandas.read_excel(\"C:\\\\Users\\\\meduarda\\\\Desktop\\\\base_de_dadosNT\\\\Relatorio_NT_2023.xlsx\")\n",
    "dfBaseNT2022 = pandas.read_excel(\"C:\\\\Users\\\\meduarda\\\\Desktop\\\\base_de_dadosNT\\\\Relatorio_NT_2022.xlsx\")"
   ]
  }
 ],
 "metadata": {
  "kernelspec": {
   "display_name": "Python 3",
   "language": "python",
   "name": "python3"
  },
  "language_info": {
   "codemirror_mode": {
    "name": "ipython",
    "version": 3
   },
   "file_extension": ".py",
   "mimetype": "text/x-python",
   "name": "python",
   "nbconvert_exporter": "python",
   "pygments_lexer": "ipython3",
   "version": "3.11.9"
  }
 },
 "nbformat": 4,
 "nbformat_minor": 2
}
