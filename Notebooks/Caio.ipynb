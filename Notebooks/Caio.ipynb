{
 "cells": [
  {
   "cell_type": "code",
   "execution_count": 10,
   "metadata": {},
   "outputs": [
    {
     "name": "stdout",
     "output_type": "stream",
     "text": [
      "Número de eventos: 42\n",
      "Número de casos: 6\n",
      "Inicio das Atividades: {'register request': 6}\n",
      "Fim das Atividades: {'reject request': 3, 'pay compensation': 3}\n"
     ]
    }
   ],
   "source": [
    "import pandas\n",
    "import pm4py\n",
    "\n",
    "def import_csv(file_path):\n",
    "    event_log = pandas.read_csv(file_path, sep=';') #Carrega o log de eventos\n",
    "    event_log = pm4py.format_dataframe(event_log, case_id='case_id', activity_key='activity', timestamp_key='timestamp') #Cria uma cópia do log e renomeia as colunas para o padrão usado no pm4py\n",
    "    start_activities = pm4py.get_start_activities(event_log) #Número de rastreamento que ocorrem primeiro\n",
    "    end_activities = pm4py.get_end_activities(event_log) #Número de rastreamentos que ocorrem no final\n",
    "    num_events = len(event_log) #Numero de eventos\n",
    "    num_cases = len(event_log.case_id.unique()) #Numero de casos\n",
    "    print(\"Número de eventos: {}\\nNúmero de casos: {}\".format(num_events, num_cases)) #Exibir o número de eventos e de casos\n",
    "    print(\"Inicio das Atividades: {}\\nFim das Atividades: {}\".format(start_activities, end_activities)) #Exibir o inicio e o fim das atividades\n",
    "\n",
    "if __name__ == \"__main__\":\n",
    "    import_csv(\"Y:\\\\git\\\\Process Mining\\\\grupo-2\\\\Bases_de_Dados\\\\running-example.csv\")"
   ]
  },
  {
   "cell_type": "code",
   "execution_count": 11,
   "metadata": {},
   "outputs": [
    {
     "name": "stdout",
     "output_type": "stream",
     "text": [
      "['case_id', 'activity', 'timestamp', 'costs', 'resource']\n",
      "['3', 'register request', '2010-12-30 14:32:00+01:00', '50', 'Pete']\n",
      "['3', 'examine casually', '2010-12-30 15:06:00+01:00', '400', 'Mike']\n",
      "['3', 'check ticket', '2010-12-30 16:34:00+01:00', '100', 'Ellen']\n",
      "['3', 'decide', '2011-01-06 09:18:00+01:00', '200', 'Sara']\n",
      "['3', 'reinitiate request', '2011-01-06 12:18:00+01:00', '200', 'Sara']\n",
      "['3', 'examine thoroughly', '2011-01-06 13:06:00+01:00', '400', 'Sean']\n",
      "['3', 'check ticket', '2011-01-08 11:43:00+01:00', '100', 'Pete']\n",
      "['3', 'decide', '2011-01-09 09:55:00+01:00', '200', 'Sara']\n",
      "['3', 'pay compensation', '2011-01-15 10:45:00+01:00', '200', 'Ellen']\n",
      "['2', 'register request', '2010-12-30 11:32:00+01:00', '50', 'Mike']\n",
      "['2', 'check ticket', '2010-12-30 12:12:00+01:00', '100', 'Mike']\n",
      "['2', 'examine casually', '2010-12-30 14:16:00+01:00', '400', 'Sean']\n",
      "['2', 'decide', '2011-01-05 11:22:00+01:00', '200', 'Sara']\n",
      "['2', 'pay compensation', '2011-01-08 12:05:00+01:00', '200', 'Ellen']\n",
      "['1', 'register request', '2010-12-30 11:02:00+01:00', '50', 'Pete']\n",
      "['1', 'examine thoroughly', '2010-12-31 10:06:00+01:00', '400', 'Sue']\n",
      "['1', 'check ticket', '2011-01-05 15:12:00+01:00', '100', 'Mike']\n",
      "['1', 'decide', '2011-01-06 11:18:00+01:00', '200', 'Sara']\n",
      "['1', 'reject request', '2011-01-07 14:24:00+01:00', '200', 'Pete']\n",
      "['6', 'register request', '2011-01-06 15:02:00+01:00', '50', 'Mike']\n",
      "['6', 'examine casually', '2011-01-06 16:06:00+01:00', '400', 'Ellen']\n",
      "['6', 'check ticket', '2011-01-07 16:22:00+01:00', '100', 'Mike']\n",
      "['6', 'decide', '2011-01-07 16:52:00+01:00', '200', 'Sara']\n",
      "['6', 'pay compensation', '2011-01-16 11:47:00+01:00', '200', 'Mike']\n",
      "['5', 'register request', '2011-01-06 09:02:00+01:00', '50', 'Ellen']\n",
      "['5', 'examine casually', '2011-01-07 10:16:00+01:00', '400', 'Mike']\n",
      "['5', 'check ticket', '2011-01-08 11:22:00+01:00', '100', 'Pete']\n",
      "['5', 'decide', '2011-01-10 13:28:00+01:00', '200', 'Sara']\n",
      "['5', 'reinitiate request', '2011-01-11 16:18:00+01:00', '200', 'Sara']\n",
      "['5', 'check ticket', '2011-01-14 14:33:00+01:00', '100', 'Ellen']\n",
      "['5', 'examine casually', '2011-01-16 15:50:00+01:00', '400', 'Mike']\n",
      "['5', 'decide', '2011-01-19 11:18:00+01:00', '200', 'Sara']\n",
      "['5', 'reinitiate request', '2011-01-20 12:48:00+01:00', '200', 'Sara']\n",
      "['5', 'examine casually', '2011-01-21 09:06:00+01:00', '400', 'Sue']\n",
      "['5', 'check ticket', '2011-01-21 11:34:00+01:00', '100', 'Pete']\n",
      "['5', 'decide', '2011-01-23 13:12:00+01:00', '200', 'Sara']\n",
      "['5', 'reject request', '2011-01-24 14:56:00+01:00', '200', 'Mike']\n",
      "['4', 'register request', '2011-01-06 15:02:00+01:00', '50', 'Pete']\n",
      "['4', 'check ticket', '2011-01-07 12:06:00+01:00', '100', 'Mike']\n",
      "['4', 'examine thoroughly', '2011-01-08 14:43:00+01:00', '400', 'Sean']\n",
      "['4', 'decide', '2011-01-09 12:02:00+01:00', '200', 'Sara']\n",
      "['4', 'reject request', '2011-01-12 15:44:00+01:00', '200', 'Ellen']\n"
     ]
    }
   ],
   "source": [
    "arq=open(\"Y:\\\\git\\\\Process Mining\\\\grupo-2\\\\Bases_de_Dados\\\\running-example.csv\", \"r\")\n",
    "for linha in arq:\n",
    "    linha=linha.strip().split(\";\")\n",
    "    print (linha)"
   ]
  }
 ],
 "metadata": {
  "kernelspec": {
   "display_name": "Python 3",
   "language": "python",
   "name": "python3"
  },
  "language_info": {
   "codemirror_mode": {
    "name": "ipython",
    "version": 3
   },
   "file_extension": ".py",
   "mimetype": "text/x-python",
   "name": "python",
   "nbconvert_exporter": "python",
   "pygments_lexer": "ipython3",
   "version": "3.11.8"
  }
 },
 "nbformat": 4,
 "nbformat_minor": 2
}
