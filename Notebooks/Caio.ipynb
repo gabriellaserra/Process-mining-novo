{
 "cells": [
  {
   "cell_type": "markdown",
   "metadata": {},
   "source": [
    "BASES NT"
   ]
  },
  {
   "cell_type": "markdown",
   "metadata": {},
   "source": [
    "Concatenação das bases de dados"
   ]
  },
  {
   "cell_type": "code",
   "execution_count": 92,
   "metadata": {},
   "outputs": [],
   "source": [
    "import pandas as pd\n",
    "import pandas\n",
    "\n",
    "# Carrega os DataFrames dos arquivos Excel de 2022 e 2023\n",
    "df22 = pd.read_excel('c:\\\\Users\\\\caiobarreto\\\\Downloads\\\\Relatório_NT_2022.xlsx')\n",
    "df23 = pd.read_excel('c:\\\\Users\\\\caiobarreto\\\\Downloads\\\\Relatório_NT_2023.xlsx')\n",
    "# Concatena os DataFrames\n",
    "df = pd.concat([df22, df23])\n",
    "# Define o caminho do arquivo de saída para o DataFrame concatenado\n",
    "saida = 'c:\\\\Users\\\\caiobarreto\\\\Downloads\\\\Relatório_NT_Concatenado.xlsx'\n",
    "# Salva o DataFrame concatenado em um novo arquivo Excel\n",
    "df.to_excel(saida, index=False)"
   ]
  },
  {
   "cell_type": "markdown",
   "metadata": {},
   "source": [
    "Retirar acentos e ç"
   ]
  },
  {
   "cell_type": "code",
   "execution_count": 93,
   "metadata": {},
   "outputs": [],
   "source": [
    "from unidecode import unidecode\n",
    "\n",
    "# Remover acentos e caracteres especiais de todas as colunas\n",
    "df = df.apply(lambda x: x.map(lambda y: unidecode(str(y)) if isinstance(y, str) else y))"
   ]
  },
  {
   "cell_type": "markdown",
   "metadata": {},
   "source": [
    " Ele utiliza a função apply para aplicar uma função lambda a cada coluna do DataFrame, e dentro dessa função lambda, utiliza outra função lambda para percorrer cada valor da coluna e remover a acentuação, caso o valor seja uma string."
   ]
  },
  {
   "cell_type": "markdown",
   "metadata": {},
   "source": [
    "Padronizar formato de data e hora"
   ]
  },
  {
   "cell_type": "code",
   "execution_count": 94,
   "metadata": {},
   "outputs": [],
   "source": [
    "# Padronizar o formato de data e hora\n",
    "formatar = ['Data Prevista de Chegada', 'Data Prevista de Saída', \n",
    "'H.O.C.', 'Amarração','Início de Bombeio', 'Fim de Bombeio', 'Desamarração', 'H.O.S.', 'Início Primeira Amarração','Fim Primeira Amarração','Início Primeira Conexão','Fim Primeira Conexão',\n",
    "'Início Primeiro Bombeio','Fim Último Bombeio','Início Última Desconexão','Fim Última Desconexão','Início Última Desamarração','Fim Última Desamarração']\n",
    "\n",
    "for coluna in formatar:\n",
    "    df[coluna] = pandas.to_datetime(df[coluna], dayfirst=True)"
   ]
  },
  {
   "cell_type": "markdown",
   "metadata": {},
   "source": [
    "Remover colunas"
   ]
  },
  {
   "cell_type": "code",
   "execution_count": 95,
   "metadata": {},
   "outputs": [],
   "source": [
    "# Removendo as colunas, inplace é pra não precisar reatribuir e axis 1 serve pra dizer que se trata de uma coluna\n",
    "df.drop(['Classe do Navio', 'Rebocador', 'Hora Top', 'Alívio Crítico', 'Apuração Alívio Crítico', 'Volume Acumulado Perdas', 'Lifter'], inplace=True, axis=1)"
   ]
  },
  {
   "cell_type": "markdown",
   "metadata": {},
   "source": [
    "Tirar duplicatas"
   ]
  },
  {
   "cell_type": "code",
   "execution_count": 96,
   "metadata": {},
   "outputs": [],
   "source": [
    "# Remove as duplicatas\n",
    "df=df.drop_duplicates()"
   ]
  },
  {
   "cell_type": "markdown",
   "metadata": {},
   "source": [
    "Adicionando coluna ID e adicionando valor ao indice"
   ]
  },
  {
   "cell_type": "code",
   "execution_count": 97,
   "metadata": {},
   "outputs": [],
   "source": [
    "# Redefinir o índice do DataFrame\n",
    "df.reset_index(drop=True, inplace=True)\n",
    "# Adicionando a coluna\n",
    "df.insert(0,'ID',range(len(df)))"
   ]
  },
  {
   "cell_type": "markdown",
   "metadata": {},
   "source": [
    "Criando coluna UEP e trocando Petrobras por P-"
   ]
  },
  {
   "cell_type": "code",
   "execution_count": 98,
   "metadata": {},
   "outputs": [],
   "source": [
    "# Adicionando a coluna UEP e pegando o valor da coluna Instalação Naval\n",
    "df.insert(2, 'UEP', df['Instalação Naval'].str.replace('PETROBRAS', 'P-', regex=True))"
   ]
  },
  {
   "cell_type": "markdown",
   "metadata": {},
   "source": [
    "Retirar os espaços em branco antes e no fim das colunas UEP e Navio"
   ]
  },
  {
   "cell_type": "code",
   "execution_count": 99,
   "metadata": {},
   "outputs": [],
   "source": [
    "# Remover espaços em branco antes e depois dos nomes nas colunas UEP e Navio\n",
    "df['UEP'] = df['UEP'].str.strip()\n",
    "df['Navio'] = df['Navio'].str.strip()"
   ]
  },
  {
   "cell_type": "markdown",
   "metadata": {},
   "source": [
    "Transformar H.O.C em data prevista de chegada quando a diferença for >= 48 horas"
   ]
  },
  {
   "cell_type": "code",
   "execution_count": 100,
   "metadata": {},
   "outputs": [],
   "source": [
    "# Calculando a diferença em horas entre as datas previstas de chegada e o H.O.C\n",
    "diferenca_horas = (df['Data Prevista de Chegada'] - df['H.O.C.']).dt.total_seconds() / 3600\n",
    "\n",
    "# Substituindo os valores de \"H.O.C\" onde a diferença for maior do que 48 horas (2 dias)\n",
    "df.loc[diferenca_horas >= 48, 'H.O.C.'] = df['Data Prevista de Chegada']"
   ]
  },
  {
   "cell_type": "markdown",
   "metadata": {},
   "source": [
    "Tirar duplicatas dos casos que possuem mesmo HOC, Instalação Naval e Navio"
   ]
  },
  {
   "cell_type": "code",
   "execution_count": 101,
   "metadata": {},
   "outputs": [],
   "source": [
    "# Remover duplicatas baseadas em \"H.O.C\", \"Instalação Naval\" e \"Navio\"\n",
    "df.drop_duplicates(subset=['H.O.C.', 'Instalação Naval', 'Navio'], inplace=True)"
   ]
  },
  {
   "cell_type": "markdown",
   "metadata": {},
   "source": [
    "ALTERANDO O FORMATO DA BASE"
   ]
  },
  {
   "cell_type": "code",
   "execution_count": 102,
   "metadata": {},
   "outputs": [],
   "source": [
    "# Selecionar apenas as colunas necessárias para alteração no formato do dataframe\n",
    "nt_colunas = ['ID', 'H.O.C.', 'Início Primeira Amarração', 'Fim Primeira Amarração', 'Início Primeira Conexão', 'Fim Primeira Conexão', 'Início Primeiro Bombeio','Fim Último Bombeio', 'Início Última Desconexão', 'Fim Última Desconexão','Início Última Desamarração', 'Fim Última Desamarração', 'H.O.S.']\n",
    "\n",
    "# Selecionar e definir as colunas que serão alteradas\n",
    "colunas_alteradas = ['H.O.C.', 'Início Primeira Amarração', 'Fim Primeira Amarração','Início Primeira Conexão', 'Fim Primeira Conexão', 'Início Primeiro Bombeio','Fim Último Bombeio', 'Início Última Desconexão', 'Fim Última Desconexão','Início Última Desconexão', 'Fim Última Desconexão', 'Início Última Desamarração','Fim Última Desamarração', 'H.O.S.']\n",
    "# Usar o método melt para transformar as colunas em registros\n",
    "df_transformado = pd.melt(df[nt_colunas], id_vars=['ID'], value_vars=colunas_alteradas, var_name='Ocorrência', value_name='Data')\n",
    "# Selecionar apenas as colunas necessárias para a junção\n",
    "colunas_restauradas = ['ID', 'Unidade Operativa', 'UEP', 'Navio', 'Volume Programado','Volume Retirado', 'Viagem', 'Destino', 'Data Prevista de Chegada','Data Prevista de Saída']\n",
    "# Realizar a junção dos DataFrames usando a coluna 'ID' como chave\n",
    "df_final = pd.merge(df[colunas_restauradas], df_transformado, on='ID', how='right')\n"
   ]
  },
  {
   "cell_type": "markdown",
   "metadata": {},
   "source": [
    "pd.melt() é usado para transformar as colunas selecionadas em registros. O argumento id_vars=['ID'] indica quais colunas manter como identificadores, enquanto value_vars=colunas_alteradas especifica quais colunas devem ser transformadas em registros. As colunas \"Ocorrência\" e \"Data\" são os nomes das novas colunas geradas durante a transformação."
   ]
  },
  {
   "cell_type": "markdown",
   "metadata": {},
   "source": [
    "Ordenar a base por ID e Data"
   ]
  },
  {
   "cell_type": "code",
   "execution_count": 103,
   "metadata": {},
   "outputs": [],
   "source": [
    "# Ordenar o DataFrame final por 'ID' e 'Data'\n",
    "df_final = df_final.sort_values(by=['ID', 'Data'])"
   ]
  },
  {
   "cell_type": "markdown",
   "metadata": {},
   "source": [
    "Adicionar os respectivos valores às colunas ‘Início’ e ‘Término’ de cada ocorrência"
   ]
  },
  {
   "cell_type": "code",
   "execution_count": 104,
   "metadata": {},
   "outputs": [],
   "source": [
    "# Adicionar as colunas 'Início' e 'Término' com base nas datas da ocorrência e da próxima ocorrência para o mesmo ID\n",
    "df_final['Início'] = df_final['Data']\n",
    "# Obter o valor da próxima linha na coluna \"Início\"\n",
    "df_final['Término'] = df_final['Início'].shift(-1)"
   ]
  },
  {
   "cell_type": "markdown",
   "metadata": {},
   "source": [
    "Excluir as colunas com “Ocorrência” = ”Fim”"
   ]
  },
  {
   "cell_type": "code",
   "execution_count": 105,
   "metadata": {},
   "outputs": [],
   "source": [
    "# Filtrar as linhas em que a \"Ocorrência\" contém a palavra \"Fim\" e obter seus índices\n",
    "indices_para_remover = df_final[df_final['Ocorrência'].str.contains('Fim')].index\n",
    "# Remover as linhas correspondentes aos índices obtidos\n",
    "df_final.drop(indices_para_remover, inplace=True)"
   ]
  },
  {
   "cell_type": "markdown",
   "metadata": {},
   "source": [
    "Renomear as colunas de Início "
   ]
  },
  {
   "cell_type": "code",
   "execution_count": 106,
   "metadata": {},
   "outputs": [],
   "source": [
    "# Retirar a palavra Início da ocorrência\n",
    "df_final['Ocorrência'] = df_final['Ocorrência'].str.replace('Início ', '')"
   ]
  },
  {
   "cell_type": "markdown",
   "metadata": {},
   "source": [
    "Remover a coluna data"
   ]
  },
  {
   "cell_type": "code",
   "execution_count": 107,
   "metadata": {},
   "outputs": [],
   "source": [
    "# Removendo as colunas, inplace é pra não precisar reatribuir e axis 1 serve pra dizer que se trata de uma coluna\n",
    "df_final.drop(['Data'],inplace=True, axis=1)"
   ]
  },
  {
   "cell_type": "markdown",
   "metadata": {},
   "source": [
    "BASE INTERRUPÇÕES"
   ]
  },
  {
   "cell_type": "markdown",
   "metadata": {},
   "source": [
    "Importar Base Interrupções"
   ]
  },
  {
   "cell_type": "code",
   "execution_count": 108,
   "metadata": {},
   "outputs": [],
   "source": [
    "dfInt = pd.read_excel(\"c:\\\\Users\\\\caiobarreto\\\\Downloads\\\\eventos_operacoes_interrupcoes2.xlsx\")"
   ]
  },
  {
   "cell_type": "markdown",
   "metadata": {},
   "source": [
    "Filtrar somente as que tiveram interrupções"
   ]
  },
  {
   "cell_type": "code",
   "execution_count": 109,
   "metadata": {},
   "outputs": [],
   "source": [
    "# Filtrar apenas as linhas em que 'Duração Interrupção' é maior que zero e reatribuir ao DataFrame dfInt\n",
    "dfInt = dfInt[dfInt['Duração Interrupção'] > 0]"
   ]
  },
  {
   "cell_type": "markdown",
   "metadata": {},
   "source": [
    "Retirando Acento e Ç"
   ]
  },
  {
   "cell_type": "code",
   "execution_count": 110,
   "metadata": {},
   "outputs": [],
   "source": [
    "dfInt = dfInt.apply(lambda x: x.map(lambda y: unidecode(str(y)) if isinstance(y, str) else y))"
   ]
  },
  {
   "cell_type": "markdown",
   "metadata": {},
   "source": [
    "Criando coluna UEP"
   ]
  },
  {
   "cell_type": "code",
   "execution_count": 111,
   "metadata": {},
   "outputs": [],
   "source": [
    "# Adicionando a coluna UEP \n",
    "dfInt.insert(2, 'UEP', dfInt['INNA_SG_INSTALACAO_NAVAL'].str.replace('PETROBRAS', 'P-', regex=True))"
   ]
  },
  {
   "cell_type": "markdown",
   "metadata": {},
   "source": [
    "Alterando nomes das categorias da coluna UEP"
   ]
  },
  {
   "cell_type": "code",
   "execution_count": 112,
   "metadata": {},
   "outputs": [],
   "source": [
    "# Faz um dicionário com os nomes a serem mudados na UEP\n",
    "trocaNomes = {\n",
    "    'FPBAR': 'FPSO Almirante Barroso',\n",
    "    'FPCGZ': 'FPSO Campos dos Goytacases MV29',\n",
    "    'CAPX': 'FPSO Capixaba',\n",
    "    'FPCRC': 'FPSO CARIOCA MV30',\n",
    "    'FPNIT': 'FPSO Cid. Niteroi MV18',\n",
    "    'CDAN': 'FPSO Cidade de Anchieta',\n",
    "    'FPCAR': 'FPSO Cidade de Angra Reis MV22',\n",
    "    'FPCIB': 'FPSO Cidade de Ilhabela',\n",
    "    'FPCMB': 'FPSO Cidade de Mangaratiba MV24',\n",
    "    'FPCIG': 'FPSO Cidade de Itaguai MV26',\n",
    "    'FPCMC': 'FPSO Cidade de Marica',\n",
    "    'FPCPY': 'FPSO Cidade de Paraty',\n",
    "    'FPCST': 'FPSO Cidade de Santos MV20',\n",
    "    'FPCSQ': 'FPSO Cidade de Saquarema',\n",
    "    'FPCSP': 'FPSO Cidade Sao Paulo MV23',\n",
    "    'FPGNB': 'FPSO Guanabara - MV31',\n",
    "    'FPPLB': 'FPSO Pioneiro de Libra',\n",
    "    'FSME': 'FSO Cidade de Macae - MV15'\n",
    "}\n",
    "\n",
    "# Faz a troca dos nomes da UEP utilizando o replace\n",
    "dfInt['UEP'] = dfInt['UEP'].replace(trocaNomes)"
   ]
  },
  {
   "cell_type": "markdown",
   "metadata": {},
   "source": [
    "Renomear as colunas para ficar com a mesma nomenclatura que a base NT"
   ]
  },
  {
   "cell_type": "code",
   "execution_count": 113,
   "metadata": {},
   "outputs": [],
   "source": [
    "# Definindo o dicionário para renomear as colunas\n",
    "nomeColunas = {\n",
    "    'OPOF_CD_VIAGEM': 'Viagem',\n",
    "    'OPOF_NM_NAVIO': 'Navio',\n",
    "    'OPOF_NM_DESTINO': 'Destino',\n",
    "    'EOOF_IN_TIPO': 'TIPO_INTERRUPCAO',\n",
    "    'Duração Interrupção': 'DURACAO_INTERRUPCAO',\n",
    "    'EOOF_DT_REALIZADA': 'INICIO_INTERRUPCAO',\n",
    "    'EOOF_DT_FIM': 'FIM_INTERRUPCAO',\n",
    "    'OPOF_DT_ENTRADA_PREVISTA': 'Data Prevista de Chegada',\n",
    "    'OPOF_DT_SAIDA_PREVISTA': 'Data Prevista de Saída'\n",
    "}\n",
    "\n",
    "# Renomeando as colunas conforme o dicionário \n",
    "dfInt.rename(columns=nomeColunas, inplace=True)"
   ]
  },
  {
   "cell_type": "markdown",
   "metadata": {},
   "source": [
    "Retirar o espaço do inicio e final das colunas Navio e UEP"
   ]
  },
  {
   "cell_type": "code",
   "execution_count": 114,
   "metadata": {},
   "outputs": [],
   "source": [
    "# Remover espaços em branco antes e depois dos nomes nas colunas UEP e Navio\n",
    "dfInt['UEP'] = dfInt['UEP'].str.strip()\n",
    "dfInt['Navio'] = dfInt['Navio'].str.strip()"
   ]
  },
  {
   "cell_type": "markdown",
   "metadata": {},
   "source": [
    "Selecionar apenas as colunas que interessam"
   ]
  },
  {
   "cell_type": "code",
   "execution_count": 115,
   "metadata": {},
   "outputs": [],
   "source": [
    "# Selecionar apenas as colunas necessárias do DataFrame dfInt\n",
    "colunasSel = dfInt[['UEP', 'Viagem', 'Navio', 'Destino', 'TIPO_INTERRUPCAO', 'DURACAO_INTERRUPCAO', 'INICIO_INTERRUPCAO', 'FIM_INTERRUPCAO', 'Data Prevista de Chegada', 'Data Prevista de Saída']]"
   ]
  },
  {
   "cell_type": "markdown",
   "metadata": {},
   "source": [
    "JUNTAR BASE DE INTERRUPÇÕES COM A DE NAVIO TANQUE"
   ]
  },
  {
   "cell_type": "code",
   "execution_count": 116,
   "metadata": {},
   "outputs": [
    {
     "data": {
      "text/html": [
       "<div>\n",
       "<style scoped>\n",
       "    .dataframe tbody tr th:only-of-type {\n",
       "        vertical-align: middle;\n",
       "    }\n",
       "\n",
       "    .dataframe tbody tr th {\n",
       "        vertical-align: top;\n",
       "    }\n",
       "\n",
       "    .dataframe thead th {\n",
       "        text-align: right;\n",
       "    }\n",
       "</style>\n",
       "<table border=\"1\" class=\"dataframe\">\n",
       "  <thead>\n",
       "    <tr style=\"text-align: right;\">\n",
       "      <th></th>\n",
       "      <th>ID</th>\n",
       "      <th>Unidade Operativa</th>\n",
       "      <th>UEP</th>\n",
       "      <th>Navio</th>\n",
       "      <th>Volume Programado</th>\n",
       "      <th>Volume Retirado</th>\n",
       "      <th>Viagem</th>\n",
       "      <th>Destino</th>\n",
       "      <th>Data Prevista de Chegada</th>\n",
       "      <th>Data Prevista de Saída</th>\n",
       "      <th>Ocorrência</th>\n",
       "      <th>Início</th>\n",
       "      <th>Término</th>\n",
       "      <th>TIPO_INTERRUPCAO</th>\n",
       "      <th>DURACAO_INTERRUPCAO</th>\n",
       "      <th>INICIO_INTERRUPCAO</th>\n",
       "      <th>FIM_INTERRUPCAO</th>\n",
       "    </tr>\n",
       "  </thead>\n",
       "  <tbody>\n",
       "    <tr>\n",
       "      <th>0</th>\n",
       "      <td>0</td>\n",
       "      <td>UN-BS</td>\n",
       "      <td>P- 67</td>\n",
       "      <td>FORTALEZA KNUTSEN</td>\n",
       "      <td>80000</td>\n",
       "      <td>81382.81</td>\n",
       "      <td>423 TA</td>\n",
       "      <td>T.B.N.</td>\n",
       "      <td>2022-04-27 12:00:00</td>\n",
       "      <td>2022-04-28 09:30:00</td>\n",
       "      <td>H.O.C.</td>\n",
       "      <td>2022-04-27 03:00:00</td>\n",
       "      <td>2022-04-27 09:04:00</td>\n",
       "      <td>NaN</td>\n",
       "      <td>NaN</td>\n",
       "      <td>NaT</td>\n",
       "      <td>NaT</td>\n",
       "    </tr>\n",
       "    <tr>\n",
       "      <th>1</th>\n",
       "      <td>0</td>\n",
       "      <td>UN-BS</td>\n",
       "      <td>P- 67</td>\n",
       "      <td>FORTALEZA KNUTSEN</td>\n",
       "      <td>80000</td>\n",
       "      <td>81382.81</td>\n",
       "      <td>423 TA</td>\n",
       "      <td>T.B.N.</td>\n",
       "      <td>2022-04-27 12:00:00</td>\n",
       "      <td>2022-04-28 09:30:00</td>\n",
       "      <td>Primeira Amarração</td>\n",
       "      <td>2022-04-27 09:04:00</td>\n",
       "      <td>2022-04-27 09:35:00</td>\n",
       "      <td>NaN</td>\n",
       "      <td>NaN</td>\n",
       "      <td>NaT</td>\n",
       "      <td>NaT</td>\n",
       "    </tr>\n",
       "    <tr>\n",
       "      <th>2</th>\n",
       "      <td>0</td>\n",
       "      <td>UN-BS</td>\n",
       "      <td>P- 67</td>\n",
       "      <td>FORTALEZA KNUTSEN</td>\n",
       "      <td>80000</td>\n",
       "      <td>81382.81</td>\n",
       "      <td>423 TA</td>\n",
       "      <td>T.B.N.</td>\n",
       "      <td>2022-04-27 12:00:00</td>\n",
       "      <td>2022-04-28 09:30:00</td>\n",
       "      <td>Primeira Conexão</td>\n",
       "      <td>2022-04-27 09:40:00</td>\n",
       "      <td>2022-04-27 10:11:00</td>\n",
       "      <td>NaN</td>\n",
       "      <td>NaN</td>\n",
       "      <td>NaT</td>\n",
       "      <td>NaT</td>\n",
       "    </tr>\n",
       "    <tr>\n",
       "      <th>3</th>\n",
       "      <td>0</td>\n",
       "      <td>UN-BS</td>\n",
       "      <td>P- 67</td>\n",
       "      <td>FORTALEZA KNUTSEN</td>\n",
       "      <td>80000</td>\n",
       "      <td>81382.81</td>\n",
       "      <td>423 TA</td>\n",
       "      <td>T.B.N.</td>\n",
       "      <td>2022-04-27 12:00:00</td>\n",
       "      <td>2022-04-28 09:30:00</td>\n",
       "      <td>Primeiro Bombeio</td>\n",
       "      <td>2022-04-27 12:00:00</td>\n",
       "      <td>2022-04-28 07:00:00</td>\n",
       "      <td>NaN</td>\n",
       "      <td>NaN</td>\n",
       "      <td>NaT</td>\n",
       "      <td>NaT</td>\n",
       "    </tr>\n",
       "    <tr>\n",
       "      <th>4</th>\n",
       "      <td>0</td>\n",
       "      <td>UN-BS</td>\n",
       "      <td>P- 67</td>\n",
       "      <td>FORTALEZA KNUTSEN</td>\n",
       "      <td>80000</td>\n",
       "      <td>81382.81</td>\n",
       "      <td>423 TA</td>\n",
       "      <td>T.B.N.</td>\n",
       "      <td>2022-04-27 12:00:00</td>\n",
       "      <td>2022-04-28 09:30:00</td>\n",
       "      <td>Última Desconexão</td>\n",
       "      <td>2022-04-28 08:30:00</td>\n",
       "      <td>2022-04-28 08:55:00</td>\n",
       "      <td>NaN</td>\n",
       "      <td>NaN</td>\n",
       "      <td>NaT</td>\n",
       "      <td>NaT</td>\n",
       "    </tr>\n",
       "    <tr>\n",
       "      <th>...</th>\n",
       "      <td>...</td>\n",
       "      <td>...</td>\n",
       "      <td>...</td>\n",
       "      <td>...</td>\n",
       "      <td>...</td>\n",
       "      <td>...</td>\n",
       "      <td>...</td>\n",
       "      <td>...</td>\n",
       "      <td>...</td>\n",
       "      <td>...</td>\n",
       "      <td>...</td>\n",
       "      <td>...</td>\n",
       "      <td>...</td>\n",
       "      <td>...</td>\n",
       "      <td>...</td>\n",
       "      <td>...</td>\n",
       "      <td>...</td>\n",
       "    </tr>\n",
       "    <tr>\n",
       "      <th>22661</th>\n",
       "      <td>3225</td>\n",
       "      <td>UN-BUZ</td>\n",
       "      <td>P- 76</td>\n",
       "      <td>ELKA LEBLON</td>\n",
       "      <td>80000</td>\n",
       "      <td>81372.15</td>\n",
       "      <td>402 TA</td>\n",
       "      <td>T.B.N.</td>\n",
       "      <td>2023-07-31 13:00:00</td>\n",
       "      <td>2023-08-01 18:00:00</td>\n",
       "      <td>Primeira Conexão</td>\n",
       "      <td>2023-07-31 16:30:00</td>\n",
       "      <td>2023-07-31 17:48:00</td>\n",
       "      <td>NaN</td>\n",
       "      <td>NaN</td>\n",
       "      <td>NaT</td>\n",
       "      <td>NaT</td>\n",
       "    </tr>\n",
       "    <tr>\n",
       "      <th>22662</th>\n",
       "      <td>3225</td>\n",
       "      <td>UN-BUZ</td>\n",
       "      <td>P- 76</td>\n",
       "      <td>ELKA LEBLON</td>\n",
       "      <td>80000</td>\n",
       "      <td>81372.15</td>\n",
       "      <td>402 TA</td>\n",
       "      <td>T.B.N.</td>\n",
       "      <td>2023-07-31 13:00:00</td>\n",
       "      <td>2023-08-01 18:00:00</td>\n",
       "      <td>Primeiro Bombeio</td>\n",
       "      <td>2023-07-31 19:06:00</td>\n",
       "      <td>2023-08-01 12:42:00</td>\n",
       "      <td>NaN</td>\n",
       "      <td>NaN</td>\n",
       "      <td>NaT</td>\n",
       "      <td>NaT</td>\n",
       "    </tr>\n",
       "    <tr>\n",
       "      <th>22663</th>\n",
       "      <td>3225</td>\n",
       "      <td>UN-BUZ</td>\n",
       "      <td>P- 76</td>\n",
       "      <td>ELKA LEBLON</td>\n",
       "      <td>80000</td>\n",
       "      <td>81372.15</td>\n",
       "      <td>402 TA</td>\n",
       "      <td>T.B.N.</td>\n",
       "      <td>2023-07-31 13:00:00</td>\n",
       "      <td>2023-08-01 18:00:00</td>\n",
       "      <td>Última Desconexão</td>\n",
       "      <td>2023-08-01 14:48:00</td>\n",
       "      <td>2023-08-01 15:36:00</td>\n",
       "      <td>NaN</td>\n",
       "      <td>NaN</td>\n",
       "      <td>NaT</td>\n",
       "      <td>NaT</td>\n",
       "    </tr>\n",
       "    <tr>\n",
       "      <th>22664</th>\n",
       "      <td>3225</td>\n",
       "      <td>UN-BUZ</td>\n",
       "      <td>P- 76</td>\n",
       "      <td>ELKA LEBLON</td>\n",
       "      <td>80000</td>\n",
       "      <td>81372.15</td>\n",
       "      <td>402 TA</td>\n",
       "      <td>T.B.N.</td>\n",
       "      <td>2023-07-31 13:00:00</td>\n",
       "      <td>2023-08-01 18:00:00</td>\n",
       "      <td>Última Desamarração</td>\n",
       "      <td>2023-08-01 15:37:00</td>\n",
       "      <td>2023-08-01 16:12:00</td>\n",
       "      <td>NaN</td>\n",
       "      <td>NaN</td>\n",
       "      <td>NaT</td>\n",
       "      <td>NaT</td>\n",
       "    </tr>\n",
       "    <tr>\n",
       "      <th>22665</th>\n",
       "      <td>3225</td>\n",
       "      <td>UN-BUZ</td>\n",
       "      <td>P- 76</td>\n",
       "      <td>ELKA LEBLON</td>\n",
       "      <td>80000</td>\n",
       "      <td>81372.15</td>\n",
       "      <td>402 TA</td>\n",
       "      <td>T.B.N.</td>\n",
       "      <td>2023-07-31 13:00:00</td>\n",
       "      <td>2023-08-01 18:00:00</td>\n",
       "      <td>H.O.S.</td>\n",
       "      <td>2023-08-01 18:00:00</td>\n",
       "      <td>NaT</td>\n",
       "      <td>NaN</td>\n",
       "      <td>NaN</td>\n",
       "      <td>NaT</td>\n",
       "      <td>NaT</td>\n",
       "    </tr>\n",
       "  </tbody>\n",
       "</table>\n",
       "<p>22666 rows × 17 columns</p>\n",
       "</div>"
      ],
      "text/plain": [
       "         ID Unidade Operativa    UEP              Navio  Volume Programado  \\\n",
       "0         0             UN-BS  P- 67  FORTALEZA KNUTSEN              80000   \n",
       "1         0             UN-BS  P- 67  FORTALEZA KNUTSEN              80000   \n",
       "2         0             UN-BS  P- 67  FORTALEZA KNUTSEN              80000   \n",
       "3         0             UN-BS  P- 67  FORTALEZA KNUTSEN              80000   \n",
       "4         0             UN-BS  P- 67  FORTALEZA KNUTSEN              80000   \n",
       "...     ...               ...    ...                ...                ...   \n",
       "22661  3225            UN-BUZ  P- 76        ELKA LEBLON              80000   \n",
       "22662  3225            UN-BUZ  P- 76        ELKA LEBLON              80000   \n",
       "22663  3225            UN-BUZ  P- 76        ELKA LEBLON              80000   \n",
       "22664  3225            UN-BUZ  P- 76        ELKA LEBLON              80000   \n",
       "22665  3225            UN-BUZ  P- 76        ELKA LEBLON              80000   \n",
       "\n",
       "       Volume Retirado  Viagem Destino Data Prevista de Chegada  \\\n",
       "0             81382.81  423 TA  T.B.N.      2022-04-27 12:00:00   \n",
       "1             81382.81  423 TA  T.B.N.      2022-04-27 12:00:00   \n",
       "2             81382.81  423 TA  T.B.N.      2022-04-27 12:00:00   \n",
       "3             81382.81  423 TA  T.B.N.      2022-04-27 12:00:00   \n",
       "4             81382.81  423 TA  T.B.N.      2022-04-27 12:00:00   \n",
       "...                ...     ...     ...                      ...   \n",
       "22661         81372.15  402 TA  T.B.N.      2023-07-31 13:00:00   \n",
       "22662         81372.15  402 TA  T.B.N.      2023-07-31 13:00:00   \n",
       "22663         81372.15  402 TA  T.B.N.      2023-07-31 13:00:00   \n",
       "22664         81372.15  402 TA  T.B.N.      2023-07-31 13:00:00   \n",
       "22665         81372.15  402 TA  T.B.N.      2023-07-31 13:00:00   \n",
       "\n",
       "      Data Prevista de Saída           Ocorrência              Início  \\\n",
       "0        2022-04-28 09:30:00               H.O.C. 2022-04-27 03:00:00   \n",
       "1        2022-04-28 09:30:00   Primeira Amarração 2022-04-27 09:04:00   \n",
       "2        2022-04-28 09:30:00     Primeira Conexão 2022-04-27 09:40:00   \n",
       "3        2022-04-28 09:30:00     Primeiro Bombeio 2022-04-27 12:00:00   \n",
       "4        2022-04-28 09:30:00    Última Desconexão 2022-04-28 08:30:00   \n",
       "...                      ...                  ...                 ...   \n",
       "22661    2023-08-01 18:00:00     Primeira Conexão 2023-07-31 16:30:00   \n",
       "22662    2023-08-01 18:00:00     Primeiro Bombeio 2023-07-31 19:06:00   \n",
       "22663    2023-08-01 18:00:00    Última Desconexão 2023-08-01 14:48:00   \n",
       "22664    2023-08-01 18:00:00  Última Desamarração 2023-08-01 15:37:00   \n",
       "22665    2023-08-01 18:00:00               H.O.S. 2023-08-01 18:00:00   \n",
       "\n",
       "                  Término TIPO_INTERRUPCAO  DURACAO_INTERRUPCAO  \\\n",
       "0     2022-04-27 09:04:00              NaN                  NaN   \n",
       "1     2022-04-27 09:35:00              NaN                  NaN   \n",
       "2     2022-04-27 10:11:00              NaN                  NaN   \n",
       "3     2022-04-28 07:00:00              NaN                  NaN   \n",
       "4     2022-04-28 08:55:00              NaN                  NaN   \n",
       "...                   ...              ...                  ...   \n",
       "22661 2023-07-31 17:48:00              NaN                  NaN   \n",
       "22662 2023-08-01 12:42:00              NaN                  NaN   \n",
       "22663 2023-08-01 15:36:00              NaN                  NaN   \n",
       "22664 2023-08-01 16:12:00              NaN                  NaN   \n",
       "22665                 NaT              NaN                  NaN   \n",
       "\n",
       "      INICIO_INTERRUPCAO FIM_INTERRUPCAO  \n",
       "0                    NaT             NaT  \n",
       "1                    NaT             NaT  \n",
       "2                    NaT             NaT  \n",
       "3                    NaT             NaT  \n",
       "4                    NaT             NaT  \n",
       "...                  ...             ...  \n",
       "22661                NaT             NaT  \n",
       "22662                NaT             NaT  \n",
       "22663                NaT             NaT  \n",
       "22664                NaT             NaT  \n",
       "22665                NaT             NaT  \n",
       "\n",
       "[22666 rows x 17 columns]"
      ]
     },
     "execution_count": 116,
     "metadata": {},
     "output_type": "execute_result"
    }
   ],
   "source": [
    "# Junção das bases de interrupções e NT\n",
    "dfUni = pd.merge(df_final, colunasSel, on=['UEP', 'Viagem', 'Navio', 'Destino', 'Data Prevista de Chegada', 'Data Prevista de Saída'], how='left')\n",
    "dfUni"
   ]
  },
  {
   "cell_type": "markdown",
   "metadata": {},
   "source": [
    "Restringir as características de interrupção apenas aos bombeios"
   ]
  },
  {
   "cell_type": "code",
   "execution_count": 117,
   "metadata": {},
   "outputs": [],
   "source": [
    "# Substituir valor da coluna 'TIPO_INTERRUPCAO' por 'Interrupção Bombeio' onde 'Ocorrência' contém 'Bombeio' e 'TIPO_INTERRUPCAO' = 'B005', caso contrário, substituir por ''\n",
    "condicao_1 = (dfUni['Ocorrência'].str.contains('Bombeio')) & (dfUni['TIPO_INTERRUPCAO'] == 'B005')\n",
    "dfUni.loc[condicao_1, 'TIPO_INTERRUPCAO'] = 'Interrupção Bombeio'\n",
    "dfUni.loc[~condicao_1, 'TIPO_INTERRUPCAO'] = ''\n",
    "\n",
    "# Manter valor da coluna 'DURACAO_INTERRUPCAO' onde 'Ocorrência' contém 'Bombeio' e 'DURACAO_INTERRUPCAO' > 0\n",
    "condicao_2 = (dfUni['Ocorrência'].str.contains('Bombeio')) & (dfUni['DURACAO_INTERRUPCAO'] > 0)\n",
    "dfUni.loc[condicao_2, 'DURACAO_INTERRUPCAO'] = dfUni.loc[condicao_2, 'DURACAO_INTERRUPCAO']\n",
    "dfUni.loc[~condicao_2, 'TIPO_INTERRUPCAO'] = ''\n",
    "\n",
    "# Manter valor da coluna 'INICIO_INTERRUPCAO' onde 'Ocorrência' contém 'Bombeio' e 'TIPO_INTERRUPCAO' = 'Interrupção Bombeio'\n",
    "condicao_3 = (dfUni['Ocorrência'].str.contains('Bombeio')) & (dfUni['TIPO_INTERRUPCAO'] == 'Interrupção Bombeio')\n",
    "dfUni.loc[condicao_3, 'INICIO_INTERRUPCAO'] = dfUni.loc[condicao_3, 'INICIO_INTERRUPCAO']\n",
    "dfUni.loc[~condicao_3, 'TIPO_INTERRUPCAO'] = ''\n",
    "\n",
    "# Manter valor da coluna 'FIM_INTERRUPCAO' onde 'Ocorrência' contém 'Bombeio' e 'TIPO_INTERRUPCAO' = 'Interrupção Bombeio'\n",
    "condicao_4 = (dfUni['Ocorrência'].str.contains('Bombeio')) & (dfUni['TIPO_INTERRUPCAO'] == 'Interrupção Bombeio')\n",
    "dfUni.loc[condicao_4, 'FIM_INTERRUPCAO'] = dfUni.loc[condicao_4, 'FIM_INTERRUPCAO']\n",
    "dfUni.loc[~condicao_4, 'TIPO_INTERRUPCAO'] = ''"
   ]
  },
  {
   "cell_type": "markdown",
   "metadata": {},
   "source": [
    "Duplicas as linhas em que acontece as interrupções e resetar os índices"
   ]
  },
  {
   "cell_type": "code",
   "execution_count": 118,
   "metadata": {},
   "outputs": [],
   "source": [
    "df_filtered = dfUni[dfUni['TIPO_INTERRUPCAO'].notna()]\n",
    "df_resultado = pandas.concat([dfUni, df_filtered], ignore_index=True)\n",
    "df_resultado.reset_index(drop=True, inplace=True)\n",
    "lista_remover = []\n",
    "for i, row in df_resultado.iterrows():\n",
    "    if i < len(df_resultado)-2:\n",
    "        linha_atual = df_resultado.iloc[i]\n",
    "        linha_seguinte = df_resultado.iloc[i+1]\n",
    "        linha_seguinte_seguinte = df_resultado.iloc[i+2]\n",
    "        if ((linha_atual['ID'] == linha_seguinte['ID'] and linha_atual['TIPO_INTERRUPCAO'] == \"Interrupção Bombeio\")) and ((linha_seguinte['ID'] == linha_seguinte_seguinte['ID'] and linha_seguinte['TIPO_INTERRUPCAO'] == \"Interrupção Bombeio\")):\n",
    "            lista_remover.append(linha_seguinte_seguinte.name)"
   ]
  },
  {
   "cell_type": "markdown",
   "metadata": {},
   "source": [
    "Ordenar por ID e Início"
   ]
  },
  {
   "cell_type": "code",
   "execution_count": 119,
   "metadata": {},
   "outputs": [],
   "source": [
    "# Ordenar por ID e início\n",
    "df_resultado.sort_values(by=['ID', 'Início','INICIO_INTERRUPCAO'], inplace=True)"
   ]
  },
  {
   "cell_type": "markdown",
   "metadata": {},
   "source": [
    "Se o inicio da interrupção for antes do bombeio, substituir o valor de inicio da interrupção pelo valor de inicio do bombeio, o mesmo acontece para as datas de fim, se o fim da interrupção for depois do fim do bombeio, substituir o fim da interrupção com o valor de fim do bombeio"
   ]
  },
  {
   "cell_type": "code",
   "execution_count": 120,
   "metadata": {},
   "outputs": [],
   "source": [
    "import numpy as np\n",
    "\n",
    "# Verificar se TIPO_INTERRUPCAO está vazio e substituir os valores das outras colunas\n",
    "condicao = df_resultado['TIPO_INTERRUPCAO'] == ''\n",
    "df_resultado.loc[condicao, ['DURACAO_INTERRUPCAO', 'INICIO_INTERRUPCAO', 'FIM_INTERRUPCAO']] = np.nan\n",
    "\n",
    "# Substituir o início da interrupção pelo valor de início do bombeio onde necessário\n",
    "df_resultado.loc[df_resultado['INICIO_INTERRUPCAO'] < df_resultado['Início'], 'INICIO_INTERRUPCAO'] = df_resultado['Início']\n",
    "\n",
    "# Substituir o fim da interrupção pelo valor de fim do bombeio onde necessário\n",
    "df_resultado.loc[df_resultado['FIM_INTERRUPCAO'] > df_resultado['Término'], 'FIM_INTERRUPCAO'] = df_resultado['Término']\n"
   ]
  },
  {
   "cell_type": "markdown",
   "metadata": {},
   "source": [
    "Alterar as datas de término da primeira interrupção e início da segunda interrupção dentro de um mesmo id"
   ]
  },
  {
   "cell_type": "code",
   "execution_count": 121,
   "metadata": {},
   "outputs": [],
   "source": [
    "# Verificar se TIPO_INTERRUPCAO de linhas consecutivas são iguais a \"Interrupção Bombeio\"\n",
    "condicao_1 = (df_resultado['TIPO_INTERRUPCAO'].shift() == 'Interrupção Bombeio') & (df_resultado['TIPO_INTERRUPCAO'] == 'Interrupção Bombeio')\n",
    "# Verificar se DURACAO_INTERRUPCAO de linhas consecutivas são diferentes\n",
    "condicao_2 = (df_resultado['TIPO_INTERRUPCAO'].shift() == 'Interrupção Bombeio') & (df_resultado['TIPO_INTERRUPCAO'] == 'Interrupção Bombeio') & (df_resultado['DURACAO_INTERRUPCAO'].shift() != df_resultado['DURACAO_INTERRUPCAO'])\n",
    "# Atualizar as datas conforme as condições especificadas\n",
    "df_resultado.loc[condicao_1, 'Término'] = df_resultado['INICIO_INTERRUPCAO'].shift(-1)\n",
    "df_resultado.loc[condicao_1, 'Início'] = df_resultado['FIM_INTERRUPCAO']\n",
    "df_resultado.loc[condicao_2, 'Início'] = df_resultado['FIM_INTERRUPCAO']"
   ]
  },
  {
   "cell_type": "markdown",
   "metadata": {},
   "source": [
    "Retirar os casos com bombeio instantâneo"
   ]
  },
  {
   "cell_type": "code",
   "execution_count": 122,
   "metadata": {},
   "outputs": [],
   "source": [
    "for indice,linha in df_resultado.iterrows():\n",
    "    if linha['Início'] == linha['Término']:\n",
    "       df_resultado.drop(index=indice)"
   ]
  },
  {
   "cell_type": "markdown",
   "metadata": {},
   "source": [
    "Para a ocorrência H.O.S. trocar os términos que estão vazios pelos inícios, pois o H.O.S. é sempre \n",
    "instantâneo"
   ]
  },
  {
   "cell_type": "code",
   "execution_count": 123,
   "metadata": {},
   "outputs": [
    {
     "name": "stderr",
     "output_type": "stream",
     "text": [
      "C:\\Users\\caiobarreto\\AppData\\Local\\Temp\\ipykernel_20732\\3063776645.py:5: FutureWarning: ChainedAssignmentError: behaviour will change in pandas 3.0!\n",
      "You are setting values through chained assignment. Currently this works in certain cases, but when using Copy-on-Write (which will become the default behaviour in pandas 3.0) this will never work to update the original DataFrame or Series, because the intermediate object on which we are setting values will behave as a copy.\n",
      "A typical example is when you are setting values in a column of a DataFrame, like:\n",
      "\n",
      "df[\"col\"][row_indexer] = value\n",
      "\n",
      "Use `df.loc[row_indexer, \"col\"] = values` instead, to perform the assignment in a single step and ensure this keeps updating the original `df`.\n",
      "\n",
      "See the caveats in the documentation: https://pandas.pydata.org/pandas-docs/stable/user_guide/indexing.html#returning-a-view-versus-a-copy\n",
      "\n",
      "  df_resultado['Término'][index] = df_resultado[\"Início\"][index]\n",
      "C:\\Users\\caiobarreto\\AppData\\Local\\Temp\\ipykernel_20732\\3063776645.py:5: SettingWithCopyWarning: \n",
      "A value is trying to be set on a copy of a slice from a DataFrame\n",
      "\n",
      "See the caveats in the documentation: https://pandas.pydata.org/pandas-docs/stable/user_guide/indexing.html#returning-a-view-versus-a-copy\n",
      "  df_resultado['Término'][index] = df_resultado[\"Início\"][index]\n",
      "C:\\Users\\caiobarreto\\AppData\\Local\\Temp\\ipykernel_20732\\3063776645.py:5: FutureWarning: ChainedAssignmentError: behaviour will change in pandas 3.0!\n",
      "You are setting values through chained assignment. Currently this works in certain cases, but when using Copy-on-Write (which will become the default behaviour in pandas 3.0) this will never work to update the original DataFrame or Series, because the intermediate object on which we are setting values will behave as a copy.\n",
      "A typical example is when you are setting values in a column of a DataFrame, like:\n",
      "\n",
      "df[\"col\"][row_indexer] = value\n",
      "\n",
      "Use `df.loc[row_indexer, \"col\"] = values` instead, to perform the assignment in a single step and ensure this keeps updating the original `df`.\n",
      "\n",
      "See the caveats in the documentation: https://pandas.pydata.org/pandas-docs/stable/user_guide/indexing.html#returning-a-view-versus-a-copy\n",
      "\n",
      "  df_resultado['Término'][index] = df_resultado[\"Início\"][index]\n",
      "C:\\Users\\caiobarreto\\AppData\\Local\\Temp\\ipykernel_20732\\3063776645.py:5: SettingWithCopyWarning: \n",
      "A value is trying to be set on a copy of a slice from a DataFrame\n",
      "\n",
      "See the caveats in the documentation: https://pandas.pydata.org/pandas-docs/stable/user_guide/indexing.html#returning-a-view-versus-a-copy\n",
      "  df_resultado['Término'][index] = df_resultado[\"Início\"][index]\n"
     ]
    }
   ],
   "source": [
    "# - Para a ocorrência H.O.S. trocar os términos que estão vazios pelos inícios, pois o H.O.S. é sempre instantâneo.\n",
    "for index,linha in df_resultado.iterrows():\n",
    "    if linha['Ocorrência'] == \"H.O.S.\":\n",
    "        if type(df_resultado['Término'][index]) == pd._libs.tslibs.nattype.NaTType:\n",
    "            df_resultado['Término'][index] = df_resultado[\"Início\"][index]"
   ]
  },
  {
   "cell_type": "markdown",
   "metadata": {},
   "source": [
    "Describe de cada DataFrame"
   ]
  },
  {
   "cell_type": "code",
   "execution_count": 124,
   "metadata": {},
   "outputs": [
    {
     "name": "stdout",
     "output_type": "stream",
     "text": [
      "count    22547.000000\n",
      "mean      1610.828004\n",
      "std        930.762839\n",
      "min          0.000000\n",
      "25%        805.000000\n",
      "50%       1610.000000\n",
      "75%       2416.000000\n",
      "max       3225.000000\n",
      "Name: ID, dtype: float64\n",
      "count     22547\n",
      "unique        7\n",
      "top       UN-BS\n",
      "freq      11389\n",
      "Name: Unidade Operativa, dtype: object\n",
      "count     22547\n",
      "unique       44\n",
      "top       P- 77\n",
      "freq       1218\n",
      "Name: UEP, dtype: object\n",
      "count              22547\n",
      "unique                59\n",
      "top       EAGLE PAULINIA\n",
      "freq                1127\n",
      "Name: Navio, dtype: object\n",
      "count     22547.000000\n",
      "mean      80736.260168\n",
      "std       30074.616378\n",
      "min        2000.000000\n",
      "25%       70000.000000\n",
      "50%       79400.000000\n",
      "75%       86000.000000\n",
      "max      166000.000000\n",
      "Name: Volume Programado, dtype: float64\n",
      "count     22547.000000\n",
      "mean      80271.148486\n",
      "std       30273.130499\n",
      "min        1990.100000\n",
      "25%       70096.180000\n",
      "50%       78946.000000\n",
      "75%       85689.250000\n",
      "max      170507.000000\n",
      "Name: Volume Retirado, dtype: float64\n",
      "count      22547\n",
      "unique       843\n",
      "top       357 TA\n",
      "freq         147\n",
      "Name: Viagem, dtype: object\n",
      "count      22547\n",
      "unique        62\n",
      "top       T.B.N.\n",
      "freq       12467\n",
      "Name: Destino, dtype: object\n",
      "count                            22547\n",
      "mean     2022-10-16 05:22:29.694504960\n",
      "min                2022-01-01 00:01:00\n",
      "25%                2022-05-24 00:00:00\n",
      "50%                2022-10-14 00:00:00\n",
      "75%                2023-03-08 13:00:00\n",
      "max                2023-07-31 13:00:00\n",
      "Name: Data Prevista de Chegada, dtype: object\n",
      "count                            22547\n",
      "mean     2022-10-17 15:29:23.174169344\n",
      "min                2022-01-01 23:30:00\n",
      "25%                2022-05-25 12:10:00\n",
      "50%                2022-10-15 09:34:00\n",
      "75%                2023-03-09 23:39:34\n",
      "max                2023-08-01 18:00:00\n",
      "Name: Data Prevista de Saída, dtype: object\n",
      "count      22547\n",
      "unique         7\n",
      "top       H.O.C.\n",
      "freq        3221\n",
      "Name: Ocorrência, dtype: object\n",
      "count                            22547\n",
      "mean     2022-10-16 22:45:40.688339968\n",
      "min                2022-01-01 00:01:00\n",
      "25%                2022-05-24 16:35:00\n",
      "50%                2022-10-14 23:18:00\n",
      "75%                2023-03-09 11:15:00\n",
      "max                2023-08-01 18:00:00\n",
      "Name: Início, dtype: object\n",
      "count                            22546\n",
      "mean     2022-10-16 22:07:02.687838208\n",
      "min                2022-01-01 00:01:00\n",
      "25%                2022-05-24 16:11:45\n",
      "50%                2022-10-14 22:58:30\n",
      "75%                2023-03-09 10:23:00\n",
      "max                2023-08-01 16:48:00\n",
      "Name: Término, dtype: object\n"
     ]
    }
   ],
   "source": [
    "#Base concatenada de navios tanque dos anos 2022 e 2023\n",
    "for coluna in df_final.columns:\n",
    "    print(df_final[coluna].describe())"
   ]
  },
  {
   "cell_type": "code",
   "execution_count": 125,
   "metadata": {},
   "outputs": [
    {
     "name": "stdout",
     "output_type": "stream",
     "text": [
      "count      414\n",
      "unique      39\n",
      "top       FSME\n",
      "freq        78\n",
      "Name: INNA_SG_INSTALACAO_NAVAL, dtype: object\n",
      "count       414.000000\n",
      "mean      81346.437198\n",
      "std       12865.269127\n",
      "min       59559.000000\n",
      "25%       70348.250000\n",
      "50%       81016.000000\n",
      "75%       92166.250000\n",
      "max      104136.000000\n",
      "Name: EOOF_SQ_EVENTO_OPER_OFFLOAD, dtype: float64\n",
      "count                            414\n",
      "unique                            39\n",
      "top       FSO Cidade de Macae - MV15\n",
      "freq                              78\n",
      "Name: UEP, dtype: object\n",
      "count     414\n",
      "unique      2\n",
      "top         S\n",
      "freq      395\n",
      "Name: EOOF_IN_ATIVO, dtype: object\n",
      "count      414.000000\n",
      "mean     10667.157005\n",
      "std       1000.736541\n",
      "min       8971.000000\n",
      "25%       9826.500000\n",
      "50%      10642.000000\n",
      "75%      11513.750000\n",
      "max      12431.000000\n",
      "Name: OPOF_SQ_OPERACAO, dtype: float64\n",
      "count      414\n",
      "unique       1\n",
      "top       B005\n",
      "freq       414\n",
      "Name: TIPO_INTERRUPCAO, dtype: object\n",
      "count    414.000000\n",
      "mean       4.809219\n",
      "std       10.047754\n",
      "min        0.016667\n",
      "25%        0.500000\n",
      "50%        1.325000\n",
      "75%        4.575000\n",
      "max       92.566667\n",
      "Name: DURACAO_INTERRUPCAO, dtype: float64\n",
      "count                              414\n",
      "mean     2022-10-06 14:55:30.869565184\n",
      "min                2022-01-01 00:00:00\n",
      "25%                2022-05-17 00:27:15\n",
      "50%                2022-10-01 09:31:00\n",
      "75%                2023-02-21 13:03:00\n",
      "max                2023-07-27 00:56:00\n",
      "Name: INICIO_INTERRUPCAO, dtype: object\n",
      "count                              414\n",
      "mean     2022-10-06 19:44:04.057970688\n",
      "min                2022-01-01 00:24:00\n",
      "25%                2022-05-17 13:22:30\n",
      "50%                2022-10-01 12:26:00\n",
      "75%                2023-02-21 16:34:30\n",
      "max                2023-07-27 01:30:00\n",
      "Name: FIM_INTERRUPCAO, dtype: object\n",
      "count      414\n",
      "unique      35\n",
      "top       F8BT\n",
      "freq        33\n",
      "Name: EOOF_CD_RESPONSAVEL, dtype: object\n",
      "count     356\n",
      "unique    335\n",
      "top         -\n",
      "freq        4\n",
      "Name: EOOF_TX_OBSERVACAO, dtype: object\n",
      "count    414.000000\n",
      "mean      13.797101\n",
      "std        5.800759\n",
      "min        1.000000\n",
      "25%       12.000000\n",
      "50%       18.000000\n",
      "75%       18.000000\n",
      "max       18.000000\n",
      "Name: MEOF_SQ_MOTIVO_EVENT_OFFLOAD, dtype: float64\n",
      "count    0.0\n",
      "mean     NaN\n",
      "std      NaN\n",
      "min      NaN\n",
      "25%      NaN\n",
      "50%      NaN\n",
      "75%      NaN\n",
      "max      NaN\n",
      "Name: EOOF_NM_ARQUIVO_ARMAZENAMENTO, dtype: float64\n",
      "count      414.000000\n",
      "mean     10667.157005\n",
      "std       1000.736541\n",
      "min       8971.000000\n",
      "25%       9826.500000\n",
      "50%      10642.000000\n",
      "75%      11513.750000\n",
      "max      12431.000000\n",
      "Name: OPOF_SQ_OPERACAO_1, dtype: float64\n",
      "count     414\n",
      "unique      1\n",
      "top         S\n",
      "freq      414\n",
      "Name: OPOF_IN_ATIVO, dtype: object\n",
      "count     414\n",
      "unique      1\n",
      "top         E\n",
      "freq      414\n",
      "Name: OPOF_IN_STATUS, dtype: object\n",
      "count      414\n",
      "unique      51\n",
      "top       3392\n",
      "freq        21\n",
      "Name: OPOF_CD_NAVIO, dtype: object\n",
      "count     414\n",
      "unique      1\n",
      "top        M3\n",
      "freq      414\n",
      "Name: OPOF_TX_UNIDADE, dtype: object\n",
      "count                              414\n",
      "mean     2022-10-05 15:21:19.855072512\n",
      "min                2021-12-31 04:00:00\n",
      "25%                2022-05-16 00:22:30\n",
      "50%                2022-09-30 09:30:00\n",
      "75%                2023-02-20 12:00:00\n",
      "max                2023-07-26 12:00:00\n",
      "Name: Data Prevista de Chegada, dtype: object\n",
      "count                              414\n",
      "mean     2022-10-07 13:50:13.644927744\n",
      "min                2022-01-01 19:29:05\n",
      "25%      2022-05-18 07:17:32.249999872\n",
      "50%                2022-10-01 22:04:15\n",
      "75%                2023-02-22 12:03:48\n",
      "max                2023-07-27 14:03:41\n",
      "Name: Data Prevista de Saída, dtype: object\n",
      "count                              414\n",
      "mean     2022-10-05 23:30:56.376811008\n",
      "min                2021-12-31 09:25:00\n",
      "25%                2022-05-16 15:22:30\n",
      "50%                2022-09-30 17:40:00\n",
      "75%                2023-02-21 00:33:45\n",
      "max                2023-07-26 10:06:00\n",
      "Name: OPOF_DT_ENTRADA, dtype: object\n",
      "count                              414\n",
      "mean     2022-10-07 14:10:14.782608896\n",
      "min                2022-01-01 13:50:00\n",
      "25%                2022-05-18 07:09:30\n",
      "50%                2022-10-01 22:54:00\n",
      "75%                2023-02-22 14:30:00\n",
      "max                2023-07-27 14:06:00\n",
      "Name: OPOF_DT_SAIDA, dtype: object\n",
      "count        414\n",
      "unique        31\n",
      "top       T.B.N.\n",
      "freq         232\n",
      "Name: Destino, dtype: object\n",
      "count        414\n",
      "unique       234\n",
      "top       438 TA\n",
      "freq           7\n",
      "Name: Viagem, dtype: object\n",
      "count      413\n",
      "unique     303\n",
      "top       APOP\n",
      "freq        36\n",
      "Name: OPOF_CD_ESCALA, dtype: object\n",
      "count    0.0\n",
      "mean     NaN\n",
      "std      NaN\n",
      "min      NaN\n",
      "25%      NaN\n",
      "50%      NaN\n",
      "75%      NaN\n",
      "max      NaN\n",
      "Name: OPOF_TX_OBSERVACAO, dtype: float64\n",
      "count               414\n",
      "unique               49\n",
      "top       EAGLE PARAISO\n",
      "freq                 21\n",
      "Name: Navio, dtype: object\n",
      "count    0.0\n",
      "mean     NaN\n",
      "std      NaN\n",
      "min      NaN\n",
      "25%      NaN\n",
      "50%      NaN\n",
      "75%      NaN\n",
      "max      NaN\n",
      "Name: OPOF_SQ_OPERACAO_ANTERIOR, dtype: float64\n",
      "count    414.000000\n",
      "mean     309.362319\n",
      "std       80.165864\n",
      "min      225.000000\n",
      "25%      240.000000\n",
      "50%      259.000000\n",
      "75%      394.000000\n",
      "max      482.000000\n",
      "Name: INNA_SQ_INSTALACAO_NAVAL, dtype: float64\n",
      "count                              337\n",
      "mean     2022-10-04 06:13:51.869436160\n",
      "min                2021-12-31 16:42:25\n",
      "25%                2022-05-17 15:13:03\n",
      "50%                2022-09-29 04:50:43\n",
      "75%                2023-02-17 03:44:21\n",
      "max                2023-07-26 19:06:27\n",
      "Name: OPOF_DT_ATUALIZACAO, dtype: object\n",
      "count      337.000000\n",
      "mean     14413.753709\n",
      "std       1877.303432\n",
      "min      11206.000000\n",
      "25%      12831.000000\n",
      "50%      14364.000000\n",
      "75%      15928.000000\n",
      "max      17828.000000\n",
      "Name: OPOS_SQ_OPERACAO, dtype: float64\n",
      "count    0.0\n",
      "mean     NaN\n",
      "std      NaN\n",
      "min      NaN\n",
      "25%      NaN\n",
      "50%      NaN\n",
      "75%      NaN\n",
      "max      NaN\n",
      "Name: OPOF_VL_VAZAO_NV_ALIVIADOR, dtype: float64\n",
      "count    0.0\n",
      "mean     NaN\n",
      "std      NaN\n",
      "min      NaN\n",
      "25%      NaN\n",
      "50%      NaN\n",
      "75%      NaN\n",
      "max      NaN\n",
      "Name: OPOF_IN_FAIXA_VAZAO_NV_ALIV, dtype: float64\n",
      "count     414\n",
      "unique     38\n",
      "top          \n",
      "freq      363\n",
      "Name: OPOF_TX_DIVERGENCIA_VOLUME, dtype: object\n",
      "count                              414\n",
      "mean     1999-12-04 14:10:24.975845376\n",
      "min                1899-12-29 00:00:00\n",
      "25%         2022-02-19 06:37:11.500000\n",
      "50%                2022-07-25 13:58:14\n",
      "75%      2023-01-06 18:58:17.249999872\n",
      "max                2023-07-26 19:06:27\n",
      "Name: OPOF_DT_CADASTRO, dtype: object\n",
      "count     414\n",
      "unique     21\n",
      "top          \n",
      "freq      387\n",
      "Name: OPOF_TX_MOVI_QUALIDADE_PDTO, dtype: object\n",
      "count     414\n",
      "unique     11\n",
      "top          \n",
      "freq      387\n",
      "Name: OPOF_TX_SUPRIMENTO_PETROLEO, dtype: object\n",
      "count                              414\n",
      "mean     1903-07-22 10:55:24.782608640\n",
      "min                1899-12-29 00:00:00\n",
      "25%                1899-12-29 00:00:00\n",
      "50%                1899-12-29 00:00:00\n",
      "75%                1899-12-29 00:00:00\n",
      "max                2023-07-23 20:52:00\n",
      "Name: OPOF_DT_TOP, dtype: object\n",
      "count     414\n",
      "unique      5\n",
      "top         A\n",
      "freq      235\n",
      "Name: OPOF_IN_ESTACAO, dtype: object\n",
      "count             90\n",
      "unique            58\n",
      "top       13,4125236\n",
      "freq               4\n",
      "Name: OPOF_DS_INTENSIDADE_VENTO, dtype: object\n",
      "count             90\n",
      "unique            56\n",
      "top       16,9114428\n",
      "freq               5\n",
      "Name: OPOF_DS_RAJADA, dtype: object\n",
      "count     90.000000\n",
      "mean      91.955556\n",
      "std       67.684481\n",
      "min       10.000000\n",
      "25%       40.000000\n",
      "50%       67.000000\n",
      "75%      140.000000\n",
      "max      320.000000\n",
      "Name: OPOF_DS_DIRECAO_VENTO, dtype: float64\n",
      "count      90\n",
      "unique     53\n",
      "top       2,3\n",
      "freq        5\n",
      "Name: OPOF_DS_ALTURA_ONDA, dtype: object\n",
      "count      90\n",
      "unique     49\n",
      "top       7,4\n",
      "freq        4\n",
      "Name: OPOF_DS_PERIODO_ONDA, dtype: object\n",
      "count      90\n",
      "unique     63\n",
      "top       102\n",
      "freq        4\n",
      "Name: OPOF_DS_DIRECAO_ONDA, dtype: object\n"
     ]
    }
   ],
   "source": [
    "#Base de interrupções\n",
    "for coluna in dfInt.columns:\n",
    "    print(dfInt[coluna].describe())"
   ]
  },
  {
   "cell_type": "code",
   "execution_count": 126,
   "metadata": {},
   "outputs": [
    {
     "name": "stdout",
     "output_type": "stream",
     "text": [
      "count    45332.000000\n",
      "mean      1613.673564\n",
      "std        930.567314\n",
      "min          0.000000\n",
      "25%        808.000000\n",
      "50%       1612.500000\n",
      "75%       2420.000000\n",
      "max       3225.000000\n",
      "Name: ID, dtype: float64\n",
      "count     45332\n",
      "unique        7\n",
      "top       UN-BS\n",
      "freq      22806\n",
      "Name: Unidade Operativa, dtype: object\n",
      "count     45332\n",
      "unique       44\n",
      "top       P- 77\n",
      "freq       2436\n",
      "Name: UEP, dtype: object\n",
      "count              45332\n",
      "unique                59\n",
      "top       EAGLE PAULINIA\n",
      "freq                2282\n",
      "Name: Navio, dtype: object\n",
      "count     45332.000000\n",
      "mean      80791.752316\n",
      "std       30078.424007\n",
      "min        2000.000000\n",
      "25%       70000.000000\n",
      "50%       79500.000000\n",
      "75%       87000.000000\n",
      "max      166000.000000\n",
      "Name: Volume Programado, dtype: float64\n",
      "count     45332.000000\n",
      "mean      80317.156626\n",
      "std       30274.292971\n",
      "min        1990.100000\n",
      "25%       70096.180000\n",
      "50%       78959.955000\n",
      "75%       86001.940000\n",
      "max      170507.000000\n",
      "Name: Volume Retirado, dtype: float64\n"
     ]
    },
    {
     "name": "stdout",
     "output_type": "stream",
     "text": [
      "count      45332\n",
      "unique       843\n",
      "top       357 TA\n",
      "freq         294\n",
      "Name: Viagem, dtype: object\n",
      "count      45332\n",
      "unique        62\n",
      "top       T.B.N.\n",
      "freq       25116\n",
      "Name: Destino, dtype: object\n",
      "count                            45332\n",
      "mean     2022-10-16 17:33:31.669549056\n",
      "min                2022-01-01 00:01:00\n",
      "25%                2022-05-24 12:00:00\n",
      "50%                2022-10-14 14:45:00\n",
      "75%                2023-03-09 13:00:00\n",
      "max                2023-07-31 13:00:00\n",
      "Name: Data Prevista de Chegada, dtype: object\n",
      "count                            45332\n",
      "mean     2022-10-18 03:40:54.558986752\n",
      "min                2022-01-01 23:30:00\n",
      "25%                2022-05-25 21:08:00\n",
      "50%                2022-10-16 06:05:00\n",
      "75%                2023-03-10 20:30:00\n",
      "max                2023-08-01 18:00:00\n",
      "Name: Data Prevista de Saída, dtype: object\n",
      "count      45332\n",
      "unique         7\n",
      "top       H.O.C.\n",
      "freq        6476\n",
      "Name: Ocorrência, dtype: object\n",
      "count                            45332\n",
      "mean     2022-10-17 10:59:47.880084480\n",
      "min                2022-01-01 00:01:00\n",
      "25%                2022-05-25 08:12:00\n",
      "50%                2022-10-15 08:00:00\n",
      "75%                2023-03-10 01:24:00\n",
      "max                2023-08-01 18:00:00\n",
      "Name: Início, dtype: object\n",
      "count                            45183\n",
      "mean     2022-10-17 13:02:22.804594688\n",
      "min                2022-01-01 00:01:00\n",
      "25%                2022-05-25 09:00:00\n",
      "50%                2022-10-15 10:25:00\n",
      "75%                2023-03-10 08:34:00\n",
      "max                2023-08-01 18:00:00\n",
      "Name: Término, dtype: object\n",
      "count     45332\n",
      "unique        2\n",
      "top            \n",
      "freq      45000\n",
      "Name: TIPO_INTERRUPCAO, dtype: object\n",
      "count    332.000000\n",
      "mean       3.915863\n",
      "std       10.792989\n",
      "min        0.016667\n",
      "25%        0.366667\n",
      "50%        0.900000\n",
      "75%        2.200000\n",
      "max       92.566667\n",
      "Name: DURACAO_INTERRUPCAO, dtype: float64\n",
      "count                              332\n",
      "mean     2022-09-28 23:48:38.313253120\n",
      "min                2022-01-05 22:50:00\n",
      "25%                2022-04-26 03:18:00\n",
      "50%                2022-10-01 15:25:00\n",
      "75%                2023-02-19 07:50:00\n",
      "max                2023-07-27 00:56:00\n",
      "Name: INICIO_INTERRUPCAO, dtype: object\n",
      "count                              332\n",
      "mean     2022-09-29 03:40:07.951807232\n",
      "min                2022-01-06 00:00:00\n",
      "25%                2022-04-26 12:18:00\n",
      "50%                2022-10-01 15:41:00\n",
      "75%                2023-02-20 02:10:00\n",
      "max                2023-07-27 01:30:00\n",
      "Name: FIM_INTERRUPCAO, dtype: object\n"
     ]
    }
   ],
   "source": [
    "#Base final com interrupções mais navios tanque\n",
    "for coluna in df_resultado.columns:\n",
    "    print(df_resultado[coluna].describe())"
   ]
  },
  {
   "cell_type": "markdown",
   "metadata": {},
   "source": [
    "Exportar base"
   ]
  },
  {
   "cell_type": "code",
   "execution_count": 129,
   "metadata": {},
   "outputs": [],
   "source": [
    "df_resultado.to_excel('c:\\\\Users\\\\caiobarreto\\\\Downloads\\\\teste.xlsx', index=False)"
   ]
  }
 ],
 "metadata": {
  "kernelspec": {
   "display_name": "Python 3",
   "language": "python",
   "name": "python3"
  },
  "language_info": {
   "codemirror_mode": {
    "name": "ipython",
    "version": 3
   },
   "file_extension": ".py",
   "mimetype": "text/x-python",
   "name": "python",
   "nbconvert_exporter": "python",
   "pygments_lexer": "ipython3",
   "version": "3.11.9"
  }
 },
 "nbformat": 4,
 "nbformat_minor": 2
}
