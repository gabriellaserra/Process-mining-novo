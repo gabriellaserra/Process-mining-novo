{
 "cells": [
  {
   "cell_type": "code",
   "execution_count": 38,
   "metadata": {},
   "outputs": [
    {
     "name": "stdout",
     "output_type": "stream",
     "text": [
      "Número de eventos: 42\n",
      "Número de casos: 6\n"
     ]
    }
   ],
   "source": [
    "import pandas\n",
    "import pm4py\n",
    "\n",
    "def import_csv(file_path):\n",
    "    event_log = pandas.read_csv(file_path, sep=';') #Carrega o log de eventos\n",
    "    num_events = len(event_log) #Numero de eventos\n",
    "    num_cases = len(event_log.case_id.unique()) #Numero de casos\n",
    "    print(\"Número de eventos: {}\\nNúmero de casos: {}\".format(num_events, num_cases)) #Exibir o número de eventos e de casos\n",
    "\n",
    "if __name__ == \"__main__\":\n",
    "    import_csv(\"Y:\\\\git\\\\Process Mining\\\\grupo-2\\\\Bases_de_Dados\\\\running-example.csv\")"
   ]
  },
  {
   "cell_type": "code",
   "execution_count": 39,
   "metadata": {},
   "outputs": [
    {
     "name": "stdout",
     "output_type": "stream",
     "text": [
      "Inicio das Atividades: {'register request': 6}\n",
      "Fim das Atividades: {'reject request': 3, 'pay compensation': 3}\n"
     ]
    }
   ],
   "source": [
    "import pandas\n",
    "import pm4py\n",
    "\n",
    "def import_csv(file_path):\n",
    "    event_log = pandas.read_csv(file_path, sep=';') #Carrega o log de eventos\n",
    "    event_log = pm4py.format_dataframe(event_log, case_id='case_id', activity_key='activity', timestamp_key='timestamp') #Cria uma cópia do log e renomeia as olunas para o padrão usado no pm4py\n",
    "    inicio_atividades = pm4py.get_start_activities(event_log) #Número de rastreamento que ocorrem primeiro\n",
    "    fim_atividades = pm4py.get_end_activities(event_log) #Número de rastreamentos que ocorrem no final\n",
    "    print(\"Inicio das Atividades: {}\\nFim das Atividades: {}\".format(inicio_atividades, fim_atividades))\n",
    "\n",
    "if __name__ == \"__main__\":\n",
    "    import_csv(\"Y:\\\\git\\\\Process Mining\\\\grupo-2\\\\Bases_de_Dados\\\\running-example.csv\")"
   ]
  }
 ],
 "metadata": {
  "kernelspec": {
   "display_name": "Python 3",
   "language": "python",
   "name": "python3"
  },
  "language_info": {
   "codemirror_mode": {
    "name": "ipython",
    "version": 3
   },
   "file_extension": ".py",
   "mimetype": "text/x-python",
   "name": "python",
   "nbconvert_exporter": "python",
   "pygments_lexer": "ipython3",
   "version": "3.11.8"
  }
 },
 "nbformat": 4,
 "nbformat_minor": 2
}
