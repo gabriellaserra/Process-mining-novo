{
 "cells": [
  {
   "cell_type": "markdown",
   "metadata": {},
   "source": [
    "Código do Process Map"
   ]
  },
  {
   "cell_type": "code",
   "execution_count": 28,
   "metadata": {},
   "outputs": [
    {
     "name": "stdout",
     "output_type": "stream",
     "text": [
      "Process graph saved as 'process_graph.png'\n"
     ]
    }
   ],
   "source": [
    "import pandas as pd\n",
    "import pm4py\n",
    "from graphviz import Digraph\n",
    "\n",
    "def import_csv(file_path):\n",
    "    # Carregar o log de eventos a partir do arquivo CSV\n",
    "    event_log = pd.read_csv(file_path, sep=';')\n",
    "    \n",
    "    # Converter a coluna 'timestamp' para o formato de data/hora\n",
    "    event_log['timestamp'] = pd.to_datetime(event_log['timestamp'])\n",
    "    \n",
    "    # Calcular o tempo gasto em cada ação para todos os pacientes\n",
    "    action_times = {}\n",
    "    action_freq = {}\n",
    "    for action in event_log['activity'].unique():\n",
    "        action_group = event_log[event_log['activity'] == action]\n",
    "        action_times[action] = action_group['timestamp'].max() - action_group['timestamp'].min()\n",
    "        action_freq[action] = len(action_group['case_id'].unique())\n",
    "    \n",
    "    # Calcular a frequência e o tempo médio de cada situação\n",
    "    situation_freq = {}\n",
    "    situation_times = {}\n",
    "    for i, situation in event_log[['activity', 'case_id']].drop_duplicates().iterrows():\n",
    "        situation_group = event_log[(event_log['activity'] == situation['activity']) & (event_log['case_id'] == situation['case_id'])]\n",
    "        situation_freq[situation['activity']] = len(situation_group['case_id'].unique())\n",
    "        situation_times[situation['activity']] = (situation_group['timestamp'].max() - situation_group['timestamp'].min()) / situation_freq[situation['activity']]\n",
    "    \n",
    "    # Calcular a média dos tempos em horas\n",
    "    total_time_hours = sum(action_times.values(), pd.Timedelta(0)).total_seconds() / 3600\n",
    "    num_actions = len(action_times)\n",
    "    if num_actions != 0:\n",
    "        average_time_hours = total_time_hours / num_actions\n",
    "    else:\n",
    "        average_time_hours = 0\n",
    "    \n",
    "    # Descobrir o modelo de processo usando o algoritmo Alpha Miner\n",
    "    event_log = pm4py.format_dataframe(event_log, case_id='case_id', activity_key='activity', timestamp_key='timestamp')\n",
    "    net, initial_marking, final_marking = pm4py.discover_petri_net_alpha(event_log)\n",
    "    \n",
    "    # Criar um objeto Digraph do Graphviz\n",
    "    dot = Digraph(comment='Process Mining', format='png')\n",
    "    \n",
    "    # Adicionar nós ao grafo\n",
    "    for p in net.places:\n",
    "        if p.name in situation_times:\n",
    "            # Adicionar frequência e tempo médio como rótulo do nó\n",
    "            if situation_times[p.name] >= pd.Timedelta(days=1):\n",
    "                label = f\"{p.name} (Freq.: {situation_freq[p.name]}, Tempo médio: {situation_times[p.name].days:.1f} dias)\"\n",
    "            else:\n",
    "                label = f\"{p.name} (Freq.: {situation_freq[p.name]}, Tempo médio: {situation_times[p.name].seconds / 3600:.1f} horas)\"\n",
    "        else:\n",
    "            label = p.name\n",
    "        if p.name == \"start\":\n",
    "            dot.node(p.name, label=label, style=\"filled\", fillcolor=\"green\")\n",
    "        elif p.name == \"end\":\n",
    "            dot.node(p.name, label=label, style=\"filled\", fillcolor=\"green\")\n",
    "        else:\n",
    "            dot.node(p.name, label=label)\n",
    "\n",
    "    dot.edge(\"start\", list(net.transitions)[0].name, style=\"invis\")\n",
    "    dot.edge(list(net.transitions)[-1].name, \"end\", style=\"invis\")\n",
    "    \n",
    "    # Adicionar transições ao grafo\n",
    "    for t in net.transitions:\n",
    "        if t.name in action_times:\n",
    "            label = f\"{t.name}\\nFreq.: {action_freq[t.name]}\\nTempo médio: {action_times[t.name].seconds / 3600:.1f} horas\"\n",
    "        else:\n",
    "            label = t.name\n",
    "\n",
    "        dot.node(t.name, label=label, shape='rectangle', style='filled', fillcolor='lightblue')\n",
    "    \n",
    "    # Adicionar arestas ao grafo\n",
    "    for arc in net.arcs:\n",
    "        dot.edge(arc.source.name, arc.target.name)\n",
    "       \n",
    "\n",
    "    # Salvar o gráfico em um arquivo\n",
    "    dot.render('process_graph', format='png', cleanup=True)\n",
    "    print(\"Process graph saved as 'process_graph.png'\")\n",
    "\n",
    "if __name__ == \"__main__\":\n",
    "    file_path = \"C:\\\\Caio\\\\grupo-2\\\\Bases_de_Dados\\\\running-example_3.csv\"\n",
    "    import_csv(file_path)"
   ]
  },
  {
   "cell_type": "markdown",
   "metadata": {},
   "source": [
    "Código Rede de Petri"
   ]
  },
  {
   "cell_type": "code",
   "execution_count": null,
   "metadata": {},
   "outputs": [],
   "source": [
    "import pandas as pd\n",
    "import pm4py\n",
    "from pm4py.algo.discovery.alpha import algorithm as alpha_miner\n",
    "from pm4py.visualization.petri_net import visualizer as pn_visualizer\n",
    "import os\n",
    "\n",
    "def import_csv(file_path):\n",
    "    # Carregar o log de eventos a partir do arquivo CSV\n",
    "    event_log = pd.read_csv(file_path, sep=';')\n",
    "    \n",
    "    # Converter a coluna 'timestamp' para o formato de data/hora\n",
    "    event_log['timestamp'] = pd.to_datetime(event_log['timestamp'])\n",
    "    \n",
    "    # Descobrir o modelo de processo usando o algoritmo Alpha Miner\n",
    "    event_log = pm4py.format_dataframe(event_log, case_id='case_id', activity_key='activity', timestamp_key='timestamp')\n",
    "    net, initial_marking, final_marking = alpha_miner.apply(event_log)\n",
    "    \n",
    "    # Visualizar o modelo de processo\n",
    "    gviz = pn_visualizer.apply(net, initial_marking, final_marking)\n",
    "    pn_visualizer.view(gviz)  # Esta linha exibe o gráfico gerado pelo Graphviz\n",
    "\n",
    "import_csv('C:\\\\Caio\\\\grupo-2\\\\Bases_de_Dados\\\\running-example_3.csv')\n",
    "\n"
   ]
  }
 ],
 "metadata": {
  "kernelspec": {
   "display_name": "Python 3",
   "language": "python",
   "name": "python3"
  },
  "language_info": {
   "codemirror_mode": {
    "name": "ipython",
    "version": 3
   },
   "file_extension": ".py",
   "mimetype": "text/x-python",
   "name": "python",
   "nbconvert_exporter": "python",
   "pygments_lexer": "ipython3",
   "version": "3.11.8"
  }
 },
 "nbformat": 4,
 "nbformat_minor": 2
}
