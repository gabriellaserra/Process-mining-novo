{
 "cells": [
  {
   "cell_type": "code",
   "execution_count": null,
   "metadata": {},
   "outputs": [],
   "source": [
    "arq=open(\"Y:\\\\git\\\\Process Mining\\\\grupo-2\\\\Bases_de_Dados\\\\running-example_3.csv\", \"r\")\n",
    "for linha in arq:\n",
    "    linha=linha.strip().split(\";\")\n",
    "    print (linha)\n",
    "arq.close()"
   ]
  },
  {
   "cell_type": "code",
   "execution_count": null,
   "metadata": {},
   "outputs": [],
   "source": [
    "import pandas\n",
    "import pm4py\n",
    "\n",
    "def import_csv(file_path):\n",
    "    event_log = pandas.read_csv(file_path, sep=';') #Carrega o log de eventos\n",
    "    event_log = pm4py.format_dataframe(event_log, case_id='case_id', activity_key='activity', timestamp_key='timestamp') #Cria uma cópia do log e renomeia as colunas para o padrão usado no pm4py\n",
    "    start_activities = pm4py.get_start_activities(event_log) #Número de rastreamento que ocorrem primeiro\n",
    "    end_activities = pm4py.get_end_activities(event_log) #Número de rastreamentos que ocorrem no final\n",
    "    num_events = len(event_log) #Numero de eventos\n",
    "    num_cases = len(event_log.case_id.unique()) #Numero de casos\n",
    "    print(\"Número de eventos: {}\\nNúmero de casos: {}\".format(num_events, num_cases)) #Exibir o número de eventos e de casos\n",
    "    print(\"Inicio das Atividades: {}\\nFim das Atividades: {}\".format(start_activities, end_activities)) #Exibir o inicio e o fim das atividades\n",
    "\n",
    "if __name__ == \"__main__\":\n",
    "    import_csv(\"Y:\\\\git\\\\Process Mining\\\\grupo-2\\\\Bases_de_Dados\\\\running-example_3.csv\")"
   ]
  },
  {
   "cell_type": "code",
   "execution_count": 34,
   "metadata": {},
   "outputs": [
    {
     "name": "stdout",
     "output_type": "stream",
     "text": [
      "Paciente 1: Tempo total no hospital: 8 days 03:22:00\n",
      "Paciente 2: Tempo total no hospital: 9 days 00:33:00\n",
      "Paciente 3: Tempo total no hospital: 15 days 20:13:00\n",
      "Paciente 4: Tempo total no hospital: 6 days 00:42:00\n",
      "Paciente 5: Tempo total no hospital: 18 days 05:54:00\n",
      "Paciente 6: Tempo total no hospital: 9 days 20:45:00\n"
     ]
    }
   ],
   "source": [
    "import pandas as pd\n",
    "from datetime import datetime\n",
    "\n",
    "def import_csv(file_path):\n",
    "    event_log = pd.read_csv(file_path, sep=';')\n",
    "    \n",
    "    # Converter a coluna 'timestamp' para o formato de data/hora\n",
    "    event_log['timestamp'] = pd.to_datetime(event_log['timestamp'])\n",
    "    \n",
    "    # Agrupar os eventos por paciente\n",
    "    grouped_events = event_log.groupby('case_id')\n",
    "    \n",
    "    # Calcular o tempo total para cada paciente\n",
    "    for case_id, group in grouped_events:\n",
    "        first_event_time = group['timestamp'].min()\n",
    "        last_event_time = group['timestamp'].max()\n",
    "        total_time = last_event_time - first_event_time\n",
    "        \n",
    "        # Imprimir o resultado\n",
    "        print(f\"Paciente {case_id}: Tempo total no hospital: {total_time}\")\n",
    "\n",
    "if __name__ == \"__main__\":\n",
    "    file_path = \"Y:\\\\git\\\\Process Mining\\\\grupo-2\\\\Bases_de_Dados\\\\running-example_3.csv\"  \n",
    "    import_csv(file_path)\n"
   ]
  },
  {
   "cell_type": "code",
   "execution_count": 1,
   "metadata": {},
   "outputs": [
    {
     "name": "stdout",
     "output_type": "stream",
     "text": [
      "Ação: register request - Tempo médio: 172 horas 0 minutos e 0 segundos\n",
      "Ação: examine casually - Tempo médio: 522 horas 50 minutos e 0 segundos\n",
      "Ação: check ticket - Tempo médio: 527 horas 22 minutos e 0 segundos\n",
      "Ação: decide - Tempo médio: 433 horas 50 minutos e 0 segundos\n",
      "Ação: reinitiate request - Tempo médio: 336 horas 30 minutos e 0 segundos\n",
      "Ação: examine thoroughly - Tempo médio: 196 horas 37 minutos e 0 segundos\n",
      "Ação: pay compensation - Tempo médio: 191 horas 42 minutos e 0 segundos\n",
      "Ação: reject request - Tempo médio: 408 horas 32 minutos e 0 segundos\n",
      "Tempo médio total: 19 days 08:53:50\n"
     ]
    }
   ],
   "source": [
    "import pandas as pd\n",
    "\n",
    "def import_csv(file_path):\n",
    "    event_log = pd.read_csv(file_path, sep=';')\n",
    "    \n",
    "    # Converter a coluna 'timestamp' para o formato de data/hora\n",
    "    event_log['timestamp'] = pd.to_datetime(event_log['timestamp'])\n",
    "    \n",
    "    # Calcular o tempo gasto em cada ação para todos os pacientes\n",
    "    action_times = {}\n",
    "    for action in event_log['activity'].unique():\n",
    "        action_group = event_log[event_log['activity'] == action]\n",
    "        action_times[action] = action_group['timestamp'].max() - action_group['timestamp'].min()\n",
    "    \n",
    "    # Calcular a média dos tempos em segundos\n",
    "    total_time_seconds = sum(action_times.values(), pd.Timedelta(0)).total_seconds()\n",
    "    num_patients = len(event_log['case_id'].unique())\n",
    "    average_time_seconds = total_time_seconds / num_patients\n",
    "    \n",
    "    # Converter a média de volta para um objeto Timedelta\n",
    "    average_time = pd.Timedelta(seconds=average_time_seconds)\n",
    "    \n",
    "    # Imprimir o resultado para todas as ações\n",
    "    for action, time in action_times.items():\n",
    "        total_seconds = time.total_seconds()\n",
    "        minutes, seconds = divmod(total_seconds, 60)\n",
    "        hours, minutes = divmod(minutes,60)\n",
    "        \n",
    "        print(f\"Ação: {action} - Tempo médio: {hours:.0f} horas {minutes:.0f} minutos e {seconds:.0f} segundos\")\n",
    "    \n",
    "    print(f\"Tempo médio total: {average_time}\")\n",
    "\n",
    "if __name__ == \"__main__\":\n",
    "    file_path = \"Y:\\\\git\\\\Process Mining\\\\grupo-2\\\\Bases_de_Dados\\\\running-example_3.csv\" \n",
    "    import_csv(file_path)\n"
   ]
  }
 ],
 "metadata": {
  "kernelspec": {
   "display_name": "Python 3",
   "language": "python",
   "name": "python3"
  },
  "language_info": {
   "codemirror_mode": {
    "name": "ipython",
    "version": 3
   },
   "file_extension": ".py",
   "mimetype": "text/x-python",
   "name": "python",
   "nbconvert_exporter": "python",
   "pygments_lexer": "ipython3",
   "version": "3.11.8"
  }
 },
 "nbformat": 4,
 "nbformat_minor": 2
}
