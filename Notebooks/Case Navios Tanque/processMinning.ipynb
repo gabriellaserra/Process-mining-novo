{
 "cells": [
  {
   "cell_type": "code",
   "execution_count": 55,
   "metadata": {},
   "outputs": [],
   "source": [
    "import pm4py\n",
    "import pandas as pd\n",
    "import datetime\n",
    "import numpy as np"
   ]
  },
  {
   "cell_type": "code",
   "execution_count": 18,
   "metadata": {},
   "outputs": [],
   "source": [
    "df = pd.read_excel(\"BaseFormato_unificado.xlsx\")\n",
    "df['ID'] = df['ID'].astype(str)"
   ]
  },
  {
   "cell_type": "code",
   "execution_count": 19,
   "metadata": {},
   "outputs": [],
   "source": [
    "performance_dfg, start_activities, end_activities = pm4py.discover_performance_dfg(df, case_id_key='ID', \n",
    "                                                                                   activity_key='Ocorrência', timestamp_key= 'Início')"
   ]
  },
  {
   "cell_type": "code",
   "execution_count": 36,
   "metadata": {},
   "outputs": [
    {
     "data": {
      "text/plain": [
       "{('H.O.C.', 'H.O.C.'): {'mean': 0.0,\n",
       "  'median': 0.0,\n",
       "  'max': 0.0,\n",
       "  'min': 0.0,\n",
       "  'sum': 0.0,\n",
       "  'stdev': 0.0},\n",
       " ('H.O.C.', 'H.O.S.'): {'mean': 0.0,\n",
       "  'median': 0.0,\n",
       "  'max': 0.0,\n",
       "  'min': 0.0,\n",
       "  'sum': 0.0,\n",
       "  'stdev': nan},\n",
       " ('H.O.C.', 'Primeira Amarração'): {'mean': 33726.361085126286,\n",
       "  'median': 17940.0,\n",
       "  'max': 527100.0,\n",
       "  'min': 0.0,\n",
       "  'sum': 108160440.0,\n",
       "  'stdev': 41038.75527484209},\n",
       " ('H.O.C.', 'Primeiro Bombeio'): {'mean': 1980.0,\n",
       "  'median': 1980.0,\n",
       "  'max': 3960.0,\n",
       "  'min': 0.0,\n",
       "  'sum': 3960.0,\n",
       "  'stdev': 2800.142853498728},\n",
       " ('H.O.C.', 'Última Desconexão'): {'mean': 35436.0,\n",
       "  'median': 22500.0,\n",
       "  'max': 81000.0,\n",
       "  'min': 16560.0,\n",
       "  'sum': 177180.0,\n",
       "  'stdev': 26891.836679557608},\n",
       " ('H.O.S.', 'H.O.C.'): {'mean': 76900.0,\n",
       "  'median': 70380.0,\n",
       "  'max': 142200.0,\n",
       "  'min': 27000.0,\n",
       "  'sum': 461400.0,\n",
       "  'stdev': 39611.24688772117},\n",
       " ('H.O.S.', 'H.O.S.'): {'mean': 0.0,\n",
       "  'median': 0.0,\n",
       "  'max': 0.0,\n",
       "  'min': 0.0,\n",
       "  'sum': 0.0,\n",
       "  'stdev': 0.0},\n",
       " ('Primeira Amarração', 'Primeira Amarração'): {'mean': 0.0,\n",
       "  'median': 0.0,\n",
       "  'max': 0.0,\n",
       "  'min': 0.0,\n",
       "  'sum': 0.0,\n",
       "  'stdev': 0.0},\n",
       " ('Primeira Amarração', 'Primeira Conexão'): {'mean': 4869.146227879541,\n",
       "  'median': 3900.0,\n",
       "  'max': 166560.0,\n",
       "  'min': 120.0,\n",
       "  'sum': 15683520.0,\n",
       "  'stdev': 6867.417927528786},\n",
       " ('Primeira Conexão', 'H.O.C.'): {'mean': 31860.0,\n",
       "  'median': 31860.0,\n",
       "  'max': 60840.0,\n",
       "  'min': 2880.0,\n",
       "  'sum': 63720.0,\n",
       "  'stdev': 40983.909037572295},\n",
       " ('Primeira Conexão', 'Primeira Conexão'): {'mean': 0.0,\n",
       "  'median': 0.0,\n",
       "  'max': 0.0,\n",
       "  'min': 0.0,\n",
       "  'sum': 0.0,\n",
       "  'stdev': 0.0},\n",
       " ('Primeira Conexão', 'Primeiro Bombeio'): {'mean': 11782.739981360672,\n",
       "  'median': 9960.0,\n",
       "  'max': 578640.0,\n",
       "  'min': 3840.0,\n",
       "  'sum': 37928640.0,\n",
       "  'stdev': 13409.944736930644},\n",
       " ('Primeiro Bombeio', 'H.O.C.'): {'mean': 23652.0,\n",
       "  'median': 31500.0,\n",
       "  'max': 38520.0,\n",
       "  'min': 5400.0,\n",
       "  'sum': 118260.0,\n",
       "  'stdev': 14459.277990273235},\n",
       " ('Primeiro Bombeio', 'Primeiro Bombeio'): {'mean': 59738.82352941176,\n",
       "  'median': 60600.0,\n",
       "  'max': 90000.0,\n",
       "  'min': 12240.0,\n",
       "  'sum': 1015560.0,\n",
       "  'stdev': 26381.08078774279},\n",
       " ('Primeiro Bombeio', 'Última Desconexão'): {'mean': 71689.77611940299,\n",
       "  'median': 62640.0,\n",
       "  'max': 911160.0,\n",
       "  'min': 3000.0,\n",
       "  'sum': 230554320.0,\n",
       "  'stdev': 41467.336848788465},\n",
       " ('Última Desamarração', 'H.O.C.'): {'mean': 2820.0,\n",
       "  'median': 2820.0,\n",
       "  'max': 2820.0,\n",
       "  'min': 2820.0,\n",
       "  'sum': 2820.0,\n",
       "  'stdev': nan},\n",
       " ('Última Desamarração', 'H.O.S.'): {'mean': 4567.39751552795,\n",
       "  'median': 2700.0,\n",
       "  'max': 434700.0,\n",
       "  'min': 540.0,\n",
       "  'sum': 14707020.0,\n",
       "  'stdev': 12025.356809540543},\n",
       " ('Última Desamarração', 'Última Desamarração'): {'mean': 0.0,\n",
       "  'median': 0.0,\n",
       "  'max': 0.0,\n",
       "  'min': 0.0,\n",
       "  'sum': 0.0,\n",
       "  'stdev': 0.0},\n",
       " ('Última Desconexão', 'Última Desamarração'): {'mean': 3066.2775535547967,\n",
       "  'median': 2640.0,\n",
       "  'max': 89100.0,\n",
       "  'min': 120.0,\n",
       "  'sum': 9876480.0,\n",
       "  'stdev': 3726.3602821994778},\n",
       " ('Última Desconexão', 'Última Desconexão'): {'mean': 0.0,\n",
       "  'median': 0.0,\n",
       "  'max': 0.0,\n",
       "  'min': 0.0,\n",
       "  'sum': 0.0,\n",
       "  'stdev': 0.0}}"
      ]
     },
     "execution_count": 36,
     "metadata": {},
     "output_type": "execute_result"
    }
   ],
   "source": [
    "performance_dfg"
   ]
  },
  {
   "cell_type": "code",
   "execution_count": 60,
   "metadata": {},
   "outputs": [
    {
     "name": "stdout",
     "output_type": "stream",
     "text": [
      "nan\n",
      "nan\n"
     ]
    },
    {
     "ename": "TypeError",
     "evalue": "'float' object cannot be interpreted as an integer",
     "output_type": "error",
     "traceback": [
      "\u001b[1;31m---------------------------------------------------------------------------\u001b[0m",
      "\u001b[1;31mTypeError\u001b[0m                                 Traceback (most recent call last)",
      "Cell \u001b[1;32mIn[60], line 10\u001b[0m\n\u001b[0;32m      8\u001b[0m     seg \u001b[38;5;241m=\u001b[39m (val\u001b[38;5;241m%\u001b[39m\u001b[38;5;241m3600\u001b[39m)\u001b[38;5;241m%\u001b[39m\u001b[38;5;241m60\u001b[39m\n\u001b[0;32m      9\u001b[0m     \u001b[38;5;28mprint\u001b[39m(horas)\n\u001b[1;32m---> 10\u001b[0m     valor[calc]\u001b[38;5;241m=\u001b[39m \u001b[43mdatetime\u001b[49m\u001b[38;5;241;43m.\u001b[39;49m\u001b[43mtime\u001b[49m\u001b[43m(\u001b[49m\u001b[43mhour\u001b[49m\u001b[38;5;241;43m=\u001b[39;49m\u001b[43mhoras\u001b[49m\u001b[43m,\u001b[49m\u001b[43m \u001b[49m\u001b[43mminute\u001b[49m\u001b[38;5;241;43m=\u001b[39;49m\u001b[43mminutos\u001b[49m\u001b[43m,\u001b[49m\u001b[43m \u001b[49m\u001b[43msecond\u001b[49m\u001b[38;5;241;43m=\u001b[39;49m\u001b[43mseg\u001b[49m\u001b[43m)\u001b[49m\n\u001b[0;32m     11\u001b[0m     dicSegundosHoras[key]\u001b[38;5;241m=\u001b[39m valor\n\u001b[0;32m     12\u001b[0m \u001b[38;5;28;01melse\u001b[39;00m:\n",
      "\u001b[1;31mTypeError\u001b[0m: 'float' object cannot be interpreted as an integer"
     ]
    }
   ],
   "source": [
    "dicSegundosHoras = dict()\n",
    "for (key, valor) in performance_dfg.items():\n",
    "    for (calc, val) in valor.items():\n",
    "        if val != datetime.time(hour=0, minute=0, second=0) and val != np.nan:\n",
    "            print(val)\n",
    "            horas = val*3600\n",
    "            minutos = val%3600\n",
    "            seg = (val%3600)%60\n",
    "            print(horas)\n",
    "            valor[calc]= datetime.time(hour=horas, minute=minutos, second=seg)\n",
    "            dicSegundosHoras[key]= valor\n",
    "        else:\n",
    "            if val != np.nan:\n",
    "                valor[calc]= datetime.time(hour=0, minute=0, second=0)\n",
    "                dicSegundosHoras[key] = valor"
   ]
  }
 ],
 "metadata": {
  "kernelspec": {
   "display_name": "Python 3",
   "language": "python",
   "name": "python3"
  },
  "language_info": {
   "codemirror_mode": {
    "name": "ipython",
    "version": 3
   },
   "file_extension": ".py",
   "mimetype": "text/x-python",
   "name": "python",
   "nbconvert_exporter": "python",
   "pygments_lexer": "ipython3",
   "version": "3.11.9"
  }
 },
 "nbformat": 4,
 "nbformat_minor": 2
}
