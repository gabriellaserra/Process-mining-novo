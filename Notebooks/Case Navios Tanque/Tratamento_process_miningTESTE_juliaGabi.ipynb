{
 "cells": [
  {
   "cell_type": "code",
   "execution_count": 213,
   "metadata": {},
   "outputs": [],
   "source": [
    "# Bibliotecas\n",
    "import pandas as pd\n",
    "import numpy as np\n",
    "import matplotlib.pyplot as plt\n",
    "from datetime import datetime, timedelta\n",
    "import os\n",
    "from unidecode import unidecode\n",
    "import unicodedata"
   ]
  },
  {
   "cell_type": "markdown",
   "metadata": {},
   "source": [
    "## ANÁLISES NAVIO TANQUE"
   ]
  },
  {
   "cell_type": "code",
   "execution_count": 214,
   "metadata": {},
   "outputs": [],
   "source": [
    "#Importando as bases de dados de serviços dos anos de 2022 e 2023\n",
    "servicos_NT2022 = pd.read_excel(\"Arquivos\\\\Relatorio_NT_2022.xlsx\")\n",
    "servicos_NT2023 = pd.read_excel(\"Arquivos\\\\Relatorio_NT_2023.xlsx\")"
   ]
  },
  {
   "cell_type": "code",
   "execution_count": 215,
   "metadata": {},
   "outputs": [],
   "source": [
    "#Concatenando as bases dos dois anos em apenas uma única base\n",
    "servicos_NT=pd.concat([servicos_NT2022, servicos_NT2023])"
   ]
  },
  {
   "cell_type": "code",
   "execution_count": 216,
   "metadata": {},
   "outputs": [
    {
     "data": {
      "text/plain": [
       "3285"
      ]
     },
     "execution_count": 216,
     "metadata": {},
     "output_type": "execute_result"
    }
   ],
   "source": [
    "#Verificando a quantidade de registros da base concatenada\n",
    "len(servicos_NT)"
   ]
  },
  {
   "cell_type": "code",
   "execution_count": 217,
   "metadata": {},
   "outputs": [],
   "source": [
    "# Função para retirar os acentos e ç para facilitar as análises futuras\n",
    "servicos_NT = servicos_NT.map(lambda x: unidecode(str(x)) if isinstance(x, str) else x)\n",
    "\n",
    "#NOSSO -> Deles"
   ]
  },
  {
   "cell_type": "code",
   "execution_count": 218,
   "metadata": {},
   "outputs": [],
   "source": [
    "# Alterando para o formato data e hora as colunas para ficarem padronizadas, sendo possível comparar uma com a outra\n",
    "lFormatDate = ['Data Prevista de Chegada', 'Data Prevista de Saída', \n",
    "'H.O.C.', 'Amarração','Início de Bombeio', 'Fim de Bombeio', 'Desamarração', 'H.O.S.', 'Início Primeira Amarração','Fim Primeira Amarração','Início Primeira Conexão','Fim Primeira Conexão',\n",
    "'Início Primeiro Bombeio','Fim Último Bombeio','Início Última Desconexão','Fim Última Desconexão','Início Última Desamarração','Fim Última Desamarração']\n",
    "\n",
    "for coluna in lFormatDate:\n",
    "    servicos_NT[coluna] = pd.to_datetime(servicos_NT[coluna], dayfirst=True)"
   ]
  },
  {
   "cell_type": "code",
   "execution_count": 219,
   "metadata": {},
   "outputs": [
    {
     "data": {
      "text/plain": [
       "Index(['Unidade Operativa', 'Instalação Naval', 'Navio', 'Volume Programado',\n",
       "       'Data Prevista de Chegada', 'Data Prevista de Saída', 'Viagem',\n",
       "       'Destino', 'H.O.C.', 'Amarração', 'Início de Bombeio', 'Fim de Bombeio',\n",
       "       'Desamarração', 'H.O.S.', 'Início Primeira Amarração',\n",
       "       'Fim Primeira Amarração', 'Início Primeira Conexão',\n",
       "       'Fim Primeira Conexão', 'Início Primeiro Bombeio', 'Fim Último Bombeio',\n",
       "       'Início Última Desconexão', 'Fim Última Desconexão',\n",
       "       'Início Última Desamarração', 'Fim Última Desamarração',\n",
       "       'Nome da(s) Corrente(s)', 'Volume Retirado', 'Estaçao', 'Bsw (%)',\n",
       "       'H2SOleo (mg/kg)', 'H2SAgua (mg/l)', 'Salinidade (mg/l)',\n",
       "       'Temperatura (°C)', 'Densidade 20°', 'Volume de Água Livre (m³)',\n",
       "       'Responsável', 'Classe do Navio', 'Rebocador', 'Hora Top',\n",
       "       'Alívio Crítico', 'Apuração Alívio Crítico', 'Volume Acumulado Perdas',\n",
       "       'Lifter'],\n",
       "      dtype='object')"
      ]
     },
     "execution_count": 219,
     "metadata": {},
     "output_type": "execute_result"
    }
   ],
   "source": [
    "#Verificando as colunas existentes na base\n",
    "servicos_NT.columns"
   ]
  },
  {
   "cell_type": "code",
   "execution_count": 220,
   "metadata": {},
   "outputs": [],
   "source": [
    "servicos_NT.drop(columns=[\"Classe do Navio\",\"Rebocador\",\"Hora Top\",\"Alívio Crítico\",\"Apuração Alívio Crítico\",\"Volume Acumulado Perdas\",\"Lifter\"], inplace=True)"
   ]
  },
  {
   "cell_type": "code",
   "execution_count": 221,
   "metadata": {},
   "outputs": [
    {
     "data": {
      "text/plain": [
       "3226"
      ]
     },
     "execution_count": 221,
     "metadata": {},
     "output_type": "execute_result"
    }
   ],
   "source": [
    "# Temos registros duplicados?\n",
    "servicos_NT=servicos_NT.drop_duplicates()\n",
    "len(servicos_NT)\n",
    "# SIM!! Retiramos 59 casos"
   ]
  },
  {
   "cell_type": "code",
   "execution_count": 222,
   "metadata": {},
   "outputs": [],
   "source": [
    "#Exportando a base com as alterações já realizadas\n",
    "servicos_NT.to_excel('Arquivos\\\\Relatório_NT_Deles.xlsx')"
   ]
  },
  {
   "cell_type": "markdown",
   "metadata": {},
   "source": [
    "#### Criando novas colunas"
   ]
  },
  {
   "cell_type": "code",
   "execution_count": 223,
   "metadata": {},
   "outputs": [],
   "source": [
    "#Criando a coluna ID, considerando cada linha como um ID (sendo o ID o indice da linha)\n",
    "servicos_NT.loc[:,'ID'] = range(0, len(servicos_NT))\n",
    "columns = ['ID'] + [colunas for colunas in servicos_NT.columns if colunas != 'ID']\n",
    "servicos_NT = servicos_NT[columns]"
   ]
  },
  {
   "cell_type": "code",
   "execution_count": 224,
   "metadata": {},
   "outputs": [
    {
     "data": {
      "text/plain": [
       "Index(['ID', 'Unidade Operativa', 'Instalação Naval', 'Navio',\n",
       "       'Volume Programado', 'Data Prevista de Chegada',\n",
       "       'Data Prevista de Saída', 'Viagem', 'Destino', 'H.O.C.', 'Amarração',\n",
       "       'Início de Bombeio', 'Fim de Bombeio', 'Desamarração', 'H.O.S.',\n",
       "       'Início Primeira Amarração', 'Fim Primeira Amarração',\n",
       "       'Início Primeira Conexão', 'Fim Primeira Conexão',\n",
       "       'Início Primeiro Bombeio', 'Fim Último Bombeio',\n",
       "       'Início Última Desconexão', 'Fim Última Desconexão',\n",
       "       'Início Última Desamarração', 'Fim Última Desamarração',\n",
       "       'Nome da(s) Corrente(s)', 'Volume Retirado', 'Estaçao', 'Bsw (%)',\n",
       "       'H2SOleo (mg/kg)', 'H2SAgua (mg/l)', 'Salinidade (mg/l)',\n",
       "       'Temperatura (°C)', 'Densidade 20°', 'Volume de Água Livre (m³)',\n",
       "       'Responsável'],\n",
       "      dtype='object')"
      ]
     },
     "execution_count": 224,
     "metadata": {},
     "output_type": "execute_result"
    }
   ],
   "source": [
    "#Verificando se a coluna ID foi criada na posição desejada\n",
    "servicos_NT.columns"
   ]
  },
  {
   "cell_type": "code",
   "execution_count": 225,
   "metadata": {},
   "outputs": [],
   "source": [
    "#Criando a coluna UEP que pega o valor da coluna Instalação Naval e troca tudo que tem PETROBRÁS POR P- para ficar padronizado e similar as bases dos outros tipos de recursos\n",
    "\n",
    "#Criando uam coluna chamado 'UEP' na posição 2, com todos os registros vazios\n",
    "servicos_NT.insert(2,'UEP','')\n",
    "\n",
    "#Percorrendo a base \n",
    "for i in servicos_NT:\n",
    "    #adicionando às linhas da coluna UEP o mesmo valor que essa linha possui na coluna Instalação Naval (ou seja, a plataforma referente ao registro)\n",
    "    servicos_NT['UEP']= servicos_NT['Instalação Naval']\n",
    "    #Trocando na coluna UEP tudo que possui a string 'PETROBRAS' por 'P-'\n",
    "    servicos_NT['UEP']=servicos_NT['UEP'].str.replace('PETROBRAS ', 'P-')\n",
    "\n",
    "#NOSSO -> Com o deles realmente dá errado"
   ]
  },
  {
   "cell_type": "code",
   "execution_count": 226,
   "metadata": {},
   "outputs": [],
   "source": [
    "servicos_NT.loc[:,\"UEP\"] = servicos_NT.loc[:,\"UEP\"].str.strip()\n",
    "servicos_NT.loc[:,\"Navio\"] = servicos_NT.loc[:,\"Navio\"].str.strip()"
   ]
  },
  {
   "cell_type": "code",
   "execution_count": 227,
   "metadata": {},
   "outputs": [],
   "source": [
    "# Criando a coluna TNP_H.O.C_Amarracao que seria o tempo não produtivo entre a hora de chegada da embarcação e sua amarração\n",
    "\n",
    "#Adicionando a coluna \"TNP_HOC_Amarracao\" com todas os seus registros em branco\n",
    "servicos_NT[\"TNP_HOC_Amarracao\"]=''\n",
    "\n",
    "#Percorrendo a base\n",
    "for i in servicos_NT:\n",
    "    #Adicionando em cada linha da coluna TNP_HOC_Amarracao a subtração entre o Início Primeira Amarração dessa linha e o H.O.C.\n",
    "    servicos_NT[\"TNP_HOC_Amarracao\"]= servicos_NT[\"Início Primeira Amarração\"]- servicos_NT[\"H.O.C.\"]\n",
    "#Transformando para hora\n",
    "servicos_NT['TNP_HOC_Amarracao'] = servicos_NT['TNP_HOC_Amarracao']  / pd.Timedelta(hours=1)\n",
    "\n",
    "#NOSSO\n"
   ]
  },
  {
   "cell_type": "code",
   "execution_count": 228,
   "metadata": {},
   "outputs": [],
   "source": [
    "# Percebemos durante nossas análises que temos H.O.C repetidos e muito distantes da Amarração - isso ocorre devido a erros de preenchimento (repetiram o mesmo HOC pra viagens difernetes de um mesmo navio e plataforma)\n",
    "# Então iremos considerar H.O.C = Data Prevista de Chegada quando o Tempo_entre_previsto_chegada >= 48horas (2 dias)\n",
    "\n",
    "#Criando uma lista vazia\n",
    "HOC = []\n",
    "#Percorrendo a base\n",
    "for (idx, val) in servicos_NT.iterrows():\n",
    "    #Quando o tempo entre a chegada e amarração for maior do que 48h para a linha em questão\n",
    "    if (val['TNP_HOC_Amarracao']>=48):\n",
    "        #Adiciona à lista criada o valor da data prevista de chegada da linha em questão\n",
    "        HOC.append(val['Data Prevista de Chegada'])\n",
    "    #Caso contrário\n",
    "    else:\n",
    "        #Adiciona à lista criada o próprio valor de H.O.C. da linha em questão\n",
    "        HOC.append(val['H.O.C.'])\n",
    "#Após percorrer toda a base adicione a lista criada com seus respectivos valores na coluna H.O.C. da base na ordem em que ela está\n",
    "servicos_NT['H.O.C.'] = HOC\n",
    "\n",
    "#Logo, teremos na coluna H.O.C. da base H.O.C = Data Prevista de Chegada quando o Tempo_entre_previsto_chegada >= 48horas (2 dias), e caso contrário teremos o valor original do H.O.C para aquele registro\n",
    "\n",
    "#NOSSO"
   ]
  },
  {
   "cell_type": "code",
   "execution_count": 229,
   "metadata": {},
   "outputs": [],
   "source": [
    "# REFAZENDO o mesmo código que estava acima, criando as novas colunas (Duração total, tempo entre previsto chegada e tnp entre hoc e amarração), mas agora com a NOVA coluna H.O.C.\n",
    "servicos_NT[\"TNP_HOC_Amarracao\"]=''\n",
    "for i in servicos_NT:\n",
    "    servicos_NT[\"TNP_HOC_Amarracao\"]= servicos_NT[\"Início Primeira Amarração\"]- servicos_NT[\"H.O.C.\"]\n",
    "servicos_NT['TNP_HOC_Amarracao'] = servicos_NT['TNP_HOC_Amarracao']  / pd.Timedelta(hours=1)\n",
    "\n",
    "#NOSSO"
   ]
  },
  {
   "cell_type": "code",
   "execution_count": 230,
   "metadata": {},
   "outputs": [],
   "source": [
    "# Criando a coluna TNP_Amarracao_Conexao que seria o tempo não produtivo entre a hora do fim da amarração da embarcação e o início da conexão\n",
    "\n",
    "#Adicionando a coluna \"TNP_Amarracao_Conexao\" com todas os seus registros em branco\n",
    "servicos_NT[\"TNP_Amarracao_Conexao\"]=''\n",
    "\n",
    "#Percorrendo a base\n",
    "for i in servicos_NT:\n",
    "    #Adicionando em cada linha da coluna TNP_Amarracao_Conexao a subtração entre Início Primeira Conexão e o Fim Primeira Amarração dessa linha \n",
    "    servicos_NT[\"TNP_Amarracao_Conexao\"]= servicos_NT[\"Início Primeira Conexão\"]- servicos_NT[\"Fim Primeira Amarração\"]\n",
    "#Transformando para hora\n",
    "servicos_NT['TNP_Amarracao_Conexao'] = servicos_NT['TNP_Amarracao_Conexao']  / pd.Timedelta(hours=1)\n",
    "\n",
    "#NOSSO"
   ]
  },
  {
   "cell_type": "code",
   "execution_count": 231,
   "metadata": {},
   "outputs": [],
   "source": [
    "# Criando a coluna TNP_Conexao_Bombeio que seria o tempo não produtivo entre a hora do fim da conexão da embarcação e o início do bombeio\n",
    "\n",
    "#Adicionando a coluna \"Duracao_Conexao\" com todas os seus registros em branco\n",
    "servicos_NT[\"TNP_Conexao_Bombeio\"]=''\n",
    "\n",
    "#Percorrendo a base\n",
    "for i in servicos_NT:\n",
    "    #Adicionando em cada linha da coluna TNP_Conexao_Bombeio a subtração entre Início Primeiro Bombeio e o Fim Primeira Conexão dessa linha \n",
    "    servicos_NT[\"TNP_Conexao_Bombeio\"]= servicos_NT[\"Início Primeiro Bombeio\"]- servicos_NT[\"Fim Primeira Conexão\"]\n",
    "#Transformando para hora\n",
    "servicos_NT['TNP_Conexao_Bombeio'] = servicos_NT['TNP_Conexao_Bombeio']  / pd.Timedelta(hours=1)\n",
    "\n",
    "#NOSSO"
   ]
  },
  {
   "cell_type": "code",
   "execution_count": 232,
   "metadata": {},
   "outputs": [],
   "source": [
    "# Criando a coluna TNP_Bombeio_Desconexao que seria o tempo não produtivo entre a hora do fim do último bombeio da embarcação e o início da desconexão\n",
    "\n",
    "#Adicionando a coluna \"TNP_Bombeio_Desconexao\" com todas os seus registros em branco\n",
    "servicos_NT[\"TNP_Bombeio_Desconexao\"]=''\n",
    "\n",
    "#Percorrendo a base\n",
    "for i in servicos_NT:\n",
    "    #Adicionando em cada linha da coluna TNP_Bombeio_Desconexao a subtração entre Início Última Desconexão e o Fim Último Bombeio\n",
    "    servicos_NT[\"TNP_Bombeio_Desconexao\"]= servicos_NT[\"Início Última Desconexão\"]- servicos_NT[\"Fim Último Bombeio\"]\n",
    "#Transformando para hora\n",
    "servicos_NT['TNP_Bombeio_Desconexao'] = servicos_NT['TNP_Bombeio_Desconexao']  / pd.Timedelta(hours=1)\n",
    "\n",
    "#NOSSO"
   ]
  },
  {
   "cell_type": "code",
   "execution_count": 233,
   "metadata": {},
   "outputs": [],
   "source": [
    "# Criando a coluna TNP_Desconexao_Desamarracao que seria o tempo não produtivo entre a hora do fim da última desconexão da embarcação e o início da última desamarração\n",
    "\n",
    "#Adicionando a coluna \"TNP_Desconexao_Desamarracao\" com todas os seus registros em branco\n",
    "servicos_NT[\"TNP_Desconexao_Desamarracao\"]=''\n",
    "\n",
    "#Percorrendo a base\n",
    "for i in servicos_NT:\n",
    "    #Adicionando em cada linha da coluna TNP_Desconexao_Desamarracaoa subtração entre Início Última Desamarração e o Fim Última Desconexão\n",
    "    servicos_NT[\"TNP_Desconexao_Desamarracao\"]= servicos_NT[\"Início Última Desamarração\"]- servicos_NT[\"Fim Última Desconexão\"]\n",
    "#Transformando para hora\n",
    "servicos_NT['TNP_Desconexao_Desamarracao'] = servicos_NT['TNP_Desconexao_Desamarracao']  / pd.Timedelta(hours=1)\n",
    "\n",
    "#NOSSO"
   ]
  },
  {
   "cell_type": "code",
   "execution_count": 234,
   "metadata": {},
   "outputs": [],
   "source": [
    "# Criando a coluna TNP_Desamarracao_HOS que seria o tempo não produtivo entre a hora do fim da última desamarração da embarcação e a hora de saída\n",
    "\n",
    "#Adicionando a coluna \"TNP_Desamarracao_HOS\" com todas os seus registros em branco\n",
    "servicos_NT[\"TNP_Desamarracao_HOS\"]=''\n",
    "\n",
    "#Percorrendo a base\n",
    "for i in servicos_NT:\n",
    "    #Adicionando em cada linha da coluna TNP_Desamarracao_HOS a subtração entre H.O.S.e o Fim Última Desamarração\n",
    "    servicos_NT[\"TNP_Desamarracao_HOS\"]= servicos_NT[\"H.O.S.\"]- servicos_NT[\"Fim Última Desamarração\"]\n",
    "#Transformando para hora\n",
    "servicos_NT['TNP_Desamarracao_HOS'] = servicos_NT['TNP_Desamarracao_HOS']  / pd.Timedelta(hours=1)\n",
    "\n",
    "#NOSSO"
   ]
  },
  {
   "cell_type": "code",
   "execution_count": 235,
   "metadata": {},
   "outputs": [
    {
     "data": {
      "text/plain": [
       "3221"
      ]
     },
     "execution_count": 235,
     "metadata": {},
     "output_type": "execute_result"
    }
   ],
   "source": [
    "servicos_NT = servicos_NT.sort_values(by=['H.O.C.'])\n",
    "servicos_NT = servicos_NT.drop_duplicates(subset=['Navio', 'Instalação Naval', 'H.O.C.'])\n",
    "len(servicos_NT)"
   ]
  },
  {
   "cell_type": "code",
   "execution_count": null,
   "metadata": {},
   "outputs": [],
   "source": []
  },
  {
   "cell_type": "code",
   "execution_count": 236,
   "metadata": {},
   "outputs": [
    {
     "data": {
      "text/plain": [
       "3221"
      ]
     },
     "execution_count": 236,
     "metadata": {},
     "output_type": "execute_result"
    }
   ],
   "source": [
    "#Exportando a base com as alterações realizadas\n",
    "servicos_NT.to_excel('Arquivos\\\\Relatório_NT_Deles.xlsx')\n",
    "len(servicos_NT)"
   ]
  },
  {
   "cell_type": "markdown",
   "metadata": {},
   "source": [
    "#### Análise Inicial das novas variáveis"
   ]
  },
  {
   "cell_type": "code",
   "execution_count": 237,
   "metadata": {},
   "outputs": [
    {
     "data": {
      "text/html": [
       "<div>\n",
       "<style scoped>\n",
       "    .dataframe tbody tr th:only-of-type {\n",
       "        vertical-align: middle;\n",
       "    }\n",
       "\n",
       "    .dataframe tbody tr th {\n",
       "        vertical-align: top;\n",
       "    }\n",
       "\n",
       "    .dataframe thead th {\n",
       "        text-align: right;\n",
       "    }\n",
       "</style>\n",
       "<table border=\"1\" class=\"dataframe\">\n",
       "  <thead>\n",
       "    <tr style=\"text-align: right;\">\n",
       "      <th></th>\n",
       "      <th>TNP_HOC_Amarracao</th>\n",
       "      <th>TNP_Amarracao_Conexao</th>\n",
       "      <th>TNP_Conexao_Bombeio</th>\n",
       "      <th>TNP_Bombeio_Desconexao</th>\n",
       "      <th>TNP_Desconexao_Desamarracao</th>\n",
       "      <th>TNP_Desamarracao_HOS</th>\n",
       "    </tr>\n",
       "  </thead>\n",
       "  <tbody>\n",
       "    <tr>\n",
       "      <th>count</th>\n",
       "      <td>3221.00</td>\n",
       "      <td>3221.00</td>\n",
       "      <td>3221.00</td>\n",
       "      <td>3221.00</td>\n",
       "      <td>3221.00</td>\n",
       "      <td>3221.00</td>\n",
       "    </tr>\n",
       "    <tr>\n",
       "      <th>mean</th>\n",
       "      <td>9.22</td>\n",
       "      <td>0.43</td>\n",
       "      <td>2.46</td>\n",
       "      <td>1.88</td>\n",
       "      <td>0.24</td>\n",
       "      <td>0.80</td>\n",
       "    </tr>\n",
       "    <tr>\n",
       "      <th>std</th>\n",
       "      <td>11.13</td>\n",
       "      <td>1.87</td>\n",
       "      <td>3.66</td>\n",
       "      <td>2.06</td>\n",
       "      <td>0.44</td>\n",
       "      <td>3.16</td>\n",
       "    </tr>\n",
       "    <tr>\n",
       "      <th>min</th>\n",
       "      <td>-26.83</td>\n",
       "      <td>-0.02</td>\n",
       "      <td>0.02</td>\n",
       "      <td>-5.12</td>\n",
       "      <td>0.02</td>\n",
       "      <td>0.02</td>\n",
       "    </tr>\n",
       "    <tr>\n",
       "      <th>25%</th>\n",
       "      <td>3.47</td>\n",
       "      <td>0.07</td>\n",
       "      <td>1.60</td>\n",
       "      <td>1.20</td>\n",
       "      <td>0.03</td>\n",
       "      <td>0.25</td>\n",
       "    </tr>\n",
       "    <tr>\n",
       "      <th>50%</th>\n",
       "      <td>4.98</td>\n",
       "      <td>0.20</td>\n",
       "      <td>1.97</td>\n",
       "      <td>1.52</td>\n",
       "      <td>0.17</td>\n",
       "      <td>0.33</td>\n",
       "    </tr>\n",
       "    <tr>\n",
       "      <th>75%</th>\n",
       "      <td>10.30</td>\n",
       "      <td>0.33</td>\n",
       "      <td>2.53</td>\n",
       "      <td>2.00</td>\n",
       "      <td>0.30</td>\n",
       "      <td>0.50</td>\n",
       "    </tr>\n",
       "    <tr>\n",
       "      <th>max</th>\n",
       "      <td>154.42</td>\n",
       "      <td>45.35</td>\n",
       "      <td>159.07</td>\n",
       "      <td>54.50</td>\n",
       "      <td>17.50</td>\n",
       "      <td>120.25</td>\n",
       "    </tr>\n",
       "  </tbody>\n",
       "</table>\n",
       "</div>"
      ],
      "text/plain": [
       "       TNP_HOC_Amarracao  TNP_Amarracao_Conexao  TNP_Conexao_Bombeio  \\\n",
       "count            3221.00                3221.00              3221.00   \n",
       "mean                9.22                   0.43                 2.46   \n",
       "std                11.13                   1.87                 3.66   \n",
       "min               -26.83                  -0.02                 0.02   \n",
       "25%                 3.47                   0.07                 1.60   \n",
       "50%                 4.98                   0.20                 1.97   \n",
       "75%                10.30                   0.33                 2.53   \n",
       "max               154.42                  45.35               159.07   \n",
       "\n",
       "       TNP_Bombeio_Desconexao  TNP_Desconexao_Desamarracao  \\\n",
       "count                 3221.00                      3221.00   \n",
       "mean                     1.88                         0.24   \n",
       "std                      2.06                         0.44   \n",
       "min                     -5.12                         0.02   \n",
       "25%                      1.20                         0.03   \n",
       "50%                      1.52                         0.17   \n",
       "75%                      2.00                         0.30   \n",
       "max                     54.50                        17.50   \n",
       "\n",
       "       TNP_Desamarracao_HOS  \n",
       "count               3221.00  \n",
       "mean                   0.80  \n",
       "std                    3.16  \n",
       "min                    0.02  \n",
       "25%                    0.25  \n",
       "50%                    0.33  \n",
       "75%                    0.50  \n",
       "max                  120.25  "
      ]
     },
     "execution_count": 237,
     "metadata": {},
     "output_type": "execute_result"
    }
   ],
   "source": [
    "# ANÁLISE POR TNP\n",
    "servicos_NT[['TNP_HOC_Amarracao','TNP_Amarracao_Conexao','TNP_Conexao_Bombeio','TNP_Bombeio_Desconexao','TNP_Desconexao_Desamarracao',\n",
    "             \"TNP_Desamarracao_HOS\"]].describe().round(2)"
   ]
  },
  {
   "cell_type": "code",
   "execution_count": 238,
   "metadata": {},
   "outputs": [
    {
     "data": {
      "text/plain": [
       "29702.533333333333"
      ]
     },
     "execution_count": 238,
     "metadata": {},
     "output_type": "execute_result"
    }
   ],
   "source": [
    "servicos_NT['TNP_HOC_Amarracao'].sum()"
   ]
  },
  {
   "cell_type": "code",
   "execution_count": 239,
   "metadata": {},
   "outputs": [
    {
     "data": {
      "text/plain": [
       "0"
      ]
     },
     "execution_count": 239,
     "metadata": {},
     "output_type": "execute_result"
    }
   ],
   "source": [
    "# Quantidade de casos negativos dos TNP\n",
    "TNP_negativos=servicos_NT.loc[servicos_NT['TNP_Amarracao_Conexao']<0]\n",
    "len(TNP_negativos) # 1 caso\n",
    "TNP_negativos=servicos_NT.loc[servicos_NT['TNP_Bombeio_Desconexao']<0]\n",
    "len(TNP_negativos) # 1 caso\n",
    "TNP_negativos=servicos_NT.loc[servicos_NT['TNP_HOC_Amarracao']<0]\n",
    "len(TNP_negativos) # 6 casos\n",
    "TNP_negativos=servicos_NT.loc[servicos_NT['TNP_Conexao_Bombeio']<0]\n",
    "len(TNP_negativos) # 0 casos\n",
    "TNP_negativos=servicos_NT.loc[servicos_NT['TNP_Desconexao_Desamarracao']<0]\n",
    "len(TNP_negativos) # 0 casos\n",
    "TNP_negativos=servicos_NT.loc[servicos_NT['TNP_Desamarracao_HOS']<0]\n",
    "len(TNP_negativos) # 0 casos"
   ]
  },
  {
   "cell_type": "code",
   "execution_count": 240,
   "metadata": {},
   "outputs": [
    {
     "data": {
      "text/plain": [
       "3213"
      ]
     },
     "execution_count": 240,
     "metadata": {},
     "output_type": "execute_result"
    }
   ],
   "source": [
    "# Excluir os casos em que o Início da Ocorrência seguinte é menor do que o Fim da Ocorrência anterior\n",
    "\n",
    "servicos_NT=servicos_NT.loc[(servicos_NT['TNP_Amarracao_Conexao']>=0) & (servicos_NT['TNP_Bombeio_Desconexao']>=0) & (servicos_NT['TNP_HOC_Amarracao']>=0) &\n",
    "                            (servicos_NT['TNP_Conexao_Bombeio']>=0) & (servicos_NT['TNP_Desconexao_Desamarracao']>=0) & (servicos_NT['TNP_Desamarracao_HOS']>=0)]\n",
    "len(servicos_NT)\n",
    "\n",
    "#NOSSO -> Com o deles deu errado, não entendi pq"
   ]
  },
  {
   "cell_type": "markdown",
   "metadata": {},
   "source": [
    "#### Verificações de igualdades"
   ]
  },
  {
   "cell_type": "markdown",
   "metadata": {},
   "source": [
    "### Alterando o formato da base"
   ]
  },
  {
   "cell_type": "code",
   "execution_count": 241,
   "metadata": {},
   "outputs": [],
   "source": [
    "# Selecionar apenas as colunas necessárias para alteração no formato do dataframe\n",
    "nt_colunas = ['ID', 'H.O.C.', 'Início Primeira Amarração', 'Fim Primeira Amarração', 'Início Primeira Conexão', 'Fim Primeira Conexão', 'Início Primeiro Bombeio','Fim Último Bombeio', 'Início Última Desconexão', 'Fim Última Desconexão','Início Última Desamarração', 'Fim Última Desamarração', 'H.O.S.']\n",
    "# Selecionar e definir as colunas que serão alteradas\n",
    "colunas_alteradas = ['H.O.C.', 'Início Primeira Amarração', 'Fim Primeira Amarração','Início Primeira Conexão', 'Fim Primeira Conexão', 'Início Primeiro Bombeio','Fim Último Bombeio', 'Início Última Desconexão', 'Fim Última Desconexão','Início Última Desconexão', 'Fim Última Desconexão', 'Início Última Desamarração','Fim Última Desamarração', 'H.O.S.']\n",
    "# Usar o método melt para transformar as colunas em registros\n",
    "df_transformado = pd.melt(servicos_NT[nt_colunas], id_vars=['ID'], value_vars=colunas_alteradas, var_name='Ocorrência', value_name='Data')\n",
    "# Selecionar apenas as colunas necessárias para a junção\n",
    "colunas_restauradas = ['ID', 'Unidade Operativa', 'UEP', 'Navio', 'Volume Programado','Volume Retirado', 'Viagem', 'Destino', 'Data Prevista de Chegada','Data Prevista de Saída']\n",
    "# Realizar a junção dos DataFrames usando a coluna 'ID' como chave\n",
    "NT_novo_formato = pd.merge(servicos_NT[colunas_restauradas], df_transformado, on='ID', how='right')\n",
    "\n",
    "#NOSSO -> deles"
   ]
  },
  {
   "cell_type": "code",
   "execution_count": 242,
   "metadata": {},
   "outputs": [],
   "source": [
    "#Ordenando a base da forma correta - por ID e data\n",
    "NT_novo_formato['Data'] = pd.to_datetime(NT_novo_formato['Data'], format='%d/%m/%Y %H:%M:%S')\n",
    "NT_novo_formato = NT_novo_formato.sort_values(by=['ID','Data'])\n",
    "\n",
    "#NOSSO"
   ]
  },
  {
   "cell_type": "code",
   "execution_count": 243,
   "metadata": {},
   "outputs": [],
   "source": [
    "#Criando colunas de início e fim com todos os registros em branco\n",
    "NT_novo_formato['Início']=''\n",
    "NT_novo_formato['Término']=''\n",
    "\n",
    "#Adicionando os respectivos valores às colunas de início e término - início e fim de cada ocorrência- pois agora temos uma ocorrência em cada linha\n",
    "#Percorrendo a base\n",
    "for i, row in NT_novo_formato.iterrows():\n",
    "    if i < len(NT_novo_formato) - 1:\n",
    "        #Definindo linha atual e linha seguinte\n",
    "        linha_atual = NT_novo_formato.iloc[i]\n",
    "        linha_seguinte = NT_novo_formato.iloc[i+1]\n",
    "        #Se a linha atual e a linha seguinte forem referentes ao mesmo ID\n",
    "        if (linha_atual[\"ID\"] == linha_seguinte[\"ID\"]): \n",
    "            #A data da linha atual é na verdade o início da ocorrência descrita na linha atual\n",
    "            NT_novo_formato.at[linha_atual.name, 'Início'] = linha_atual[\"Data\"]\n",
    "            #E a data da linha seguinte é na verdade o término da ocorrência descrita na linha atual\n",
    "            NT_novo_formato.at[linha_atual.name, 'Término'] = linha_seguinte[\"Data\"]\n",
    "        #Caso as linhas não tenham mesmo ID apenas adicionamos o início da ocorrência da linha atual como a data na linha atual\n",
    "        NT_novo_formato.at[linha_atual.name, 'Início'] = linha_atual[\"Data\"]\n",
    "\n",
    "#NOSSO -> não tem equivalencia no deles\n",
    "            "
   ]
  },
  {
   "cell_type": "code",
   "execution_count": 244,
   "metadata": {},
   "outputs": [],
   "source": [
    "#Excluindo as colunas de fim pois todas as colunas de ínicio ja tem toda a informação\n",
    "# Filtrar as linhas em que a \"Ocorrência\" contém a palavra \"Fim\" e obter seus índices\n",
    "indices_para_remover = NT_novo_formato[NT_novo_formato['Ocorrência'].str.contains('Fim')].index\n",
    "# Remover as linhas correspondentes aos índices obtidos\n",
    "NT_novo_formato.drop(indices_para_remover, inplace=True)\n"
   ]
  },
  {
   "cell_type": "code",
   "execution_count": 245,
   "metadata": {},
   "outputs": [],
   "source": [
    "#Renomeando as colunas de Início apenas com o nome da ocorrencia \n",
    "NT_novo_formato['Ocorrência'] = NT_novo_formato['Ocorrência'].str.replace('Início ', '')\n",
    "NT_novo_formato['Ocorrência'] = NT_novo_formato['Ocorrência'].str.replace('Última ', '')\n",
    "NT_novo_formato['Ocorrência'] = NT_novo_formato['Ocorrência'].str.replace('Primeiro ', '')\n",
    "NT_novo_formato['Ocorrência'] = NT_novo_formato['Ocorrência'].str.replace('Primeira ', '')\n"
   ]
  },
  {
   "cell_type": "code",
   "execution_count": 246,
   "metadata": {},
   "outputs": [],
   "source": [
    "# Removendo colunas que não fazem mais sentido\n",
    "NT_novo_formato.drop(['Data'],inplace=True, axis=1)"
   ]
  },
  {
   "cell_type": "code",
   "execution_count": 247,
   "metadata": {},
   "outputs": [],
   "source": [
    "#Exportando a base apenas com as colunas necessárias\n",
    "NT_novo_formato.to_excel('Arquivos\\\\Relatório_NT_Deles.xlsx')"
   ]
  },
  {
   "cell_type": "code",
   "execution_count": 248,
   "metadata": {},
   "outputs": [
    {
     "data": {
      "text/plain": [
       "Index(['ID', 'Unidade Operativa', 'UEP', 'Navio', 'Volume Programado',\n",
       "       'Volume Retirado', 'Viagem', 'Destino', 'Data Prevista de Chegada',\n",
       "       'Data Prevista de Saída', 'Ocorrência', 'Início', 'Término'],\n",
       "      dtype='object')"
      ]
     },
     "execution_count": 248,
     "metadata": {},
     "output_type": "execute_result"
    }
   ],
   "source": [
    "#Verificando as colunas existentes\n",
    "NT_novo_formato.columns"
   ]
  },
  {
   "cell_type": "code",
   "execution_count": 249,
   "metadata": {},
   "outputs": [
    {
     "data": {
      "text/plain": [
       "22491"
      ]
     },
     "execution_count": 249,
     "metadata": {},
     "output_type": "execute_result"
    }
   ],
   "source": [
    "#verificando a quantidade de registros\n",
    "len(NT_novo_formato)"
   ]
  },
  {
   "cell_type": "code",
   "execution_count": 250,
   "metadata": {},
   "outputs": [],
   "source": [
    "NT_novo_formato=pd.read_excel('Arquivos\\\\Relatório_NT_Deles.xlsx')"
   ]
  },
  {
   "cell_type": "code",
   "execution_count": 251,
   "metadata": {},
   "outputs": [
    {
     "data": {
      "text/plain": [
       "22491"
      ]
     },
     "execution_count": 251,
     "metadata": {},
     "output_type": "execute_result"
    }
   ],
   "source": [
    "len(NT_novo_formato)"
   ]
  },
  {
   "cell_type": "markdown",
   "metadata": {},
   "source": [
    "### Análise das Interrupções"
   ]
  },
  {
   "cell_type": "code",
   "execution_count": 252,
   "metadata": {},
   "outputs": [],
   "source": [
    "# Importando a base de Interrupções\n",
    "interrupcoes_NT=pd.read_excel('Arquivos\\\\eventos_operacoes_interrupcoes2.xlsx')\n"
   ]
  },
  {
   "cell_type": "code",
   "execution_count": 253,
   "metadata": {},
   "outputs": [],
   "source": [
    "# Filtrar apenas as linhas em que 'Duração Interrupção' é maior que zero e reatribuir ao DataFrameinterrupcoes_NT\n",
    "interrupcoes_NT2 =interrupcoes_NT[interrupcoes_NT['Duração Interrupção'] > 0]"
   ]
  },
  {
   "cell_type": "code",
   "execution_count": 254,
   "metadata": {},
   "outputs": [],
   "source": [
    "interrupcoes_NT2 = interrupcoes_NT2.apply(lambda x: x.map(lambda y: unidecode(str(y)) if isinstance(y, str) else y))"
   ]
  },
  {
   "cell_type": "code",
   "execution_count": 255,
   "metadata": {},
   "outputs": [],
   "source": [
    "# Alterar os nomes das categorias da coluna UEP pra bater com a base de NT\n",
    "# Criar a nova coluna \"UEP\" com valores vazios inicialmente\n",
    "interrupcoes_NT2.insert(2, 'UEP', '')\n",
    "\n",
    "# Adicionando os valores da coluna 'Instalação Naval' na coluna 'UEP'\n",
    "interrupcoes_NT2['UEP'] = interrupcoes_NT2['INNA_SG_INSTALACAO_NAVAL']\n",
    "\n",
    "# Substituindo 'PETROBRAS ' por 'P-' na coluna 'UEP'\n",
    "interrupcoes_NT2['UEP'] = interrupcoes_NT2['UEP'].str.replace('PETROBRAS ', 'P-')"
   ]
  },
  {
   "cell_type": "code",
   "execution_count": 256,
   "metadata": {},
   "outputs": [],
   "source": [
    "# Alterar os nomes das categorias da coluna UEP pra bater com a base de NT\n",
    "trocaNomes = {\n",
    "    'FPBAR': 'FPSO Almirante Barroso',\n",
    "    'FPCGZ': 'FPSO Campos dos Goytacases MV29',\n",
    "    'CAPX': 'FPSO Capixaba',\n",
    "    'FPCRC': 'FPSO CARIOCA MV30',\n",
    "    'FPNIT': 'FPSO Cid. Niteroi MV18',\n",
    "    'CDAN': 'FPSO Cidade de Anchieta',\n",
    "    'FPCAR': 'FPSO Cidade de Angra Reis MV22',\n",
    "    'FPCIB': 'FPSO Cidade de Ilhabela',\n",
    "    'FPCMB': 'FPSO Cidade de Mangaratiba MV24',\n",
    "    'FPCIG': 'FPSO Cidade de Itaguai MV26',\n",
    "    'FPCMC': 'FPSO Cidade de Marica',\n",
    "    'FPCPY': 'FPSO Cidade de Paraty',\n",
    "    'FPCST': 'FPSO Cidade de Santos MV20',\n",
    "    'FPCSQ': 'FPSO Cidade de Saquarema',\n",
    "    'FPCSP': 'FPSO Cidade Sao Paulo MV23',\n",
    "    'FPGNB': 'FPSO Guanabara - MV31',\n",
    "    'FPPLB': 'FPSO Pioneiro de Libra',\n",
    "    'FSME': 'FSO Cidade de Macae - MV15'\n",
    "}\n",
    "\n",
    "# Faz a troca dos nomes da UEP utilizando o replace\n",
    "interrupcoes_NT2['UEP'] = interrupcoes_NT2['UEP'].replace(trocaNomes)"
   ]
  },
  {
   "cell_type": "code",
   "execution_count": 257,
   "metadata": {},
   "outputs": [],
   "source": [
    "# Renomear as colunas para ficar com a mesma nomenclatura que a base NT\n",
    "nomeColunas = {\n",
    "    'OPOF_CD_VIAGEM': 'Viagem',\n",
    "    'OPOF_NM_NAVIO': 'Navio',\n",
    "    'OPOF_NM_DESTINO': 'Destino',\n",
    "    'EOOF_IN_TIPO': 'TIPO_INTERRUPCAO',\n",
    "    'Duração Interrupção': 'DURACAO_INTERRUPCAO',\n",
    "    'EOOF_DT_REALIZADA': 'INICIO_INTERRUPCAO',\n",
    "    'EOOF_DT_FIM': 'FIM_INTERRUPCAO',\n",
    "    'OPOF_DT_ENTRADA_PREVISTA': 'Data Prevista de Chegada',\n",
    "    'OPOF_DT_SAIDA_PREVISTA': 'Data Prevista de Saída'\n",
    "}\n",
    "\n",
    "# Renomeando as colunas conforme o dicionário \n",
    "interrupcoes_NT2.rename(columns=nomeColunas, inplace=True)"
   ]
  },
  {
   "cell_type": "code",
   "execution_count": 258,
   "metadata": {},
   "outputs": [],
   "source": [
    "# Retirar o espaço do final dos nomes dos navios\n",
    "interrupcoes_NT2['UEP'] = interrupcoes_NT2['UEP'].str.strip()\n",
    "interrupcoes_NT2['Navio'] = interrupcoes_NT2['Navio'].str.strip()"
   ]
  },
  {
   "cell_type": "code",
   "execution_count": 259,
   "metadata": {},
   "outputs": [
    {
     "data": {
      "text/plain": [
       "414"
      ]
     },
     "execution_count": 259,
     "metadata": {},
     "output_type": "execute_result"
    }
   ],
   "source": [
    "# Selecionando apenas as colunas que interessam\n",
    "colunasSel = interrupcoes_NT2[['UEP', 'Viagem', 'Navio', 'Destino', 'TIPO_INTERRUPCAO', 'DURACAO_INTERRUPCAO', 'INICIO_INTERRUPCAO', 'FIM_INTERRUPCAO', 'Data Prevista de Chegada', 'Data Prevista de Saída']]\n",
    "\n",
    "len(interrupcoes_NT2)"
   ]
  },
  {
   "cell_type": "markdown",
   "metadata": {},
   "source": [
    "#### Inclusão da Interrupção na base nova NT"
   ]
  },
  {
   "cell_type": "code",
   "execution_count": 260,
   "metadata": {},
   "outputs": [],
   "source": [
    "# Importando a base apenas com as colunas necessárias\n",
    "base_NT=pd.read_excel('Arquivos\\\\Relatório_NT_Deles.xlsx')"
   ]
  },
  {
   "cell_type": "code",
   "execution_count": 261,
   "metadata": {},
   "outputs": [
    {
     "data": {
      "text/plain": [
       "22491"
      ]
     },
     "execution_count": 261,
     "metadata": {},
     "output_type": "execute_result"
    }
   ],
   "source": [
    "#Verificando a quantidade de linhas da base\n",
    "len(base_NT)"
   ]
  },
  {
   "cell_type": "code",
   "execution_count": 262,
   "metadata": {},
   "outputs": [
    {
     "data": {
      "text/html": [
       "<div>\n",
       "<style scoped>\n",
       "    .dataframe tbody tr th:only-of-type {\n",
       "        vertical-align: middle;\n",
       "    }\n",
       "\n",
       "    .dataframe tbody tr th {\n",
       "        vertical-align: top;\n",
       "    }\n",
       "\n",
       "    .dataframe thead th {\n",
       "        text-align: right;\n",
       "    }\n",
       "</style>\n",
       "<table border=\"1\" class=\"dataframe\">\n",
       "  <thead>\n",
       "    <tr style=\"text-align: right;\">\n",
       "      <th></th>\n",
       "      <th>EOOF_SQ_EVENTO_OPER_OFFLOAD</th>\n",
       "      <th>OPOF_SQ_OPERACAO</th>\n",
       "      <th>DURACAO_INTERRUPCAO</th>\n",
       "      <th>INICIO_INTERRUPCAO</th>\n",
       "      <th>FIM_INTERRUPCAO</th>\n",
       "      <th>MEOF_SQ_MOTIVO_EVENT_OFFLOAD</th>\n",
       "      <th>EOOF_NM_ARQUIVO_ARMAZENAMENTO</th>\n",
       "      <th>OPOF_SQ_OPERACAO_1</th>\n",
       "      <th>Data Prevista de Chegada</th>\n",
       "      <th>Data Prevista de Saída</th>\n",
       "      <th>...</th>\n",
       "      <th>OPOF_TX_OBSERVACAO</th>\n",
       "      <th>OPOF_SQ_OPERACAO_ANTERIOR</th>\n",
       "      <th>INNA_SQ_INSTALACAO_NAVAL</th>\n",
       "      <th>OPOF_DT_ATUALIZACAO</th>\n",
       "      <th>OPOS_SQ_OPERACAO</th>\n",
       "      <th>OPOF_VL_VAZAO_NV_ALIVIADOR</th>\n",
       "      <th>OPOF_IN_FAIXA_VAZAO_NV_ALIV</th>\n",
       "      <th>OPOF_DT_CADASTRO</th>\n",
       "      <th>OPOF_DT_TOP</th>\n",
       "      <th>OPOF_DS_DIRECAO_VENTO</th>\n",
       "    </tr>\n",
       "  </thead>\n",
       "  <tbody>\n",
       "    <tr>\n",
       "      <th>count</th>\n",
       "      <td>414.000000</td>\n",
       "      <td>414.000000</td>\n",
       "      <td>414.000000</td>\n",
       "      <td>414</td>\n",
       "      <td>414</td>\n",
       "      <td>414.000000</td>\n",
       "      <td>0.0</td>\n",
       "      <td>414.000000</td>\n",
       "      <td>414</td>\n",
       "      <td>414</td>\n",
       "      <td>...</td>\n",
       "      <td>0.0</td>\n",
       "      <td>0.0</td>\n",
       "      <td>414.000000</td>\n",
       "      <td>337</td>\n",
       "      <td>337.000000</td>\n",
       "      <td>0.0</td>\n",
       "      <td>0.0</td>\n",
       "      <td>414</td>\n",
       "      <td>414</td>\n",
       "      <td>90.000000</td>\n",
       "    </tr>\n",
       "    <tr>\n",
       "      <th>mean</th>\n",
       "      <td>81346.437198</td>\n",
       "      <td>10667.157005</td>\n",
       "      <td>4.809219</td>\n",
       "      <td>2022-10-06 14:55:30.869565184</td>\n",
       "      <td>2022-10-06 19:44:04.057970688</td>\n",
       "      <td>13.797101</td>\n",
       "      <td>NaN</td>\n",
       "      <td>10667.157005</td>\n",
       "      <td>2022-10-05 15:21:19.855072512</td>\n",
       "      <td>2022-10-07 13:50:13.644927744</td>\n",
       "      <td>...</td>\n",
       "      <td>NaN</td>\n",
       "      <td>NaN</td>\n",
       "      <td>309.362319</td>\n",
       "      <td>2022-10-04 06:13:51.869436160</td>\n",
       "      <td>14413.753709</td>\n",
       "      <td>NaN</td>\n",
       "      <td>NaN</td>\n",
       "      <td>1999-12-04 14:10:24.975845376</td>\n",
       "      <td>1903-07-22 10:55:24.782608640</td>\n",
       "      <td>91.955556</td>\n",
       "    </tr>\n",
       "    <tr>\n",
       "      <th>min</th>\n",
       "      <td>59559.000000</td>\n",
       "      <td>8971.000000</td>\n",
       "      <td>0.016667</td>\n",
       "      <td>2022-01-01 00:00:00</td>\n",
       "      <td>2022-01-01 00:24:00</td>\n",
       "      <td>1.000000</td>\n",
       "      <td>NaN</td>\n",
       "      <td>8971.000000</td>\n",
       "      <td>2021-12-31 04:00:00</td>\n",
       "      <td>2022-01-01 19:29:05</td>\n",
       "      <td>...</td>\n",
       "      <td>NaN</td>\n",
       "      <td>NaN</td>\n",
       "      <td>225.000000</td>\n",
       "      <td>2021-12-31 16:42:25</td>\n",
       "      <td>11206.000000</td>\n",
       "      <td>NaN</td>\n",
       "      <td>NaN</td>\n",
       "      <td>1899-12-29 00:00:00</td>\n",
       "      <td>1899-12-29 00:00:00</td>\n",
       "      <td>10.000000</td>\n",
       "    </tr>\n",
       "    <tr>\n",
       "      <th>25%</th>\n",
       "      <td>70348.250000</td>\n",
       "      <td>9826.500000</td>\n",
       "      <td>0.500000</td>\n",
       "      <td>2022-05-17 00:27:15</td>\n",
       "      <td>2022-05-17 13:22:30</td>\n",
       "      <td>12.000000</td>\n",
       "      <td>NaN</td>\n",
       "      <td>9826.500000</td>\n",
       "      <td>2022-05-16 00:22:30</td>\n",
       "      <td>2022-05-18 07:17:32.249999872</td>\n",
       "      <td>...</td>\n",
       "      <td>NaN</td>\n",
       "      <td>NaN</td>\n",
       "      <td>240.000000</td>\n",
       "      <td>2022-05-17 15:13:03</td>\n",
       "      <td>12831.000000</td>\n",
       "      <td>NaN</td>\n",
       "      <td>NaN</td>\n",
       "      <td>2022-02-19 06:37:11.500000</td>\n",
       "      <td>1899-12-29 00:00:00</td>\n",
       "      <td>40.000000</td>\n",
       "    </tr>\n",
       "    <tr>\n",
       "      <th>50%</th>\n",
       "      <td>81016.000000</td>\n",
       "      <td>10642.000000</td>\n",
       "      <td>1.325000</td>\n",
       "      <td>2022-10-01 09:31:00</td>\n",
       "      <td>2022-10-01 12:26:00</td>\n",
       "      <td>18.000000</td>\n",
       "      <td>NaN</td>\n",
       "      <td>10642.000000</td>\n",
       "      <td>2022-09-30 09:30:00</td>\n",
       "      <td>2022-10-01 22:04:15</td>\n",
       "      <td>...</td>\n",
       "      <td>NaN</td>\n",
       "      <td>NaN</td>\n",
       "      <td>259.000000</td>\n",
       "      <td>2022-09-29 04:50:43</td>\n",
       "      <td>14364.000000</td>\n",
       "      <td>NaN</td>\n",
       "      <td>NaN</td>\n",
       "      <td>2022-07-25 13:58:14</td>\n",
       "      <td>1899-12-29 00:00:00</td>\n",
       "      <td>67.000000</td>\n",
       "    </tr>\n",
       "    <tr>\n",
       "      <th>75%</th>\n",
       "      <td>92166.250000</td>\n",
       "      <td>11513.750000</td>\n",
       "      <td>4.575000</td>\n",
       "      <td>2023-02-21 13:03:00</td>\n",
       "      <td>2023-02-21 16:34:30</td>\n",
       "      <td>18.000000</td>\n",
       "      <td>NaN</td>\n",
       "      <td>11513.750000</td>\n",
       "      <td>2023-02-20 12:00:00</td>\n",
       "      <td>2023-02-22 12:03:48</td>\n",
       "      <td>...</td>\n",
       "      <td>NaN</td>\n",
       "      <td>NaN</td>\n",
       "      <td>394.000000</td>\n",
       "      <td>2023-02-17 03:44:21</td>\n",
       "      <td>15928.000000</td>\n",
       "      <td>NaN</td>\n",
       "      <td>NaN</td>\n",
       "      <td>2023-01-06 18:58:17.249999872</td>\n",
       "      <td>1899-12-29 00:00:00</td>\n",
       "      <td>140.000000</td>\n",
       "    </tr>\n",
       "    <tr>\n",
       "      <th>max</th>\n",
       "      <td>104136.000000</td>\n",
       "      <td>12431.000000</td>\n",
       "      <td>92.566667</td>\n",
       "      <td>2023-07-27 00:56:00</td>\n",
       "      <td>2023-07-27 01:30:00</td>\n",
       "      <td>18.000000</td>\n",
       "      <td>NaN</td>\n",
       "      <td>12431.000000</td>\n",
       "      <td>2023-07-26 12:00:00</td>\n",
       "      <td>2023-07-27 14:03:41</td>\n",
       "      <td>...</td>\n",
       "      <td>NaN</td>\n",
       "      <td>NaN</td>\n",
       "      <td>482.000000</td>\n",
       "      <td>2023-07-26 19:06:27</td>\n",
       "      <td>17828.000000</td>\n",
       "      <td>NaN</td>\n",
       "      <td>NaN</td>\n",
       "      <td>2023-07-26 19:06:27</td>\n",
       "      <td>2023-07-23 20:52:00</td>\n",
       "      <td>320.000000</td>\n",
       "    </tr>\n",
       "    <tr>\n",
       "      <th>std</th>\n",
       "      <td>12865.269127</td>\n",
       "      <td>1000.736541</td>\n",
       "      <td>10.047754</td>\n",
       "      <td>NaN</td>\n",
       "      <td>NaN</td>\n",
       "      <td>5.800759</td>\n",
       "      <td>NaN</td>\n",
       "      <td>1000.736541</td>\n",
       "      <td>NaN</td>\n",
       "      <td>NaN</td>\n",
       "      <td>...</td>\n",
       "      <td>NaN</td>\n",
       "      <td>NaN</td>\n",
       "      <td>80.165864</td>\n",
       "      <td>NaN</td>\n",
       "      <td>1877.303432</td>\n",
       "      <td>NaN</td>\n",
       "      <td>NaN</td>\n",
       "      <td>NaN</td>\n",
       "      <td>NaN</td>\n",
       "      <td>67.684481</td>\n",
       "    </tr>\n",
       "  </tbody>\n",
       "</table>\n",
       "<p>8 rows × 22 columns</p>\n",
       "</div>"
      ],
      "text/plain": [
       "       EOOF_SQ_EVENTO_OPER_OFFLOAD  OPOF_SQ_OPERACAO  DURACAO_INTERRUPCAO  \\\n",
       "count                   414.000000        414.000000           414.000000   \n",
       "mean                  81346.437198      10667.157005             4.809219   \n",
       "min                   59559.000000       8971.000000             0.016667   \n",
       "25%                   70348.250000       9826.500000             0.500000   \n",
       "50%                   81016.000000      10642.000000             1.325000   \n",
       "75%                   92166.250000      11513.750000             4.575000   \n",
       "max                  104136.000000      12431.000000            92.566667   \n",
       "std                   12865.269127       1000.736541            10.047754   \n",
       "\n",
       "                  INICIO_INTERRUPCAO                FIM_INTERRUPCAO  \\\n",
       "count                            414                            414   \n",
       "mean   2022-10-06 14:55:30.869565184  2022-10-06 19:44:04.057970688   \n",
       "min              2022-01-01 00:00:00            2022-01-01 00:24:00   \n",
       "25%              2022-05-17 00:27:15            2022-05-17 13:22:30   \n",
       "50%              2022-10-01 09:31:00            2022-10-01 12:26:00   \n",
       "75%              2023-02-21 13:03:00            2023-02-21 16:34:30   \n",
       "max              2023-07-27 00:56:00            2023-07-27 01:30:00   \n",
       "std                              NaN                            NaN   \n",
       "\n",
       "       MEOF_SQ_MOTIVO_EVENT_OFFLOAD  EOOF_NM_ARQUIVO_ARMAZENAMENTO  \\\n",
       "count                    414.000000                            0.0   \n",
       "mean                      13.797101                            NaN   \n",
       "min                        1.000000                            NaN   \n",
       "25%                       12.000000                            NaN   \n",
       "50%                       18.000000                            NaN   \n",
       "75%                       18.000000                            NaN   \n",
       "max                       18.000000                            NaN   \n",
       "std                        5.800759                            NaN   \n",
       "\n",
       "       OPOF_SQ_OPERACAO_1       Data Prevista de Chegada  \\\n",
       "count          414.000000                            414   \n",
       "mean         10667.157005  2022-10-05 15:21:19.855072512   \n",
       "min           8971.000000            2021-12-31 04:00:00   \n",
       "25%           9826.500000            2022-05-16 00:22:30   \n",
       "50%          10642.000000            2022-09-30 09:30:00   \n",
       "75%          11513.750000            2023-02-20 12:00:00   \n",
       "max          12431.000000            2023-07-26 12:00:00   \n",
       "std           1000.736541                            NaN   \n",
       "\n",
       "              Data Prevista de Saída  ... OPOF_TX_OBSERVACAO  \\\n",
       "count                            414  ...                0.0   \n",
       "mean   2022-10-07 13:50:13.644927744  ...                NaN   \n",
       "min              2022-01-01 19:29:05  ...                NaN   \n",
       "25%    2022-05-18 07:17:32.249999872  ...                NaN   \n",
       "50%              2022-10-01 22:04:15  ...                NaN   \n",
       "75%              2023-02-22 12:03:48  ...                NaN   \n",
       "max              2023-07-27 14:03:41  ...                NaN   \n",
       "std                              NaN  ...                NaN   \n",
       "\n",
       "      OPOF_SQ_OPERACAO_ANTERIOR  INNA_SQ_INSTALACAO_NAVAL  \\\n",
       "count                       0.0                414.000000   \n",
       "mean                        NaN                309.362319   \n",
       "min                         NaN                225.000000   \n",
       "25%                         NaN                240.000000   \n",
       "50%                         NaN                259.000000   \n",
       "75%                         NaN                394.000000   \n",
       "max                         NaN                482.000000   \n",
       "std                         NaN                 80.165864   \n",
       "\n",
       "                 OPOF_DT_ATUALIZACAO  OPOS_SQ_OPERACAO  \\\n",
       "count                            337        337.000000   \n",
       "mean   2022-10-04 06:13:51.869436160      14413.753709   \n",
       "min              2021-12-31 16:42:25      11206.000000   \n",
       "25%              2022-05-17 15:13:03      12831.000000   \n",
       "50%              2022-09-29 04:50:43      14364.000000   \n",
       "75%              2023-02-17 03:44:21      15928.000000   \n",
       "max              2023-07-26 19:06:27      17828.000000   \n",
       "std                              NaN       1877.303432   \n",
       "\n",
       "      OPOF_VL_VAZAO_NV_ALIVIADOR  OPOF_IN_FAIXA_VAZAO_NV_ALIV  \\\n",
       "count                        0.0                          0.0   \n",
       "mean                         NaN                          NaN   \n",
       "min                          NaN                          NaN   \n",
       "25%                          NaN                          NaN   \n",
       "50%                          NaN                          NaN   \n",
       "75%                          NaN                          NaN   \n",
       "max                          NaN                          NaN   \n",
       "std                          NaN                          NaN   \n",
       "\n",
       "                    OPOF_DT_CADASTRO                    OPOF_DT_TOP  \\\n",
       "count                            414                            414   \n",
       "mean   1999-12-04 14:10:24.975845376  1903-07-22 10:55:24.782608640   \n",
       "min              1899-12-29 00:00:00            1899-12-29 00:00:00   \n",
       "25%       2022-02-19 06:37:11.500000            1899-12-29 00:00:00   \n",
       "50%              2022-07-25 13:58:14            1899-12-29 00:00:00   \n",
       "75%    2023-01-06 18:58:17.249999872            1899-12-29 00:00:00   \n",
       "max              2023-07-26 19:06:27            2023-07-23 20:52:00   \n",
       "std                              NaN                            NaN   \n",
       "\n",
       "      OPOF_DS_DIRECAO_VENTO  \n",
       "count             90.000000  \n",
       "mean              91.955556  \n",
       "min               10.000000  \n",
       "25%               40.000000  \n",
       "50%               67.000000  \n",
       "75%              140.000000  \n",
       "max              320.000000  \n",
       "std               67.684481  \n",
       "\n",
       "[8 rows x 22 columns]"
      ]
     },
     "execution_count": 262,
     "metadata": {},
     "output_type": "execute_result"
    }
   ],
   "source": [
    "interrupcoes_NT2.describe()"
   ]
  },
  {
   "cell_type": "code",
   "execution_count": 263,
   "metadata": {},
   "outputs": [
    {
     "data": {
      "text/html": [
       "<div>\n",
       "<style scoped>\n",
       "    .dataframe tbody tr th:only-of-type {\n",
       "        vertical-align: middle;\n",
       "    }\n",
       "\n",
       "    .dataframe tbody tr th {\n",
       "        vertical-align: top;\n",
       "    }\n",
       "\n",
       "    .dataframe thead th {\n",
       "        text-align: right;\n",
       "    }\n",
       "</style>\n",
       "<table border=\"1\" class=\"dataframe\">\n",
       "  <thead>\n",
       "    <tr style=\"text-align: right;\">\n",
       "      <th></th>\n",
       "      <th>Unnamed: 0</th>\n",
       "      <th>ID</th>\n",
       "      <th>Volume Programado</th>\n",
       "      <th>Volume Retirado</th>\n",
       "      <th>Data Prevista de Chegada</th>\n",
       "      <th>Data Prevista de Saída</th>\n",
       "      <th>Início</th>\n",
       "      <th>Término</th>\n",
       "    </tr>\n",
       "  </thead>\n",
       "  <tbody>\n",
       "    <tr>\n",
       "      <th>count</th>\n",
       "      <td>22491.000000</td>\n",
       "      <td>22491.000000</td>\n",
       "      <td>22491.000000</td>\n",
       "      <td>22491.000000</td>\n",
       "      <td>22491</td>\n",
       "      <td>22491</td>\n",
       "      <td>22490</td>\n",
       "      <td>19278</td>\n",
       "    </tr>\n",
       "    <tr>\n",
       "      <th>mean</th>\n",
       "      <td>18130.000000</td>\n",
       "      <td>1610.219421</td>\n",
       "      <td>80744.940554</td>\n",
       "      <td>80277.892009</td>\n",
       "      <td>2022-10-16 02:43:58.209150208</td>\n",
       "      <td>2022-10-17 12:54:49.128540416</td>\n",
       "      <td>2022-10-16 19:52:09.967096320</td>\n",
       "      <td>2022-10-16 22:30:20.989729024</td>\n",
       "    </tr>\n",
       "    <tr>\n",
       "      <th>min</th>\n",
       "      <td>0.000000</td>\n",
       "      <td>0.000000</td>\n",
       "      <td>2000.000000</td>\n",
       "      <td>1990.100000</td>\n",
       "      <td>2022-01-01 00:01:00</td>\n",
       "      <td>2022-01-01 23:30:00</td>\n",
       "      <td>2022-01-01 00:01:00</td>\n",
       "      <td>2022-01-01 03:24:00</td>\n",
       "    </tr>\n",
       "    <tr>\n",
       "      <th>25%</th>\n",
       "      <td>5622.500000</td>\n",
       "      <td>804.000000</td>\n",
       "      <td>70000.000000</td>\n",
       "      <td>70090.000000</td>\n",
       "      <td>2022-05-23 12:01:00</td>\n",
       "      <td>2022-05-25 09:15:00</td>\n",
       "      <td>2022-05-24 14:37:30</td>\n",
       "      <td>2022-05-24 15:54:15</td>\n",
       "    </tr>\n",
       "    <tr>\n",
       "      <th>50%</th>\n",
       "      <td>17671.000000</td>\n",
       "      <td>1608.000000</td>\n",
       "      <td>79400.000000</td>\n",
       "      <td>78946.000000</td>\n",
       "      <td>2022-10-13 14:22:00</td>\n",
       "      <td>2022-10-15 02:54:00</td>\n",
       "      <td>2022-10-14 16:37:00</td>\n",
       "      <td>2022-10-14 19:08:00</td>\n",
       "    </tr>\n",
       "    <tr>\n",
       "      <th>75%</th>\n",
       "      <td>29719.500000</td>\n",
       "      <td>2416.000000</td>\n",
       "      <td>86000.000000</td>\n",
       "      <td>85689.250000</td>\n",
       "      <td>2023-03-08 13:00:00</td>\n",
       "      <td>2023-03-09 23:39:34</td>\n",
       "      <td>2023-03-09 10:41:15</td>\n",
       "      <td>2023-03-09 12:00:45</td>\n",
       "    </tr>\n",
       "    <tr>\n",
       "      <th>max</th>\n",
       "      <td>38555.000000</td>\n",
       "      <td>3225.000000</td>\n",
       "      <td>166000.000000</td>\n",
       "      <td>170507.000000</td>\n",
       "      <td>2023-07-31 13:00:00</td>\n",
       "      <td>2023-08-01 18:00:00</td>\n",
       "      <td>2023-08-01 16:55:00</td>\n",
       "      <td>2023-08-01 16:48:00</td>\n",
       "    </tr>\n",
       "    <tr>\n",
       "      <th>std</th>\n",
       "      <td>12231.423407</td>\n",
       "      <td>931.123604</td>\n",
       "      <td>30100.692333</td>\n",
       "      <td>30300.068265</td>\n",
       "      <td>NaN</td>\n",
       "      <td>NaN</td>\n",
       "      <td>NaN</td>\n",
       "      <td>NaN</td>\n",
       "    </tr>\n",
       "  </tbody>\n",
       "</table>\n",
       "</div>"
      ],
      "text/plain": [
       "         Unnamed: 0            ID  Volume Programado  Volume Retirado  \\\n",
       "count  22491.000000  22491.000000       22491.000000     22491.000000   \n",
       "mean   18130.000000   1610.219421       80744.940554     80277.892009   \n",
       "min        0.000000      0.000000        2000.000000      1990.100000   \n",
       "25%     5622.500000    804.000000       70000.000000     70090.000000   \n",
       "50%    17671.000000   1608.000000       79400.000000     78946.000000   \n",
       "75%    29719.500000   2416.000000       86000.000000     85689.250000   \n",
       "max    38555.000000   3225.000000      166000.000000    170507.000000   \n",
       "std    12231.423407    931.123604       30100.692333     30300.068265   \n",
       "\n",
       "            Data Prevista de Chegada         Data Prevista de Saída  \\\n",
       "count                          22491                          22491   \n",
       "mean   2022-10-16 02:43:58.209150208  2022-10-17 12:54:49.128540416   \n",
       "min              2022-01-01 00:01:00            2022-01-01 23:30:00   \n",
       "25%              2022-05-23 12:01:00            2022-05-25 09:15:00   \n",
       "50%              2022-10-13 14:22:00            2022-10-15 02:54:00   \n",
       "75%              2023-03-08 13:00:00            2023-03-09 23:39:34   \n",
       "max              2023-07-31 13:00:00            2023-08-01 18:00:00   \n",
       "std                              NaN                            NaN   \n",
       "\n",
       "                              Início                        Término  \n",
       "count                          22490                          19278  \n",
       "mean   2022-10-16 19:52:09.967096320  2022-10-16 22:30:20.989729024  \n",
       "min              2022-01-01 00:01:00            2022-01-01 03:24:00  \n",
       "25%              2022-05-24 14:37:30            2022-05-24 15:54:15  \n",
       "50%              2022-10-14 16:37:00            2022-10-14 19:08:00  \n",
       "75%              2023-03-09 10:41:15            2023-03-09 12:00:45  \n",
       "max              2023-08-01 16:55:00            2023-08-01 16:48:00  \n",
       "std                              NaN                            NaN  "
      ]
     },
     "execution_count": 263,
     "metadata": {},
     "output_type": "execute_result"
    }
   ],
   "source": [
    "base_NT.describe()"
   ]
  },
  {
   "cell_type": "markdown",
   "metadata": {},
   "source": [
    "#### Base NT para Process Mining"
   ]
  },
  {
   "cell_type": "code",
   "execution_count": 264,
   "metadata": {},
   "outputs": [
    {
     "data": {
      "text/plain": [
       "22491"
      ]
     },
     "execution_count": 264,
     "metadata": {},
     "output_type": "execute_result"
    }
   ],
   "source": [
    "len(base_NT)"
   ]
  },
  {
   "cell_type": "code",
   "execution_count": 265,
   "metadata": {},
   "outputs": [
    {
     "data": {
      "text/plain": [
       "22918"
      ]
     },
     "execution_count": 265,
     "metadata": {},
     "output_type": "execute_result"
    }
   ],
   "source": [
    "#Junção das bases de NT com a de interrupções\n",
    "base_NT_interrupcoes2 = pd.merge(base_NT, colunasSel,\n",
    "                                 how = 'left', on = ['UEP','Viagem','Navio','Destino','Data Prevista de Chegada','Data Prevista de Saída'])\n",
    "len(base_NT_interrupcoes2)\n",
    "\n",
    "#NOSSO (o colunasSel(deles) já está com essas colunas selecionadas)-> deles"
   ]
  },
  {
   "cell_type": "code",
   "execution_count": 266,
   "metadata": {},
   "outputs": [],
   "source": [
    "# Restringindo as características de interrupção apenas aos bombeios, visto que só estavamos tratando interrupções nos bombeios\n",
    "INTERRUPCAO = []\n",
    "for (idx, val) in base_NT_interrupcoes2.iterrows():\n",
    "    if ((val['Ocorrência']=='Bombeio') and (val['TIPO_INTERRUPCAO']=='B005')):\n",
    "        INTERRUPCAO.append(\"Interrupção Bombeio\")\n",
    "    else:\n",
    "        INTERRUPCAO.append(\"\")\n",
    "base_NT_interrupcoes2[\"TIPO_INTERRUPCAO\"] = INTERRUPCAO\n",
    "\n",
    "DURACAO_INTERRUPCAO = []\n",
    "for (idx, val) in base_NT_interrupcoes2.iterrows():\n",
    "    if ((val['Ocorrência']=='Bombeio') and (val['DURACAO_INTERRUPCAO']>0)):\n",
    "        DURACAO_INTERRUPCAO.append(val[\"DURACAO_INTERRUPCAO\"])\n",
    "    else:\n",
    "        DURACAO_INTERRUPCAO.append(\"\")\n",
    "base_NT_interrupcoes2[\"DURACAO_INTERRUPCAO\"] = DURACAO_INTERRUPCAO\n",
    "\n",
    "INICIO_INTERRUPCAO = []\n",
    "for (idx, val) in base_NT_interrupcoes2.iterrows():\n",
    "    if ((val['Ocorrência']=='Bombeio') and (val['TIPO_INTERRUPCAO']=='Interrupção Bombeio')):\n",
    "        INICIO_INTERRUPCAO.append(val[\"INICIO_INTERRUPCAO\"])\n",
    "    else:\n",
    "        INICIO_INTERRUPCAO.append(\"\")\n",
    "base_NT_interrupcoes2[\"INICIO_INTERRUPCAO\"] = INICIO_INTERRUPCAO\n",
    "\n",
    "FIM_INTERRUPCAO = []\n",
    "for (idx, val) in base_NT_interrupcoes2.iterrows():\n",
    "    if ((val['Ocorrência']=='Bombeio') and (val['TIPO_INTERRUPCAO']=='Interrupção Bombeio')):\n",
    "        FIM_INTERRUPCAO.append(val[\"FIM_INTERRUPCAO\"])\n",
    "    else:\n",
    "        FIM_INTERRUPCAO.append(\"\")\n",
    "base_NT_interrupcoes2[\"FIM_INTERRUPCAO\"] = FIM_INTERRUPCAO\n",
    "\n",
    "#NOSSO-> o deles gera aqueles loops que não devem existir"
   ]
  },
  {
   "cell_type": "code",
   "execution_count": 267,
   "metadata": {},
   "outputs": [
    {
     "data": {
      "text/plain": [
       "Index(['Unnamed: 0', 'ID', 'Unidade Operativa', 'UEP', 'Navio',\n",
       "       'Volume Programado', 'Volume Retirado', 'Viagem', 'Destino',\n",
       "       'Data Prevista de Chegada', 'Data Prevista de Saída', 'Ocorrência',\n",
       "       'Início', 'Término', 'TIPO_INTERRUPCAO', 'DURACAO_INTERRUPCAO',\n",
       "       'INICIO_INTERRUPCAO', 'FIM_INTERRUPCAO'],\n",
       "      dtype='object')"
      ]
     },
     "execution_count": 267,
     "metadata": {},
     "output_type": "execute_result"
    }
   ],
   "source": [
    "#verificando as colunas existentes\n",
    "base_NT_interrupcoes2.columns"
   ]
  },
  {
   "cell_type": "code",
   "execution_count": 268,
   "metadata": {},
   "outputs": [
    {
     "data": {
      "text/plain": [
       "22550"
      ]
     },
     "execution_count": 268,
     "metadata": {},
     "output_type": "execute_result"
    }
   ],
   "source": [
    "# Retirar os duplicados\n",
    "base_NT_interrupcoes2 = base_NT_interrupcoes2.drop(columns=['Unnamed: 0'])\n",
    "base_NT_interrupcoes2=base_NT_interrupcoes2.drop_duplicates()\n",
    "len(base_NT_interrupcoes2)"
   ]
  },
  {
   "cell_type": "code",
   "execution_count": 269,
   "metadata": {},
   "outputs": [],
   "source": [
    "#Duplicando as linhas em que acontece as interrupções\n",
    "base_NT_interrupcoes2 = pd.concat([base_NT_interrupcoes2, base_NT_interrupcoes2[base_NT_interrupcoes2['TIPO_INTERRUPCAO'] == 'Interrupção Bombeio'].copy()])\n",
    "\n",
    "# Resetar índices\n",
    "base_NT_interrupcoes2.reset_index(drop=True, inplace=True)\n",
    "\n",
    "#NOSSO, no deles não tinha e ficava uma zona"
   ]
  },
  {
   "cell_type": "code",
   "execution_count": 270,
   "metadata": {},
   "outputs": [],
   "source": [
    "#Ordenando por ID e Início para deixar os bombeios duplicados juntos e na ordem em que acontecem\n",
    "base_NT_interrupcoes2.sort_values(by=['ID','Início','INICIO_INTERRUPCAO'],inplace=True)\n",
    "\n"
   ]
  },
  {
   "cell_type": "code",
   "execution_count": 271,
   "metadata": {},
   "outputs": [
    {
     "data": {
      "text/html": [
       "<div>\n",
       "<style scoped>\n",
       "    .dataframe tbody tr th:only-of-type {\n",
       "        vertical-align: middle;\n",
       "    }\n",
       "\n",
       "    .dataframe tbody tr th {\n",
       "        vertical-align: top;\n",
       "    }\n",
       "\n",
       "    .dataframe thead th {\n",
       "        text-align: right;\n",
       "    }\n",
       "</style>\n",
       "<table border=\"1\" class=\"dataframe\">\n",
       "  <thead>\n",
       "    <tr style=\"text-align: right;\">\n",
       "      <th></th>\n",
       "      <th>ID</th>\n",
       "      <th>Volume Programado</th>\n",
       "      <th>Volume Retirado</th>\n",
       "      <th>Data Prevista de Chegada</th>\n",
       "      <th>Data Prevista de Saída</th>\n",
       "      <th>Início</th>\n",
       "      <th>Término</th>\n",
       "    </tr>\n",
       "  </thead>\n",
       "  <tbody>\n",
       "    <tr>\n",
       "      <th>count</th>\n",
       "      <td>22951.000000</td>\n",
       "      <td>22951.000000</td>\n",
       "      <td>22951.000000</td>\n",
       "      <td>22951</td>\n",
       "      <td>22951</td>\n",
       "      <td>22950</td>\n",
       "      <td>19738</td>\n",
       "    </tr>\n",
       "    <tr>\n",
       "      <th>mean</th>\n",
       "      <td>1609.505686</td>\n",
       "      <td>80808.546033</td>\n",
       "      <td>80322.672462</td>\n",
       "      <td>2022-10-15 23:16:24.076597760</td>\n",
       "      <td>2022-10-17 09:43:57.524857344</td>\n",
       "      <td>2022-10-16 16:17:19.563398912</td>\n",
       "      <td>2022-10-16 19:02:31.504711424</td>\n",
       "    </tr>\n",
       "    <tr>\n",
       "      <th>min</th>\n",
       "      <td>0.000000</td>\n",
       "      <td>2000.000000</td>\n",
       "      <td>1990.100000</td>\n",
       "      <td>2022-01-01 00:01:00</td>\n",
       "      <td>2022-01-01 23:30:00</td>\n",
       "      <td>2022-01-01 00:01:00</td>\n",
       "      <td>2022-01-01 03:24:00</td>\n",
       "    </tr>\n",
       "    <tr>\n",
       "      <th>25%</th>\n",
       "      <td>802.500000</td>\n",
       "      <td>70000.000000</td>\n",
       "      <td>70058.000000</td>\n",
       "      <td>2022-05-23 12:00:00</td>\n",
       "      <td>2022-05-25 07:15:35</td>\n",
       "      <td>2022-05-24 10:15:45</td>\n",
       "      <td>2022-05-24 13:03:00</td>\n",
       "    </tr>\n",
       "    <tr>\n",
       "      <th>50%</th>\n",
       "      <td>1605.000000</td>\n",
       "      <td>79500.000000</td>\n",
       "      <td>78952.910000</td>\n",
       "      <td>2022-10-13 00:00:00</td>\n",
       "      <td>2022-10-14 20:54:00</td>\n",
       "      <td>2022-10-14 05:06:00</td>\n",
       "      <td>2022-10-14 07:24:00</td>\n",
       "    </tr>\n",
       "    <tr>\n",
       "      <th>75%</th>\n",
       "      <td>2416.000000</td>\n",
       "      <td>88000.000000</td>\n",
       "      <td>86020.000000</td>\n",
       "      <td>2023-03-08 13:00:00</td>\n",
       "      <td>2023-03-09 23:39:34</td>\n",
       "      <td>2023-03-09 10:22:30</td>\n",
       "      <td>2023-03-09 11:09:45</td>\n",
       "    </tr>\n",
       "    <tr>\n",
       "      <th>max</th>\n",
       "      <td>3225.000000</td>\n",
       "      <td>166000.000000</td>\n",
       "      <td>170507.000000</td>\n",
       "      <td>2023-07-31 13:00:00</td>\n",
       "      <td>2023-08-01 18:00:00</td>\n",
       "      <td>2023-08-01 16:55:00</td>\n",
       "      <td>2023-08-01 16:48:00</td>\n",
       "    </tr>\n",
       "    <tr>\n",
       "      <th>std</th>\n",
       "      <td>931.138543</td>\n",
       "      <td>30235.703266</td>\n",
       "      <td>30449.746114</td>\n",
       "      <td>NaN</td>\n",
       "      <td>NaN</td>\n",
       "      <td>NaN</td>\n",
       "      <td>NaN</td>\n",
       "    </tr>\n",
       "  </tbody>\n",
       "</table>\n",
       "</div>"
      ],
      "text/plain": [
       "                 ID  Volume Programado  Volume Retirado  \\\n",
       "count  22951.000000       22951.000000     22951.000000   \n",
       "mean    1609.505686       80808.546033     80322.672462   \n",
       "min        0.000000        2000.000000      1990.100000   \n",
       "25%      802.500000       70000.000000     70058.000000   \n",
       "50%     1605.000000       79500.000000     78952.910000   \n",
       "75%     2416.000000       88000.000000     86020.000000   \n",
       "max     3225.000000      166000.000000    170507.000000   \n",
       "std      931.138543       30235.703266     30449.746114   \n",
       "\n",
       "            Data Prevista de Chegada         Data Prevista de Saída  \\\n",
       "count                          22951                          22951   \n",
       "mean   2022-10-15 23:16:24.076597760  2022-10-17 09:43:57.524857344   \n",
       "min              2022-01-01 00:01:00            2022-01-01 23:30:00   \n",
       "25%              2022-05-23 12:00:00            2022-05-25 07:15:35   \n",
       "50%              2022-10-13 00:00:00            2022-10-14 20:54:00   \n",
       "75%              2023-03-08 13:00:00            2023-03-09 23:39:34   \n",
       "max              2023-07-31 13:00:00            2023-08-01 18:00:00   \n",
       "std                              NaN                            NaN   \n",
       "\n",
       "                              Início                        Término  \n",
       "count                          22950                          19738  \n",
       "mean   2022-10-16 16:17:19.563398912  2022-10-16 19:02:31.504711424  \n",
       "min              2022-01-01 00:01:00            2022-01-01 03:24:00  \n",
       "25%              2022-05-24 10:15:45            2022-05-24 13:03:00  \n",
       "50%              2022-10-14 05:06:00            2022-10-14 07:24:00  \n",
       "75%              2023-03-09 10:22:30            2023-03-09 11:09:45  \n",
       "max              2023-08-01 16:55:00            2023-08-01 16:48:00  \n",
       "std                              NaN                            NaN  "
      ]
     },
     "execution_count": 271,
     "metadata": {},
     "output_type": "execute_result"
    }
   ],
   "source": [
    "base_NT_interrupcoes2.describe()"
   ]
  },
  {
   "cell_type": "code",
   "execution_count": 272,
   "metadata": {},
   "outputs": [],
   "source": [
    "#Se tem 2 interrupções ou mais no mesmo bombeio só duplica a primeira\n",
    "indices_para_remover = [] \n",
    "for i, row in base_NT_interrupcoes2.iterrows():\n",
    "    if i < len(base_NT_interrupcoes2) - 2:\n",
    "        linha_atual = base_NT_interrupcoes2.iloc[i]\n",
    "        linha_seguinte = base_NT_interrupcoes2.iloc[i+1]\n",
    "        linha_seguinte_seguinte = base_NT_interrupcoes2.iloc[i+2]\n",
    "        if ((linha_atual[\"ID\"] == linha_seguinte[\"ID\"]) & (linha_atual['TIPO_INTERRUPCAO'] == 'Interrupção Bombeio') & (linha_seguinte['TIPO_INTERRUPCAO'] == 'Interrupção Bombeio') & (linha_atual['DURACAO_INTERRUPCAO'] != linha_seguinte['DURACAO_INTERRUPCAO'])): \n",
    "             indices_para_remover.append(linha_seguinte_seguinte.name)\n",
    "\n",
    "base_NT_interrupcoes2 = base_NT_interrupcoes2.drop(indices_para_remover)\n",
    "\n",
    "#NOSSO -> nao tem equivalente no deles\n"
   ]
  },
  {
   "cell_type": "code",
   "execution_count": 273,
   "metadata": {},
   "outputs": [],
   "source": [
    "#Percebemos que em alguns casos (Ex: ID 394) o início da interrupção acontece antes do início do bombeio, por isso:\n",
    "# Verificar se TIPO_INTERRUPCAO está vazio e substituir os valores das outras colunas\n",
    "condicao = base_NT_interrupcoes2['TIPO_INTERRUPCAO'] == ''\n",
    "base_NT_interrupcoes2.loc[condicao, ['DURACAO_INTERRUPCAO', 'INICIO_INTERRUPCAO', 'FIM_INTERRUPCAO']] = np.nan\n",
    "\n",
    "# Substituir o início da interrupção pelo valor de início do bombeio onde necessário\n",
    "base_NT_interrupcoes2.loc[base_NT_interrupcoes2['INICIO_INTERRUPCAO'] < base_NT_interrupcoes2['Início'], 'INICIO_INTERRUPCAO'] = base_NT_interrupcoes2['Início']\n",
    "\n",
    "# Substituir o fim da interrupção pelo valor de fim do bombeio onde necessário\n",
    "base_NT_interrupcoes2.loc[base_NT_interrupcoes2['FIM_INTERRUPCAO'] > base_NT_interrupcoes2['Término'], 'FIM_INTERRUPCAO'] = base_NT_interrupcoes2['Término']        "
   ]
  },
  {
   "cell_type": "code",
   "execution_count": 274,
   "metadata": {},
   "outputs": [],
   "source": [
    "#Alternado as datas de Término da primeira interrupção e Início da segunda interrupção (considerando também casos com mais de 2 interrupções)\n",
    "for i, row in base_NT_interrupcoes2.iterrows():\n",
    "    if i < len(base_NT_interrupcoes2) - 1:\n",
    "        linha_atual = base_NT_interrupcoes2.iloc[i]\n",
    "        linha_seguinte = base_NT_interrupcoes2.iloc[i+1]\n",
    "        if ((linha_atual[\"ID\"] == linha_seguinte[\"ID\"]) & (linha_atual['TIPO_INTERRUPCAO'] == 'Interrupção Bombeio') & (linha_seguinte['TIPO_INTERRUPCAO'] == 'Interrupção Bombeio')): \n",
    "            base_NT_interrupcoes2.at[linha_atual.name, 'Término'] = linha_seguinte[\"INICIO_INTERRUPCAO\"]\n",
    "            base_NT_interrupcoes2.at[linha_seguinte.name, 'Início'] = linha_atual[\"FIM_INTERRUPCAO\"]\n",
    "        if ((linha_atual[\"ID\"] == linha_seguinte[\"ID\"]) & (linha_atual['TIPO_INTERRUPCAO'] == 'Interrupção Bombeio') & (linha_seguinte['TIPO_INTERRUPCAO'] == 'Interrupção Bombeio')& (linha_atual['DURACAO_INTERRUPCAO'] != linha_seguinte['DURACAO_INTERRUPCAO'])): \n",
    "            base_NT_interrupcoes2.at[linha_seguinte.name, 'Início'] = linha_seguinte[\"FIM_INTERRUPCAO\"]\n",
    "\n",
    "#NOSSO-> deles deu errado, loop do bombeio aumentou e o outro caminho sumiu"
   ]
  },
  {
   "cell_type": "code",
   "execution_count": 275,
   "metadata": {},
   "outputs": [],
   "source": [
    "#Retirando os casos com bombeio instantâneo\n",
    "indices_para_excluir = base_NT_interrupcoes2[(base_NT_interrupcoes2[\"Ocorrência\"] == \"Bombeio\") & (base_NT_interrupcoes2['Início'] == base_NT_interrupcoes2['Término'])].index\n",
    "base_NT_interrupcoes2 = base_NT_interrupcoes2.drop(indices_para_excluir)\n",
    "#Agora não aparece mais no process mining bombeios instantâneos.            \n",
    "\n",
    "#NOSSO -> deles deu errado, o loop do bombeio aumentou e outro caminho sumiu"
   ]
  },
  {
   "cell_type": "code",
   "execution_count": 276,
   "metadata": {},
   "outputs": [],
   "source": [
    "#Para a ocorrência H.O.S. trocar os términos que estão vazios pelos inícios, pois o H.O.S. é sempre instantâneo.\n",
    "for index,linha in base_NT_interrupcoes2.iterrows():\n",
    "    if linha['Ocorrência'] == \"H.O.S.\":\n",
    "        if type(base_NT_interrupcoes2.loc[index,'Término']) == pd._libs.tslibs.nattype.NaTType:\n",
    "            base_NT_interrupcoes2.loc[index,'Término'] = base_NT_interrupcoes2.loc[index,\"Início\"]\n",
    "            \n",
    "#Agora o H.O.S. não está com o término vazio, seu término é igual ao seu início pois é uma atividade instantânea    "
   ]
  },
  {
   "cell_type": "code",
   "execution_count": 277,
   "metadata": {},
   "outputs": [],
   "source": [
    "#Exportando as bases em formato excel e csv para o process mining\n",
    "base_NT_interrupcoes2.to_excel('Arquivos\\BaseNTFinalDeles.xlsx')\n",
    "base_NT_interrupcoes2.to_csv('Arquivos\\\\BaseNTFinalDeles.csv')\n",
    "#A única coisa estranha que ainda ta acontecendo é que tem um único caso ID 2323 em que não ocorre bombeio, pois a interrupção também começava antes do bombeio, e terminava exatamente no término do bombeio, assim, após fazer aquela modificação de trocar o início da interrupção pelo início do bombeio, o bombeio acabou sendo instantâneo e sendo excluído, logo esse caso está sem bombeio, mas decidimos deixá-lo por enquanto."
   ]
  },
  {
   "cell_type": "code",
   "execution_count": 278,
   "metadata": {},
   "outputs": [
    {
     "data": {
      "text/plain": [
       "22868"
      ]
     },
     "execution_count": 278,
     "metadata": {},
     "output_type": "execute_result"
    }
   ],
   "source": [
    "#Verificando a quantidade de serviços\n",
    "len(base_NT_interrupcoes2)"
   ]
  },
  {
   "cell_type": "code",
   "execution_count": 279,
   "metadata": {},
   "outputs": [
    {
     "data": {
      "text/html": [
       "<div>\n",
       "<style scoped>\n",
       "    .dataframe tbody tr th:only-of-type {\n",
       "        vertical-align: middle;\n",
       "    }\n",
       "\n",
       "    .dataframe tbody tr th {\n",
       "        vertical-align: top;\n",
       "    }\n",
       "\n",
       "    .dataframe thead th {\n",
       "        text-align: right;\n",
       "    }\n",
       "</style>\n",
       "<table border=\"1\" class=\"dataframe\">\n",
       "  <thead>\n",
       "    <tr style=\"text-align: right;\">\n",
       "      <th></th>\n",
       "      <th>ID</th>\n",
       "      <th>Volume Programado</th>\n",
       "      <th>Volume Retirado</th>\n",
       "      <th>Data Prevista de Chegada</th>\n",
       "      <th>Data Prevista de Saída</th>\n",
       "      <th>Início</th>\n",
       "      <th>Término</th>\n",
       "    </tr>\n",
       "  </thead>\n",
       "  <tbody>\n",
       "    <tr>\n",
       "      <th>count</th>\n",
       "      <td>22868.00</td>\n",
       "      <td>22868.00</td>\n",
       "      <td>22868.00</td>\n",
       "      <td>22868</td>\n",
       "      <td>22868</td>\n",
       "      <td>22867</td>\n",
       "      <td>22867</td>\n",
       "    </tr>\n",
       "    <tr>\n",
       "      <th>mean</th>\n",
       "      <td>1609.47</td>\n",
       "      <td>80827.35</td>\n",
       "      <td>80360.84</td>\n",
       "      <td>2022-10-15 23:12:10.263337472</td>\n",
       "      <td>2022-10-17 09:36:19.107005184</td>\n",
       "      <td>2022-10-16 16:32:07.931954176</td>\n",
       "      <td>2022-10-16 20:41:45.762889984</td>\n",
       "    </tr>\n",
       "    <tr>\n",
       "      <th>min</th>\n",
       "      <td>0.00</td>\n",
       "      <td>2000.00</td>\n",
       "      <td>1990.10</td>\n",
       "      <td>2022-01-01 00:01:00</td>\n",
       "      <td>2022-01-01 23:30:00</td>\n",
       "      <td>2022-01-01 00:01:00</td>\n",
       "      <td>2022-01-01 03:24:00</td>\n",
       "    </tr>\n",
       "    <tr>\n",
       "      <th>25%</th>\n",
       "      <td>803.00</td>\n",
       "      <td>70000.00</td>\n",
       "      <td>70082.00</td>\n",
       "      <td>2022-05-23 12:00:00</td>\n",
       "      <td>2022-05-25 08:45:00</td>\n",
       "      <td>2022-05-24 11:00:00</td>\n",
       "      <td>2022-05-24 15:05:00</td>\n",
       "    </tr>\n",
       "    <tr>\n",
       "      <th>50%</th>\n",
       "      <td>1606.00</td>\n",
       "      <td>79500.00</td>\n",
       "      <td>78952.91</td>\n",
       "      <td>2022-10-13 12:00:00</td>\n",
       "      <td>2022-10-14 23:18:00</td>\n",
       "      <td>2022-10-14 08:48:00</td>\n",
       "      <td>2022-10-14 14:10:00</td>\n",
       "    </tr>\n",
       "    <tr>\n",
       "      <th>75%</th>\n",
       "      <td>2416.00</td>\n",
       "      <td>87000.00</td>\n",
       "      <td>86005.44</td>\n",
       "      <td>2023-03-08 13:00:00</td>\n",
       "      <td>2023-03-09 23:39:34</td>\n",
       "      <td>2023-03-09 09:55:00</td>\n",
       "      <td>2023-03-09 12:31:30</td>\n",
       "    </tr>\n",
       "    <tr>\n",
       "      <th>max</th>\n",
       "      <td>3225.00</td>\n",
       "      <td>166000.00</td>\n",
       "      <td>170507.00</td>\n",
       "      <td>2023-07-31 13:00:00</td>\n",
       "      <td>2023-08-01 18:00:00</td>\n",
       "      <td>2023-08-01 16:55:00</td>\n",
       "      <td>2023-08-01 16:55:00</td>\n",
       "    </tr>\n",
       "    <tr>\n",
       "      <th>std</th>\n",
       "      <td>931.00</td>\n",
       "      <td>30214.85</td>\n",
       "      <td>30407.98</td>\n",
       "      <td>NaN</td>\n",
       "      <td>NaN</td>\n",
       "      <td>NaN</td>\n",
       "      <td>NaN</td>\n",
       "    </tr>\n",
       "  </tbody>\n",
       "</table>\n",
       "</div>"
      ],
      "text/plain": [
       "             ID  Volume Programado  Volume Retirado  \\\n",
       "count  22868.00           22868.00         22868.00   \n",
       "mean    1609.47           80827.35         80360.84   \n",
       "min        0.00            2000.00          1990.10   \n",
       "25%      803.00           70000.00         70082.00   \n",
       "50%     1606.00           79500.00         78952.91   \n",
       "75%     2416.00           87000.00         86005.44   \n",
       "max     3225.00          166000.00        170507.00   \n",
       "std      931.00           30214.85         30407.98   \n",
       "\n",
       "            Data Prevista de Chegada         Data Prevista de Saída  \\\n",
       "count                          22868                          22868   \n",
       "mean   2022-10-15 23:12:10.263337472  2022-10-17 09:36:19.107005184   \n",
       "min              2022-01-01 00:01:00            2022-01-01 23:30:00   \n",
       "25%              2022-05-23 12:00:00            2022-05-25 08:45:00   \n",
       "50%              2022-10-13 12:00:00            2022-10-14 23:18:00   \n",
       "75%              2023-03-08 13:00:00            2023-03-09 23:39:34   \n",
       "max              2023-07-31 13:00:00            2023-08-01 18:00:00   \n",
       "std                              NaN                            NaN   \n",
       "\n",
       "                              Início                        Término  \n",
       "count                          22867                          22867  \n",
       "mean   2022-10-16 16:32:07.931954176  2022-10-16 20:41:45.762889984  \n",
       "min              2022-01-01 00:01:00            2022-01-01 03:24:00  \n",
       "25%              2022-05-24 11:00:00            2022-05-24 15:05:00  \n",
       "50%              2022-10-14 08:48:00            2022-10-14 14:10:00  \n",
       "75%              2023-03-09 09:55:00            2023-03-09 12:31:30  \n",
       "max              2023-08-01 16:55:00            2023-08-01 16:55:00  \n",
       "std                              NaN                            NaN  "
      ]
     },
     "execution_count": 279,
     "metadata": {},
     "output_type": "execute_result"
    }
   ],
   "source": [
    "base_NT_interrupcoes2.describe().round(2)"
   ]
  },
  {
   "cell_type": "code",
   "execution_count": 280,
   "metadata": {},
   "outputs": [],
   "source": [
    "import pm4py"
   ]
  },
  {
   "cell_type": "code",
   "execution_count": 281,
   "metadata": {},
   "outputs": [
    {
     "name": "stderr",
     "output_type": "stream",
     "text": [
      "C:\\Users\\jcantarino\\AppData\\Local\\Temp\\ipykernel_10232\\674699035.py:6: SettingWithCopyWarning: \n",
      "A value is trying to be set on a copy of a slice from a DataFrame.\n",
      "Try using .loc[row_indexer,col_indexer] = value instead\n",
      "\n",
      "See the caveats in the documentation: https://pandas.pydata.org/pandas-docs/stable/user_guide/indexing.html#returning-a-view-versus-a-copy\n",
      "  log['ID'] = log['ID'].astype(str)\n",
      "C:\\Users\\jcantarino\\AppData\\Local\\Packages\\PythonSoftwareFoundation.Python.3.11_qbz5n2kfra8p0\\LocalCache\\local-packages\\Python311\\site-packages\\pm4py\\algo\\discovery\\dfg\\adapters\\pandas\\df_statistics.py:73: SettingWithCopyWarning: \n",
      "A value is trying to be set on a copy of a slice from a DataFrame.\n",
      "Try using .loc[row_indexer,col_indexer] = value instead\n",
      "\n",
      "See the caveats in the documentation: https://pandas.pydata.org/pandas-docs/stable/user_guide/indexing.html#returning-a-view-versus-a-copy\n",
      "  df[start_timestamp_key] = df[timestamp_key]\n"
     ]
    },
    {
     "data": {
      "image/png": "[encoded data removed]",
      "text/plain": [
       "<IPython.core.display.Image object>"
      ]
     },
     "metadata": {},
     "output_type": "display_data"
    }
   ],
   "source": [
    "if __name__ == \"__main__\":\n",
    "    #Lê o arquivo xlsx que contém o log de eventos\n",
    "    log = base_NT_interrupcoes2\n",
    "    if log['Início'].isnull().any():\n",
    "        log = log.dropna(subset=['Início'])\n",
    "    log['ID'] = log['ID'].astype(str)\n",
    "    performance_dfg, start_activities, end_activities = pm4py.discover_performance_dfg(log, case_id_key='ID', activity_key='Ocorrência', timestamp_key='Início')\n",
    "    pm4py.view_performance_dfg(performance_dfg, start_activities, end_activities)"
   ]
  },
  {
   "cell_type": "code",
   "execution_count": 282,
   "metadata": {},
   "outputs": [
    {
     "name": "stderr",
     "output_type": "stream",
     "text": [
      "C:\\Users\\jcantarino\\AppData\\Local\\Temp\\ipykernel_10232\\1018536949.py:7: SettingWithCopyWarning: \n",
      "A value is trying to be set on a copy of a slice from a DataFrame.\n",
      "Try using .loc[row_indexer,col_indexer] = value instead\n",
      "\n",
      "See the caveats in the documentation: https://pandas.pydata.org/pandas-docs/stable/user_guide/indexing.html#returning-a-view-versus-a-copy\n",
      "  log['ID'] = log['ID'].astype(str)\n",
      "C:\\Users\\jcantarino\\AppData\\Local\\Packages\\PythonSoftwareFoundation.Python.3.11_qbz5n2kfra8p0\\LocalCache\\local-packages\\Python311\\site-packages\\pm4py\\algo\\discovery\\dfg\\adapters\\pandas\\df_statistics.py:73: SettingWithCopyWarning: \n",
      "A value is trying to be set on a copy of a slice from a DataFrame.\n",
      "Try using .loc[row_indexer,col_indexer] = value instead\n",
      "\n",
      "See the caveats in the documentation: https://pandas.pydata.org/pandas-docs/stable/user_guide/indexing.html#returning-a-view-versus-a-copy\n",
      "  df[start_timestamp_key] = df[timestamp_key]\n"
     ]
    },
    {
     "data": {
      "image/png": "[encoded data removed]",
      "text/plain": [
       "<IPython.core.display.Image object>"
      ]
     },
     "metadata": {},
     "output_type": "display_data"
    }
   ],
   "source": [
    "if __name__ == \"__main__\":\n",
    "    log = base_NT_interrupcoes2\n",
    "    if log['Início'].isnull().any():\n",
    "        log = log.dropna(subset=['Início'])\n",
    "    #Descobre o grafo de fluxo direcionado (DFG) e as atividades iniciais e finais.\n",
    "    #O DFG mostra a relação entre as atividades no log de eventos.\n",
    "    log['ID'] = log['ID'].astype(str)\n",
    "    dfg, start_activities, end_activities = pm4py.discover_dfg(log,case_id_key='ID', activity_key='Ocorrência', timestamp_key='Início')\n",
    "    \n",
    "    #Exibe o grafo de fluxo direcionado (DFG) juntamente com as atividades iniciais e finais.\n",
    "    #Isso permite visualizar a sequência de atividades no log de eventos.\n",
    "    pm4py.view_dfg(dfg, start_activities, end_activities)"
   ]
  },
  {
   "cell_type": "code",
   "execution_count": 283,
   "metadata": {},
   "outputs": [
    {
     "name": "stderr",
     "output_type": "stream",
     "text": [
      "C:\\Users\\jcantarino\\AppData\\Local\\Temp\\ipykernel_10232\\1299073897.py:8: SettingWithCopyWarning: \n",
      "A value is trying to be set on a copy of a slice from a DataFrame.\n",
      "Try using .loc[row_indexer,col_indexer] = value instead\n",
      "\n",
      "See the caveats in the documentation: https://pandas.pydata.org/pandas-docs/stable/user_guide/indexing.html#returning-a-view-versus-a-copy\n",
      "  log['ID'] = log['ID'].astype(str)\n",
      "C:\\Users\\jcantarino\\AppData\\Local\\Packages\\PythonSoftwareFoundation.Python.3.11_qbz5n2kfra8p0\\LocalCache\\local-packages\\Python311\\site-packages\\pm4py\\algo\\discovery\\dfg\\adapters\\pandas\\df_statistics.py:73: SettingWithCopyWarning: \n",
      "A value is trying to be set on a copy of a slice from a DataFrame.\n",
      "Try using .loc[row_indexer,col_indexer] = value instead\n",
      "\n",
      "See the caveats in the documentation: https://pandas.pydata.org/pandas-docs/stable/user_guide/indexing.html#returning-a-view-versus-a-copy\n",
      "  df[start_timestamp_key] = df[timestamp_key]\n"
     ]
    },
    {
     "data": {
      "image/png": "[encoded data removed]",
      "text/plain": [
       "<IPython.core.display.Image object>"
      ]
     },
     "metadata": {},
     "output_type": "display_data"
    }
   ],
   "source": [
    "if __name__ == \"__main__\":\n",
    "    # Lê o arquivo xlsx que contém o log de eventos\n",
    "    log = base_NT_interrupcoes2\n",
    "    if log['Início'].isnull().any():\n",
    "        log = log.dropna(subset=['Início'])\n",
    "    # Descobre a rede heurística a partir do log de eventos.\n",
    "    # A rede heurística é uma representação gráfica de relações entre atividades comuns no log.\n",
    "    log['ID'] = log['ID'].astype(str)\n",
    "    heuristics_net = pm4py.discover_heuristics_net(log, case_id_key='ID',activity_key='Ocorrência', timestamp_key='Início')\n",
    "\n",
    "    # Exibe a rede heurística.\n",
    "    # Isso permite visualizar as relações entre atividades no log de eventos.\n",
    "    pm4py.view_heuristics_net(heuristics_net)"
   ]
  }
 ],
 "metadata": {
  "kernelspec": {
   "display_name": "base",
   "language": "python",
   "name": "python3"
  },
  "language_info": {
   "codemirror_mode": {
    "name": "ipython",
    "version": 3
   },
   "file_extension": ".py",
   "mimetype": "text/x-python",
   "name": "python",
   "nbconvert_exporter": "python",
   "pygments_lexer": "ipython3",
   "version": "3.11.9"
  }
 },
 "nbformat": 4,
 "nbformat_minor": 2
}
