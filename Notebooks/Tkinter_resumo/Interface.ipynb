{
 "cells": [
  {
   "cell_type": "code",
   "execution_count": 66,
   "metadata": {},
   "outputs": [],
   "source": [
    "from tkinter import *\n",
    "import tkinter as tk\n",
    "from tkinter.filedialog import askopenfilename\n",
    "from pm4py.visualization.dfg import visualizer as dfg_visualizer\n",
    "import os\n",
    "from PIL import Image, ImageTk\n",
    "\n",
    "import pm4py\n",
    "import pandas as pd\n"
   ]
  },
  {
   "cell_type": "markdown",
   "metadata": {},
   "source": [
    "## Funções"
   ]
  },
  {
   "cell_type": "markdown",
   "metadata": {},
   "source": [
    "### função que escolhe o caminho "
   ]
  },
  {
   "cell_type": "code",
   "execution_count": 67,
   "metadata": {},
   "outputs": [],
   "source": [
    "def escolhe_arquivo():\n",
    "    caminho_do_arquivo = askopenfilename(filetypes=[(\"Arquivo CSV\", \"*.csv\"), (\"Arquivo Excel\", \"*.xlsx\"), (\"Arquivo XES\", '*.xes')])\n",
    "    if caminho_do_arquivo:\n",
    "        \n",
    "        label_arquivo.config(text=f\"Arquivo selecionado: {caminho_do_arquivo}\") # Calma é pra não estar definido msm\n",
    "\n",
    "        #Mudar a chama dessa função quando for criar a função que trata os dados\n",
    "    ##---------------------------------------------------------------TENTANDO FAZER OS BOTOES-----------------------------------------------------------------------\n",
    "def escolhe_grafico1():\n",
    "    cria_grafo_dfg(caminho_do_arquivo)\n",
    "    # escolhe_grafico(caminho_do_arquivo)"
   ]
  },
  {
   "cell_type": "markdown",
   "metadata": {},
   "source": [
    "### função cria o gráfico"
   ]
  },
  {
   "cell_type": "code",
   "execution_count": 68,
   "metadata": {},
   "outputs": [],
   "source": [
    "def cria_grafo_dfg(caminho):\n",
    "    #Checando se o arquivo é xlsx ou csv\n",
    "    tipoArq = caminho.split('.')\n",
    "    \n",
    "    if tipoArq[-1] in 'csv':\n",
    "        log = pm4py.format_dataframe(pd.read_csv(caminho, sep= ';'), case_id='ID', activity_key='Ocorrência', timestamp_key='Início')\n",
    "\n",
    "    elif tipoArq[-1] in 'xlsx':\n",
    "        log = pm4py.format_dataframe(pd.read_excel(caminho), case_id='ID', activity_key='Ocorrência', timestamp_key='Início') # depois arrumar um jeito de o usuario selecionar as colunas case_id activity_key e timestamp_key\n",
    "\n",
    "    elif tipoArq[-1] in 'xes':\n",
    "        log = pm4py.format_dataframe(pm4py.read_xes(caminho), case_id='ID', activity_key='Ocorrência', timestamp_key='Início') # depois arrumar um jeito de o usuario selecionar as colunas case_id \n",
    "\n",
    "    ##----------------------------------------------------------------------------------------------------------------------------------------\n",
    "    log['ID'] = log['ID'].astype(str)\n",
    "\n",
    "    dfg, start_activities, end_activities = pm4py.discover_dfg(log)\n",
    "    grafo = dfg_visualizer.apply(dfg, log=log)\n",
    "    dfg_visualizer.save(grafo, \"grafico.png\")\n",
    "    \n",
    "    ##----------------------------------------------------------------------------------------------------------------------------------------\n",
    "    lable_auxImagem.config(text=\"Imagem do DFG salva como 'grafico.png'\")\n",
    "    print(\"Imagem do DFG salva como 'grafico.png'\")\n",
    "\n",
    "    ##---------------------------------------------------------------DEIXEI PRA DEPOIS-------------------------------------------------------------------------\n",
    "    \n",
    "    # imagem_grafico = PhotoImage(file=\"dfg_grafico.png\", master=frame_grafico)\n",
    "    # imagem_grafico = imagem_grafico.subsample(1,1)\n",
    "    # fig_grafico = Label(frame_grafico, image=imagem_grafico)\n",
    "    # fig_grafico.image = imagem_grafico\n",
    "    # fig_grafico.pack()\n",
    "    \n",
    "\n",
    "    exibe_grafico(\"grafico.png\")"
   ]
  },
  {
   "cell_type": "code",
   "execution_count": 69,
   "metadata": {},
   "outputs": [],
   "source": [
    "def cria_grafo_petri_net(caminho):\n",
    "    #Checando se o arquivo é xlsx ou csv\n",
    "    tipoArq = caminho.split('.')\n",
    "    \n",
    "    if tipoArq[-1] in 'csv':\n",
    "        log = pm4py.format_dataframe(pd.read_csv(caminho, sep=';'), case_id='ID', activity_key='Ocorrência', timestamp_key='Início')\n",
    "\n",
    "    elif tipoArq[-1] in 'xlsx':\n",
    "        log = pm4py.format_dataframe(pd.read_excel(caminho), case_id='ID', activity_key='Ocorrência', timestamp_key='Início') # depois arrumar um jeito de o usuario selecionar as colunas case_id activity_key e timestamp_key\n",
    "\n",
    "    elif tipoArq[-1] in 'xes':\n",
    "        log = pm4py.format_dataframe(pm4py.read_xes(caminho), case_id='ID', activity_key='Ocorrência', timestamp_key='Início') # depois arrumar um jeito de o usuario selecionar as colunas case_id \n",
    "\n",
    "    ##----------------------------------------------------------------------------------------------------------------------------------------\n",
    "    log['ID'] = log['ID'].astype(str)\n",
    "\n",
    "    pn, ini, fim = pm4py.discover_petri_net_inductive(log)\n",
    "\n",
    "\n",
    "    grafo = dfg_visualizer.apply(pn, log=log)\n",
    "    dfg_visualizer.save(grafo, \"grafico.png\")\n",
    "    \n",
    "    ##----------------------------------------------------------------------------------------------------------------------------------------\n",
    "    lable_auxImagem.config(text=\"Imagem do DFG salva como 'dfg_grafico.png'\")\n",
    "    print(\"Imagem do DFG salva como 'dfg_grafico.png'\")\n",
    "\n",
    "    ##---------------------------------------------------------------DEIXEI PRA DEPOIS-------------------------------------------------------------------------\n",
    "    \n",
    "    # imagem_grafico = PhotoImage(file=\"dfg_grafico.png\", master=frame_grafico)\n",
    "    # imagem_grafico = imagem_grafico.subsample(1,1)\n",
    "    # fig_grafico = Label(frame_grafico, image=imagem_grafico)\n",
    "    # fig_grafico.image = imagem_grafico\n",
    "    # fig_grafico.pack()\n",
    "    \n",
    "\n",
    "    exibe_grafico(\"grafico.png\")"
   ]
  },
  {
   "cell_type": "markdown",
   "metadata": {},
   "source": [
    "### Função que vai plotar os gráficos"
   ]
  },
  {
   "cell_type": "code",
   "execution_count": 70,
   "metadata": {},
   "outputs": [],
   "source": [
    "def exibe_grafico(caminho):\n",
    "    \n",
    "    imagem_grafico = PhotoImage(file=caminho, master=frame_grafico)\n",
    "    imagem_grafico = imagem_grafico.subsample(1,1)\n",
    "    fig_grafico = Label(frame_grafico, image=imagem_grafico)\n",
    "    fig_grafico.image = imagem_grafico\n",
    "    fig_grafico.pack()"
   ]
  },
  {
   "cell_type": "markdown",
   "metadata": {},
   "source": [
    "### Função que pega valor do widget Scale"
   ]
  },
  {
   "cell_type": "code",
   "execution_count": 71,
   "metadata": {},
   "outputs": [],
   "source": [
    "def pega_valor_scale():\n",
    "    print('atividades:')\n",
    "    print(escala1.get())\n",
    "    print('Paths')\n",
    "    print(escala2.get())"
   ]
  },
  {
   "cell_type": "markdown",
   "metadata": {},
   "source": [
    "## Instanciando a janela"
   ]
  },
  {
   "cell_type": "code",
   "execution_count": 72,
   "metadata": {},
   "outputs": [
    {
     "data": {
      "text/plain": [
       "''"
      ]
     },
     "execution_count": 72,
     "metadata": {},
     "output_type": "execute_result"
    }
   ],
   "source": [
    "raiz = tk.Tk(className='Primeira janela de teste para a interface')\n",
    "raiz.geometry('960x540')\n",
    "\n",
    "#---------------------------------------------TENTATIVA PNG---------------------------------------------------------\n",
    "# raiz.title(\"Janela com Ícone Personalizado\")\n",
    "\n",
    "# # Carregar a imagem do ícone usando PIL\n",
    "# image = Image.open('C:\\\\Users\\\\meduarda\\\\grupo-2-7\\\\Notebooks\\\\Tkinter_resumo\\\\iconProcessGUI.png')\n",
    "# icon_image = ImageTk.PhotoImage(image)\n",
    "\n",
    "# # Definir a imagem como ícone da janela\n",
    "# raiz.iconphoto(False, icon_image)\n",
    "#---------------------------------------------TENTATIVA .ICO---------------------------------------------------------\n",
    "\n",
    "# image = Image.open(\"iconProcessGUI.png\")\n",
    "# icon_image = ImageTk.PhotoImage(image)\n",
    "\n",
    "# # Definir a imagem como ícone da janela\n",
    "# raiz.iconphoto(False, icon_image)"
   ]
  },
  {
   "cell_type": "markdown",
   "metadata": {},
   "source": [
    "## Frames"
   ]
  },
  {
   "cell_type": "markdown",
   "metadata": {},
   "source": [
    "### Criando o frame de seleção de arquivos"
   ]
  },
  {
   "cell_type": "code",
   "execution_count": 73,
   "metadata": {},
   "outputs": [],
   "source": [
    "frame1 = Frame(raiz) #bg=\"blue\"\n",
    "frame1.pack(side='top',fill=tk.BOTH)"
   ]
  },
  {
   "cell_type": "markdown",
   "metadata": {},
   "source": [
    "### Frame do grafico"
   ]
  },
  {
   "cell_type": "code",
   "execution_count": 74,
   "metadata": {},
   "outputs": [],
   "source": [
    "frame_grafico = Frame(raiz)\n",
    "frame_grafico.pack()"
   ]
  },
  {
   "cell_type": "markdown",
   "metadata": {},
   "source": [
    "### Criando o frame Lateral"
   ]
  },
  {
   "cell_type": "code",
   "execution_count": 75,
   "metadata": {},
   "outputs": [],
   "source": [
    "frame_lateral = Frame(raiz)\n",
    "frame_lateral.pack(side = 'right',pady=20, fill=tk.BOTH)"
   ]
  },
  {
   "cell_type": "markdown",
   "metadata": {},
   "source": [
    "## Widgets"
   ]
  },
  {
   "cell_type": "markdown",
   "metadata": {},
   "source": [
    "### Botão de seleção de arquivos ###"
   ]
  },
  {
   "cell_type": "code",
   "execution_count": 76,
   "metadata": {},
   "outputs": [],
   "source": [
    "arq = PhotoImage(file='iconArq.png', master=frame1)\n",
    "arq = arq.subsample(2,2)\n",
    "fig1 = Label(frame1, image=arq)\n",
    "fig1.image = arq\n",
    "\n",
    "botao = Button(frame1, image=arq, command=escolhe_arquivo, bd=0, highlightthickness=0, bg= 'green')\n",
    "botao.pack(side='left')\n",
    "\n",
    "label_arquivo = Label(frame1, text=\"Nenhum arquivo selecionado\")\n",
    "label_arquivo.pack(pady=10)\n",
    "\n",
    "lable_auxImagem= Label(frame1, text=\"Nenhma Imagem Gerada\")\n",
    "lable_auxImagem.pack(pady=10)"
   ]
  },
  {
   "cell_type": "markdown",
   "metadata": {},
   "source": [
    "### Botões de seleção de Gráfico (TESTE) ###"
   ]
  },
  {
   "cell_type": "code",
   "execution_count": 77,
   "metadata": {},
   "outputs": [
    {
     "ename": "TypeError",
     "evalue": "escolhe_grafico() missing 1 required positional argument: 'arquivo'",
     "output_type": "error",
     "traceback": [
      "\u001b[1;31m---------------------------------------------------------------------------\u001b[0m",
      "\u001b[1;31mTypeError\u001b[0m                                 Traceback (most recent call last)",
      "Cell \u001b[1;32mIn[77], line 1\u001b[0m\n\u001b[1;32m----> 1\u001b[0m botaoFrequencia \u001b[38;5;241m=\u001b[39m Button(frame1, text\u001b[38;5;241m=\u001b[39m\u001b[38;5;124m'\u001b[39m\u001b[38;5;124mGrafico Frêquencia\u001b[39m\u001b[38;5;124m'\u001b[39m, command\u001b[38;5;241m=\u001b[39m\u001b[43mescolhe_grafico\u001b[49m\u001b[43m(\u001b[49m\u001b[43m)\u001b[49m, bd\u001b[38;5;241m=\u001b[39m\u001b[38;5;241m5\u001b[39m, relief\u001b[38;5;241m=\u001b[39m\u001b[38;5;124m\"\u001b[39m\u001b[38;5;124mridge\u001b[39m\u001b[38;5;124m\"\u001b[39m, bg\u001b[38;5;241m=\u001b[39m \u001b[38;5;124m'\u001b[39m\u001b[38;5;124mskyblue\u001b[39m\u001b[38;5;124m'\u001b[39m)\n\u001b[0;32m      2\u001b[0m botaoFrequencia\u001b[38;5;241m.\u001b[39mpack(side\u001b[38;5;241m=\u001b[39m\u001b[38;5;124m'\u001b[39m\u001b[38;5;124mright\u001b[39m\u001b[38;5;124m'\u001b[39m, pady\u001b[38;5;241m=\u001b[39m\u001b[38;5;241m10\u001b[39m)\n\u001b[0;32m      4\u001b[0m botaoPetriNet \u001b[38;5;241m=\u001b[39m Button(frame1, text\u001b[38;5;241m=\u001b[39m\u001b[38;5;124m'\u001b[39m\u001b[38;5;124mGrafico Rede de Petri\u001b[39m\u001b[38;5;124m'\u001b[39m, bd\u001b[38;5;241m=\u001b[39m\u001b[38;5;241m5\u001b[39m, relief\u001b[38;5;241m=\u001b[39m\u001b[38;5;124m\"\u001b[39m\u001b[38;5;124mridge\u001b[39m\u001b[38;5;124m\"\u001b[39m, bg\u001b[38;5;241m=\u001b[39m \u001b[38;5;124m'\u001b[39m\u001b[38;5;124mskyblue\u001b[39m\u001b[38;5;124m'\u001b[39m) \u001b[38;5;66;03m#''' command=cria_grafo_petri_net(arquivo)'''\u001b[39;00m\n",
      "\u001b[1;31mTypeError\u001b[0m: escolhe_grafico() missing 1 required positional argument: 'arquivo'"
     ]
    }
   ],
   "source": [
    "botaoFrequencia = Button(frame1, text='Grafico Frêquencia', command=escolhe_grafico1(), bd=5, relief=\"ridge\", bg= 'skyblue')\n",
    "botaoFrequencia.pack(side='right', pady=10)\n",
    "\n",
    "botaoPetriNet = Button(frame1, text='Grafico Rede de Petri', bd=5, relief=\"ridge\", bg= 'skyblue') #''' command=cria_grafo_petri_net(arquivo)'''\n",
    "botaoPetriNet.pack(side='right', pady=10)\n",
    "\n",
    "botaoPerformance = Button(frame1, text='Grafico Performance', command=escolhe_arquivo, bd=5, relief=\"ridge\", bg= 'skyblue')\n",
    "botaoPerformance.pack(side='right', pady=10)"
   ]
  },
  {
   "cell_type": "markdown",
   "metadata": {},
   "source": [
    "### Criando widgets da lable lateral"
   ]
  },
  {
   "cell_type": "code",
   "execution_count": null,
   "metadata": {},
   "outputs": [],
   "source": [
    "\n",
    "# Criando A lable na lateral direita\n",
    "label_direita_sup = Label(frame_lateral, padx=40, pady=10, borderwidth=2, relief=\"solid\")\n",
    "label_direita_sup.pack(fill=tk.Y, expand=True)\n",
    "\n",
    "# Criando um frame para cada conjunto de label e escala\n",
    "frame_escala1 = tk.Frame(label_direita_sup)\n",
    "frame_escala1.pack(side='left', padx=5, pady=10)\n",
    "\n",
    "frame_escala2 = tk.Frame(label_direita_sup)\n",
    "frame_escala2.pack(side='left', padx=5, pady=10)\n",
    "\n",
    "# Adicionando rótulo e escala no primeiro frame\n",
    "label_escala1 = tk.Label(frame_escala1, text=\"Activities\")\n",
    "label_escala1.pack()\n",
    "\n",
    "escala1 = Scale(frame_escala1, from_=100, to=0, orient=tk.VERTICAL)\n",
    "escala1.set(0)\n",
    "escala1.pack(side = 'left')\n",
    "\n",
    "# Adicionando rótulo e escala no segundo frame\n",
    "label_escala2 = tk.Label(frame_escala2, text=\"Paths\")\n",
    "label_escala2.pack()\n",
    "\n",
    "escala2 = Scale(frame_escala2, from_=100, to=0, orient=tk.VERTICAL)\n",
    "escala2.set(0)\n",
    "escala2.pack(side = 'left')\n",
    "\n",
    "# scale = tk.Scrollbar(frame_lateral, orient=tk.VERTICAL)\n",
    "# scale.pack()\n",
    "\n"
   ]
  },
  {
   "cell_type": "markdown",
   "metadata": {},
   "source": [
    "### Botão de aplicar valores"
   ]
  },
  {
   "cell_type": "code",
   "execution_count": null,
   "metadata": {},
   "outputs": [],
   "source": [
    "aplicar = Button(frame_lateral, text='Aplicar', command=pega_valor_scale, bd=5, relief=\"ridge\", bg= 'skyblue')\n",
    "aplicar.pack()"
   ]
  },
  {
   "cell_type": "markdown",
   "metadata": {},
   "source": [
    "## LOOPING DA JANELA PRINCIPAL"
   ]
  },
  {
   "cell_type": "code",
   "execution_count": null,
   "metadata": {},
   "outputs": [
    {
     "name": "stderr",
     "output_type": "stream",
     "text": [
      "C:\\Users\\meduarda\\AppData\\Local\\Packages\\PythonSoftwareFoundation.Python.3.11_qbz5n2kfra8p0\\LocalCache\\local-packages\\Python311\\site-packages\\pm4py\\utils.py:96: UserWarning: Some rows of the Pandas data frame have been removed because of empty case IDs, activity labels, or timestamps to ensure the correct functioning of PM4Py's algorithms.\n",
      "  warnings.warn(\"Some rows of the Pandas data frame have been removed because of empty case IDs, activity labels, or timestamps to ensure the correct functioning of PM4Py's algorithms.\")\n"
     ]
    },
    {
     "name": "stdout",
     "output_type": "stream",
     "text": [
      "Imagem do DFG salva como 'grafico.png'\n"
     ]
    }
   ],
   "source": [
    "raiz.mainloop()"
   ]
  }
 ],
 "metadata": {
  "kernelspec": {
   "display_name": "Python 3",
   "language": "python",
   "name": "python3"
  },
  "language_info": {
   "codemirror_mode": {
    "name": "ipython",
    "version": 3
   },
   "file_extension": ".py",
   "mimetype": "text/x-python",
   "name": "python",
   "nbconvert_exporter": "python",
   "pygments_lexer": "ipython3",
   "version": "3.11.9"
  }
 },
 "nbformat": 4,
 "nbformat_minor": 2
}
