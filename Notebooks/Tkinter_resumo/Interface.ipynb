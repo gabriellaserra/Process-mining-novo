{
 "cells": [
  {
   "cell_type": "code",
   "execution_count": 175,
   "metadata": {},
   "outputs": [],
   "source": [
    "# pip install customtkinter"
   ]
  },
  {
   "cell_type": "code",
   "execution_count": 176,
   "metadata": {},
   "outputs": [],
   "source": [
    "from tkinter import *\n",
    "import tkinter as tk\n",
    "from tkinter.filedialog import askopenfilename\n",
    "#NOVO\n",
    "import customtkinter as s\n",
    "import os\n",
    "from PIL import Image, ImageTk\n",
    "import pm4py\n",
    "import pandas as pd\n"
   ]
  },
  {
   "cell_type": "markdown",
   "metadata": {},
   "source": [
    "## Funções"
   ]
  },
  {
   "cell_type": "markdown",
   "metadata": {},
   "source": [
    "### função que escolhe o caminho "
   ]
  },
  {
   "cell_type": "code",
   "execution_count": 177,
   "metadata": {},
   "outputs": [],
   "source": [
    "def escolhe_arquivo(texto):\n",
    "    caminho_do_arquivo = askopenfilename(filetypes=[ (\"Arquivo Excel\", \"*.xlsx\"),(\"Arquivo CSV\", \"*.csv\"), (\"Arquivo XES\", '*.xes')])\n",
    "    if caminho_do_arquivo:\n",
    "        label_arquivo.configure(text=f\"Arquivo selecionado: {caminho_do_arquivo}\") # Calma é pra não estar definido msm\n",
    "\n",
    "    ##---------------------------------------------------------------TENTANDO FAZER OS BOTOES-----------------------------------------------------------------------\n",
    "    if texto == 'Grafico Frêquencia':\n",
    "        cria_grafo_dfg(caminho_do_arquivo)\n",
    "    elif texto == 'Grafico Rede de Petri':\n",
    "        cria_grafo_petri_net(caminho_do_arquivo)\n",
    "    elif texto == 'Gráfico de Performance':\n",
    "        cria_grafo_duracao(caminho_do_arquivo)\n",
    "    elif texto == 'Análise':\n",
    "        filtra_grafo_por_variantes(caminho_do_arquivo)"
   ]
  },
  {
   "cell_type": "markdown",
   "metadata": {},
   "source": [
    "### função cria o gráfico"
   ]
  },
  {
   "cell_type": "code",
   "execution_count": 178,
   "metadata": {},
   "outputs": [],
   "source": [
    "def cria_grafo_dfg(caminho):\n",
    "    #Checando se o arquivo é xlsx ou csv\n",
    "    tipoArq = caminho.split('.')\n",
    "    try:\n",
    "        if tipoArq[-1] in 'csv':\n",
    "            log = pm4py.format_dataframe(pd.read_csv(caminho, sep= ','), case_id='ID', activity_key='Ocorrência', timestamp_key='Início') # depois arrumar um jeito de o usuario selecionar as colunas case_id activity_key e timestamp_key\n",
    "\n",
    "        elif tipoArq[-1] in 'xlsx':\n",
    "            log = pm4py.format_dataframe(pd.read_excel(caminho), case_id='ID', activity_key='Ocorrência', timestamp_key='Início') # depois arrumar um jeito de o usuario selecionar as colunas case_id activity_key e timestamp_key\n",
    "\n",
    "        elif tipoArq[-1] in 'xes':\n",
    "            log = pm4py.format_dataframe(pm4py.read_xes(caminho), case_id='ID', activity_key='Ocorrência', timestamp_key='Início') # depois arrumar um jeito de o usuario selecionar as colunas case_id \n",
    "    except Exception as error:\n",
    "        lable_auxImagem.configure(text=f\"NÃO CONSEGUI TRANSFORMAR EM GRÁFICO. UMA COLUNA NÃO FOI ENCONTRADA NESSE ARQUIVO.\\n erro: {error}\")\n",
    "    ##----------------------------------------------------------------------------------------------------------------------------------------\n",
    "    log['ID'] = log['ID'].astype(str)\n",
    "\n",
    "    dfg, start_activities, end_activities = pm4py.discover_dfg(log)\n",
    "    pm4py.vis.save_vis_dfg(dfg, start_activities, end_activities, \"grafico.png\")\n",
    "    \n",
    "    ##----------------------------------------------------------------------------------------------------------------------------------------\n",
    "    lable_auxImagem.configure(text=\"Imagem do DFG salva como 'grafico.png'\")\n",
    "\n",
    "    ##---------------------------------------------------------------DEIXEI PRA DEPOIS-------------------------------------------------------------------------\n",
    "\n",
    "    exibe_grafico(\"grafico.png\")"
   ]
  },
  {
   "cell_type": "code",
   "execution_count": 179,
   "metadata": {},
   "outputs": [],
   "source": [
    "def cria_grafo_petri_net(caminho):\n",
    "    #Checando se o arquivo é xlsx ou csv\n",
    "    tipoArq = caminho.split('.')\n",
    "    try:\n",
    "        if tipoArq[-1] in 'csv':\n",
    "            log = pm4py.format_dataframe(pd.read_csv(caminho, sep=','), case_id='ID', activity_key='Ocorrência', timestamp_key='Início')\n",
    "\n",
    "        elif tipoArq[-1] in 'xlsx':\n",
    "            log = pm4py.format_dataframe(pd.read_excel(caminho), case_id='ID', activity_key='Ocorrência', timestamp_key='Início') # depois arrumar um jeito de o usuario selecionar as colunas case_id activity_key e timestamp_key\n",
    "\n",
    "        elif tipoArq[-1] in 'xes':\n",
    "            log = pm4py.format_dataframe(pm4py.read_xes(caminho), case_id='ID', activity_key='Ocorrência', timestamp_key='Início') # depois arrumar um jeito de o usuario selecionar as colunas case_id \n",
    "    except Exception as error:\n",
    "        print(\"NÃO CONSEGUI TRANSFORMAR EM GRÁFICO. UMA COLUNA NÃO FOI ENCONTRADA NESSE ARQUIVO.\\n erro: {error}\")\n",
    "    ##----------------------------------------------------------------------------------------------------------------------------------------\n",
    " \n",
    "    pn, ini, fim = pm4py.discover_petri_net_inductive(log)\n",
    "    pm4py.vis.save_vis_petri_net(pn, ini, fim, \"grafico_PetriNet.png\")\n",
    "    ##----------------------------------------------------------------------------------------------------------------------------------------\n",
    "    lable_auxImagem.configure(text=\"Imagem do rede de Petri salva como 'grafico_PetriNet.png'\")\n",
    "\n",
    "\n",
    "\n",
    "\n",
    "    exibe_grafico(\"grafico_PetriNet.png\")"
   ]
  },
  {
   "cell_type": "markdown",
   "metadata": {},
   "source": [
    "#### não consegui colocar em prática"
   ]
  },
  {
   "cell_type": "code",
   "execution_count": 180,
   "metadata": {},
   "outputs": [],
   "source": [
    "def cria_grafo_duracao(caminho):\n",
    "    #Checando se o arquivo é xlsx ou csv\n",
    "    tipoArq = caminho.split('.')\n",
    "    try:\n",
    "        if tipoArq[-1] in 'csv':\n",
    "            log = pm4py.format_dataframe(pd.read_csv(caminho, sep=','), case_id='ID', activity_key='Ocorrência', timestamp_key='Início') # depois arrumar um jeito de o usuario selecionar as colunas case_id activity_key e timestamp_key\n",
    "\n",
    "        elif tipoArq[-1] in 'xlsx':\n",
    "            log = pm4py.format_dataframe(pd.read_excel(caminho), case_id='ID', activity_key='Ocorrência', timestamp_key='Início') # depois arrumar um jeito de o usuario selecionar as colunas case_id activity_key e timestamp_key\n",
    "\n",
    "        elif tipoArq[-1] in 'xes':\n",
    "            log = pm4py.format_dataframe(pm4py.read_xes(caminho), case_id='ID', activity_key='Ocorrência', timestamp_key='Início') # depois arrumar um jeito de o usuario selecionar as colunas case_id \n",
    "    except Exception as error:\n",
    "        print(\"NÃO CONSEGUI TRANSFORMAR EM GRÁFICO. UMA COLUNA NÃO FOI ENCONTRADA NESSE ARQUIVO.\\n erro: {error}\")\n",
    "    log['ID'] = log['ID'].astype(str)\n",
    "\n",
    "    performance_dfg, start_activities, end_activities = pm4py.discover_performance_dfg(log, case_id_key='ID', activity_key='Ocorrência', timestamp_key='Início')\n",
    "    ################ESSE PARAMETRO COLOCA NO GRÁFICO O TEMPO QUE CADA ATIVIDADE DUROU################\n",
    "    #########serv_time – (optional) provides the activities’ service times, used to decorate the graph\n",
    "    \n",
    "    pm4py.vis.save_vis_performance_dfg(performance_dfg, start_activities, end_activities, \"grafico_Duracao.png\") #bgcolor='str' tem como escolher a cor de fundo\n",
    "    ##----------------------------------------------------------------------------------------------------------------------------------------\n",
    "    lable_auxImagem.configure(text=\"Imagem do DFG salva como 'grafico_Duracao.png'\")\n",
    "\n",
    "    exibe_grafico(\"grafico_Duracao.png\")"
   ]
  },
  {
   "cell_type": "markdown",
   "metadata": {},
   "source": [
    "### Filtrando os gráficos (Paths)"
   ]
  },
  {
   "cell_type": "code",
   "execution_count": 181,
   "metadata": {},
   "outputs": [],
   "source": [
    "def filtra_grafo_por_variantes(caminho):\n",
    "###################################################################################################################################################################################################\n",
    "    tipoArq = caminho.split('.')\n",
    "    try:\n",
    "        if tipoArq[-1] in 'csv':\n",
    "            log = pm4py.format_dataframe(pd.read_csv(caminho, sep=','), case_id='ID', activity_key='Ocorrência', timestamp_key='Início') # depois arrumar um jeito de o usuario selecionar as colunas case_id activity_key e timestamp_key\n",
    "\n",
    "        elif tipoArq[-1] in 'xlsx':\n",
    "            log = pm4py.format_dataframe(pd.read_excel(caminho), case_id='ID', activity_key='Ocorrência', timestamp_key='Início') # depois arrumar um jeito de o usuario selecionar as colunas case_id activity_key e timestamp_key\n",
    "\n",
    "        elif tipoArq[-1] in 'xes':\n",
    "            log = pm4py.format_dataframe(pm4py.read_xes(caminho), case_id='ID', activity_key='Ocorrência', timestamp_key='Início') # depois arrumar um jeito de o usuario selecionar as colunas case_id \n",
    "    except Exception as error:\n",
    "        print(\"NÃO CONSEGUI TRANSFORMAR EM GRÁFICO. UMA COLUNA NÃO FOI ENCONTRADA NESSE ARQUIVO.\\n erro: {error}\")\n",
    "\n",
    "###################################################################################################################################################################################################\n",
    "\n",
    "    log.fillna({'Início': 0},inplace=True)\n",
    "    log['Início'] = pd.to_datetime(log['Início'])\n",
    "    log['ID'] = log['ID'].astype(str)\n",
    "\n",
    "    filtrado = pm4py.filtering.filter_variants_by_coverage_percentage(log, 0.1, case_id_key='ID', activity_key='Ocorrência', timestamp_key='Início')\n",
    "    filtrado = filtrado.drop('Unnamed: 0', axis=1)\n",
    "\n",
    "###################################################################################################################################################################################################\n",
    "\n",
    "    dfg, start_activities, end_activities = pm4py.discover_dfg(filtrado)\n",
    "    pm4py.vis.save_vis_dfg(dfg, start_activities, end_activities, \"grafico_Duracao_filtrado.png\")\n",
    "    \n",
    "    ##----------------------------------------------------------------------------------------------------------------------------------------\n",
    "    lable_auxImagem.configure(text=\"Imagem do DFG salva como 'grafico_Duracao_filtrado.png'\")\n",
    "\n",
    "    exibe_grafico(\"grafico_Duracao_filtrado.png\")"
   ]
  },
  {
   "cell_type": "markdown",
   "metadata": {},
   "source": [
    "### Função que pega valor do widget Scale"
   ]
  },
  {
   "cell_type": "code",
   "execution_count": 182,
   "metadata": {},
   "outputs": [],
   "source": [
    "def pega_valor_scale():\n",
    "    print('atividades:')\n",
    "    print(escala1.get())\n",
    "    print('Paths')\n",
    "    print(paths.get())"
   ]
  },
  {
   "cell_type": "code",
   "execution_count": 183,
   "metadata": {},
   "outputs": [],
   "source": [
    "# def cria_grafo_analise(caminho):\n",
    "    \n",
    "# def filter_dfg_on_activities_percentage(dfg0, start_activities0, end_activities0, activities_count0, percentage):\n",
    "# def filter_dfg_on_paths_percentage(dfg0, start_activities0, end_activities0, activities_count0, percentage,\n",
    "#                                    keep_all_activities=False):"
   ]
  },
  {
   "cell_type": "markdown",
   "metadata": {},
   "source": [
    "### Função que vai plotar os gráficos"
   ]
  },
  {
   "cell_type": "code",
   "execution_count": 184,
   "metadata": {},
   "outputs": [],
   "source": [
    "lableimg_atual = None\n",
    "\n",
    "def exibe_grafico(caminho):\n",
    "    global lableimg_atual\n",
    "    caminho = './'+caminho\n",
    "    imagem = Image.open(caminho)\n",
    "\n",
    "    # Define o tamanho fixo para todos os gráficos\n",
    "    tamanho_grafico_largura = 1340\n",
    "    tamanho_grafico_altura = 250\n",
    "\n",
    "    # Redimensione a imagem do gráfico para o tamanho fixo\n",
    "    imagem_redimensionada = imagem.resize((tamanho_grafico_largura, tamanho_grafico_altura))\n",
    "\n",
    "    # Remova o label antigo, se existir\n",
    "    if lableimg_atual:\n",
    "        lableimg_atual.destroy()\n",
    "\n",
    "    # Crie um novo label para o gráfico\n",
    "    fig_grafico = s.CTkImage(light_image=imagem_redimensionada, dark_image=imagem_redimensionada, size= (tamanho_grafico_largura, tamanho_grafico_altura))\n",
    "    lableimg_atual = s.CTkLabel(frame_grafico, text=None, image=fig_grafico)\n",
    "    lableimg_atual.pack()"
   ]
  },
  {
   "cell_type": "markdown",
   "metadata": {},
   "source": [
    "## Instanciando a janela"
   ]
  },
  {
   "cell_type": "code",
   "execution_count": 185,
   "metadata": {},
   "outputs": [],
   "source": [
    "raiz = s.CTk(className='Proces Mining GUI')\n",
    "raiz.geometry('960x540')\n",
    "\n",
    "#---------------------------------------------TENTATIVA PNG---------------------------------------------------------\n",
    "# raiz.title(\"Janela com Ícone Personalizado\")\n",
    "\n",
    "# # Carregar a imagem do ícone usando PIL\n",
    "# image = Image.open('C:\\\\Users\\\\meduarda\\\\grupo-2-7\\\\Notebooks\\\\Tkinter_resumo\\\\iconProcessGUI.png')\n",
    "# icon_image = ImageTk.PhotoImage(image)\n",
    "\n",
    "# # Definir a imagem como ícone da janela\n",
    "# raiz.iconphoto(False, icon_image)\n",
    "#---------------------------------------------TENTATIVA .ICO---------------------------------------------------------\n",
    "\n",
    "# image = Image.open(\"iconProcessGUI.png\")\n",
    "# icon_image = ImageTk.PhotoImage(image)\n",
    "\n",
    "# # Definir a imagem como ícone da janela\n",
    "# raiz.iconphoto(False, icon_image)"
   ]
  },
  {
   "cell_type": "markdown",
   "metadata": {},
   "source": [
    "## Frames"
   ]
  },
  {
   "cell_type": "markdown",
   "metadata": {},
   "source": [
    "### Criando o frame de seleção de arquivos"
   ]
  },
  {
   "cell_type": "code",
   "execution_count": 186,
   "metadata": {},
   "outputs": [],
   "source": [
    "frame1 = s.CTkFrame(raiz)\n",
    "frame1.pack(side='top',fill=tk.BOTH)"
   ]
  },
  {
   "cell_type": "markdown",
   "metadata": {},
   "source": [
    "### Criando o frame Lateral"
   ]
  },
  {
   "cell_type": "code",
   "execution_count": 187,
   "metadata": {},
   "outputs": [],
   "source": [
    "frame_lateral = s.CTkFrame(raiz)\n",
    "frame_lateral.pack(side = 'right',pady=0,  fill='y')"
   ]
  },
  {
   "cell_type": "markdown",
   "metadata": {},
   "source": [
    "### Frame do grafico"
   ]
  },
  {
   "cell_type": "code",
   "execution_count": 188,
   "metadata": {},
   "outputs": [],
   "source": [
    "frame_grafico = s.CTkFrame(raiz, width=1800, height=1000)\n",
    "frame_grafico.pack(side='bottom', fill='both', expand=True)\n"
   ]
  },
  {
   "cell_type": "markdown",
   "metadata": {},
   "source": [
    "## Widgets"
   ]
  },
  {
   "cell_type": "markdown",
   "metadata": {},
   "source": [
    "### Botão de seleção de arquivos ###"
   ]
  },
  {
   "cell_type": "code",
   "execution_count": 189,
   "metadata": {},
   "outputs": [],
   "source": [
    "# arq = PhotoImage(file='iconArq.png', master=frame1)\n",
    "# arq = arq.subsample(2,2)\n",
    "# fig1 = Label(frame1, image=arq)\n",
    "# fig1.image = arq\n",
    "\n",
    "# botao = Button(frame1, image=arq, command=escolhe_arquivo, bd=0, highlightthickness=0, bg= 'green')\n",
    "# botao.pack(side='left')\n",
    "\n",
    "label_arquivo = s.CTkLabel(frame1, text=\"Nenhum arquivo selecionado\")\n",
    "label_arquivo.pack(pady=10)\n",
    "\n",
    "lable_auxImagem= s.CTkLabel(frame1, text=\"Nenhma Imagem Gerada\")\n",
    "lable_auxImagem.pack(pady=10)"
   ]
  },
  {
   "cell_type": "markdown",
   "metadata": {},
   "source": [
    "### Botões de seleção de Gráfico (TESTE) ###"
   ]
  },
  {
   "cell_type": "code",
   "execution_count": 190,
   "metadata": {},
   "outputs": [],
   "source": [
    "botaoPerformance = s.CTkButton(frame1, text='Análise',  command=lambda: escolhe_arquivo('Análise'))\n",
    "botaoPerformance.pack(side='left', pady=10)\n",
    "botaoFrequencia = s.CTkButton(frame1, text='Grafico Frêquencia', command=lambda: escolhe_arquivo('Grafico Frêquencia'))\n",
    "botaoFrequencia.pack(side='left', pady=10)\n",
    "\n",
    "botaoPetriNet = s.CTkButton(frame1, text='Grafico Rede de Petri',  command=lambda: escolhe_arquivo('Grafico Rede de Petri'))\n",
    "botaoPetriNet.pack(side='left', pady=10)\n",
    "\n",
    "botaoPerformance = s.CTkButton(frame1, text='Grafico Duração',  command=lambda: escolhe_arquivo('Gráfico de Performance'))\n",
    "botaoPerformance.pack(side='left', pady=10)"
   ]
  },
  {
   "cell_type": "code",
   "execution_count": 191,
   "metadata": {},
   "outputs": [],
   "source": [
    "\n",
    "# Criando A lable na lateral direita\n",
    "# label_direita_sup = s.CTkLabel(frame_lateral)#, padx=40, pady=10, borderwidth=2, relief=\"solid\"\n",
    "# label_direita_sup.pack(fill=tk.Y, expand=True)\n",
    "\n",
    "################################################## DUDA\n",
    "# Criando um frame para cada conjunto de label e escala\n",
    "frame_escala1 = s.CTkFrame(frame_lateral)\n",
    "frame_escala1.pack(fill=\"both\", expand=True)\n",
    "\n",
    "# frame_escala2 = s.CTkFrame(frame_lateral, bg_color='green')\n",
    "# frame_escala2.pack(side = 'top')\n",
    "\n",
    "# Adicionando rótulo e escala no primeiro frame\n",
    "label_escala1 = s.CTkLabel(frame_escala1, text=\"Activities\")\n",
    "label_escala1.place(relx=0.3, rely=0.1, anchor=tk.CENTER)\n",
    "\n",
    "escala1 = s.CTkSlider(frame_escala1,from_=0, to=1, orientation='vertical')\n",
    "\n",
    "escala1.set(100)\n",
    "escala1.place(relx=0.3, rely=0.5, anchor=tk.CENTER)\n",
    "\n",
    "# Adicionando rótulo e escala no segundo frame\n",
    "label_escala2 = s.CTkLabel(frame_escala1, text=\"Paths\")\n",
    "label_escala2.place(relx=0.7, rely=0.1, anchor=tk.CENTER)\n",
    "\n",
    "paths = s.CTkSlider(frame_escala1, from_=0, to=1, orientation='vertical', )\n",
    "paths.set(100)\n",
    "paths.place(relx=0.7, rely=0.5, anchor=tk.CENTER)\n",
    "\n",
    "\n",
    "# scale = tk.Scrollbar(frame_lateral, orient=tk.VERTICAL)\n",
    "# scale.pack()\n",
    "\n"
   ]
  },
  {
   "cell_type": "markdown",
   "metadata": {},
   "source": [
    "### Botão de aplicar valores"
   ]
  },
  {
   "cell_type": "code",
   "execution_count": 192,
   "metadata": {},
   "outputs": [],
   "source": [
    "##########################Para a função escolhe arquivo que vai criar um grafico novo##########################\n",
    "aplicar = s.CTkButton(frame_lateral, text='Aplicar', command=pega_valor_scale)\n",
    "aplicar.pack()"
   ]
  },
  {
   "cell_type": "markdown",
   "metadata": {},
   "source": [
    "### Criando widgets da lable lateral"
   ]
  },
  {
   "cell_type": "code",
   "execution_count": 193,
   "metadata": {},
   "outputs": [],
   "source": [
    "# Bet\n",
    "\n",
    "# módulos\n",
    "from tkinter import ttk\n",
    "\n",
    "# funções\n",
    "def on_click():\n",
    "    # Alterna o estado do botão\n",
    "    if combo3.winfo_ismapped():\n",
    "        #button.config(state=tk.DISABLED)\n",
    "        label_secon.pack_forget()\n",
    "        combo3.pack_forget()\n",
    "        print(\"Botão ativado\")\n",
    "    else:\n",
    "        #button.config(state=tk.NORMAL)\n",
    "        label_secon.pack(padx=0, pady=0)\n",
    "        combo3.pack(padx=0, pady=0)\n",
    "        print(\"Botão desativado\")\n",
    "\n",
    "def selecionar_opcao(event=None):\n",
    "    opcao_selecionada = combo.get()\n",
    "    print(\"Opção Selecionada:\", opcao_selecionada)\n",
    "\n",
    "# funções do botão de frequency/performance\n",
    "def open_frequency():\n",
    "    label_perf.pack_forget()\n",
    "    combo2.pack_forget()\n",
    "    label_freq.pack(padx=0, pady=0)\n",
    "    combo.pack(padx=0, pady=0)\n",
    "\n",
    "def open_performance():\n",
    "    label_freq.pack_forget()\n",
    "    combo.pack_forget()\n",
    "    label_perf.pack(padx=0, pady=0)\n",
    "    combo2.pack(padx=0, pady=0)\n",
    "    \n",
    "# B.P.\n",
    "# LABEL DA PARTE LATERAL INFERIOR (DUDA: COMENTEI PQ NN SEI PQ TEM )\n",
    "# label_direita_inf = s.CTkLabel(frame_lateral, padx=60, pady=10, )#borderwidth=2, relief=\"solid\"\n",
    "# label_direita_inf.pack(fill=tk.Y, expand=True)#side = 'bottom',\n",
    "\n",
    "# FREQUENCY\n",
    "label_freq = s.CTkLabel(frame_lateral, text=\"Show Frequency:\")\n",
    "\n",
    "opcoes = [\"Absolute frequency\",\"Case frequency\", \"Max. repetitions\", \"Case coverage\"]\n",
    "combo = s.CTkComboBox(frame_lateral, values=opcoes, state=\"readonly\")\n",
    "combo.bind(\"<<ComboboxSelected>>\", selecionar_opcao)\n",
    "\n",
    "button1 = s.CTkButton(frame_lateral, text='Frequency', command=open_frequency)\n",
    "button1.pack(side = 'top')#\n",
    "\n",
    "# PERFORMANCE\n",
    "label_perf = s.CTkLabel(frame_lateral, text=\"Show Performance:\")\n",
    "\n",
    "opcoes2 = [\"Total duration\",\"Median duration\", \"Mean duration\", \"Max. duration\",\"Min. duration\"]\n",
    "combo2 = s.CTkComboBox(frame_lateral, values=opcoes2, state=\"readonly\")\n",
    "combo2.bind(\"<<ComboboxSelected>>\", selecionar_opcao)\n",
    "\n",
    "button2 = s.CTkButton(frame_lateral, text='Performance', command=open_performance)\n",
    "button2.pack()#side = 'top'\n",
    "\n",
    "# SECONDARY METRICS\n",
    "# frame_secon = tk.Frame(label_direita_inf2)\n",
    "# frame_secon.pack()\n",
    "\n",
    "label_secon = s.CTkLabel(frame_lateral, text=\"Secondary:\")\n",
    "\n",
    "opcoes3 = [\"Absolute frequency\",\"Case frequency\", \"Max. repetitions\", \"Case coverage\",\"Total duration\",\"Median duration\", \"Mean duration\", \"Max. duration\",\"Min. duration\"]\n",
    "combo3 = s.CTkComboBox(frame_lateral, values=opcoes3, state=\"readonly\")\n",
    "\n",
    "button3 = s.CTkButton(frame_lateral, text='Add secondary metrics', command=on_click)\n",
    "button3.pack()#side = 'top'\n",
    "# tem que sobrepor pois os itens do frame de cima esta desaparendo"
   ]
  },
  {
   "cell_type": "markdown",
   "metadata": {},
   "source": [
    "## LOOPING DA JANELA PRINCIPAL"
   ]
  },
  {
   "cell_type": "code",
   "execution_count": 194,
   "metadata": {},
   "outputs": [],
   "source": [
    "raiz.mainloop()"
   ]
  }
 ],
 "metadata": {
  "kernelspec": {
   "display_name": "Python 3",
   "language": "python",
   "name": "python3"
  },
  "language_info": {
   "codemirror_mode": {
    "name": "ipython",
    "version": 3
   },
   "file_extension": ".py",
   "mimetype": "text/x-python",
   "name": "python",
   "nbconvert_exporter": "python",
   "pygments_lexer": "ipython3",
   "version": "3.11.9"
  }
 },
 "nbformat": 4,
 "nbformat_minor": 2
}
