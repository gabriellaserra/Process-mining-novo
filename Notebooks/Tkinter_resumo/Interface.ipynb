{
 "cells": [
  {
   "cell_type": "code",
   "execution_count": 6,
   "metadata": {},
   "outputs": [],
   "source": [
    "from tkinter import *\n",
    "import tkinter as tk\n",
    "from tkinter.filedialog import askopenfilename\n",
    "from PIL import Image, ImageTk"
   ]
  },
  {
   "cell_type": "code",
   "execution_count": 7,
   "metadata": {},
   "outputs": [],
   "source": [
    "def escolhe_arquivo():\n",
    "    caminho_do_arquivo = askopenfilename(filetypes=[(\"Arquivo CSV\", \"*.csv\"), (\"Arquivo Excel\", \"*xlsx\")])\n",
    "    print(caminho_do_arquivo)\n",
    "    return "
   ]
  },
  {
   "cell_type": "code",
   "execution_count": 8,
   "metadata": {},
   "outputs": [
    {
     "data": {
      "text/plain": [
       "''"
      ]
     },
     "execution_count": 8,
     "metadata": {},
     "output_type": "execute_result"
    }
   ],
   "source": [
    "raiz = Tk(className='Primeira janela de teste para a interface')\n",
    "raiz.geometry('960x540')"
   ]
  },
  {
   "cell_type": "code",
   "execution_count": 9,
   "metadata": {},
   "outputs": [],
   "source": [
    "### criando o frame de seleção de arquivos ###\n",
    "frame1 = Frame(raiz) #bg=\"blue\"\n",
    "frame1.pack(side='top',fill=tk.BOTH)\n",
    "\n",
    "arq = PhotoImage(file='iconArq.png', master=frame1)\n",
    "arq = arq.subsample(2,2)\n",
    "fig1 = Label(frame1, image=arq)\n",
    "fig1.image = arq\n",
    "\n",
    "botao = Button(frame1, image=arq, command=escolhe_arquivo, bd=0, highlightthickness=0, bg= 'green')\n",
    "botao.pack()"
   ]
  },
  {
   "cell_type": "code",
   "execution_count": 10,
   "metadata": {},
   "outputs": [],
   "source": [
    "raiz.mainloop()"
   ]
  },
  {
   "cell_type": "code",
   "execution_count": 15,
   "metadata": {},
   "outputs": [],
   "source": [
    "import tkinter as tk\n",
    "# CRIANDO A PARTE LATERAL DIREITA DA INTERFACE - BET\n",
    "# Função para criar a janela\n",
    "def criar_janela():\n",
    "    janela = tk.Tk()\n",
    "    janela.geometry(\"600x400\")\n",
    "\n",
    "    # Criando a janela principal\n",
    "    janela.title(\"mvp projeto\")  \n",
    "\n",
    "    def on_scroll(*args):\n",
    "        canvas.yview(*args)\n",
    "\n",
    "    # Criando o frame principal\n",
    "    frame_principal = Frame(janela)\n",
    "    frame_principal.pack(side = 'right',pady=20, fill=tk.BOTH)\n",
    "    scale = tk.Scrollbar(frame_principal, orient=tk.VERTICAL, command=on_scroll)\n",
    "    scale.pack()\n",
    "\n",
    "    # Criando o widget na lateral direita\n",
    "    widget_direita = Label(frame_principal, text=\"lateral esquerda\", padx=40, pady=10, borderwidth=2, relief=\"solid\")\n",
    "    widget_direita.pack(fill=tk.Y, expand=True)\n",
    "\n",
    "    # Adicionando mais widgets ou funcionalidades conforme necessário...\n",
    "    \n",
    "\n",
    "    janela.mainloop()  # Iniciando o loop principal da janela\n",
    "\n",
    "# Chamando a função para criar a janela\n",
    "criar_janela()"
   ]
  },
  {
   "cell_type": "code",
   "execution_count": null,
   "metadata": {},
   "outputs": [],
   "source": []
  }
 ],
 "metadata": {
  "kernelspec": {
   "display_name": "Python 3",
   "language": "python",
   "name": "python3"
  },
  "language_info": {
   "codemirror_mode": {
    "name": "ipython",
    "version": 3
   },
   "file_extension": ".py",
   "mimetype": "text/x-python",
   "name": "python",
   "nbconvert_exporter": "python",
   "pygments_lexer": "ipython3",
   "version": "3.12.3"
  }
 },
 "nbformat": 4,
 "nbformat_minor": 2
}
