{
 "cells": [
  {
   "cell_type": "code",
   "execution_count": 107,
   "metadata": {},
   "outputs": [],
   "source": [
    "# pip install customtkinter"
   ]
  },
  {
   "cell_type": "code",
   "execution_count": 108,
   "metadata": {},
   "outputs": [],
   "source": [
    "from tkinter import *\n",
    "import tkinter as tk\n",
    "from tkinter.filedialog import askopenfilename\n",
    "#NOVO\n",
    "import customtkinter as s\n",
    "import os\n",
    "from PIL import Image, ImageTk\n",
    "import pm4py\n",
    "from pm4py.objects.petri_net.importer import importer as pmnl_importer\n",
    "import pandas as pd\n"
   ]
  },
  {
   "cell_type": "markdown",
   "metadata": {},
   "source": [
    "## Funções"
   ]
  },
  {
   "cell_type": "markdown",
   "metadata": {},
   "source": [
    "### função que escolhe o caminho "
   ]
  },
  {
   "cell_type": "code",
   "execution_count": 109,
   "metadata": {},
   "outputs": [],
   "source": [
    "\n",
    "def escolhe_arquivo():\n",
    "    global log\n",
    "    caminho_do_arquivo = askopenfilename(filetypes=[ (\"Arquivo Excel\", \"*.xlsx\"),(\"Arquivo CSV\", \"*.csv\"), (\"Arquivo XES\", '*.xes')])\n",
    "    if caminho_do_arquivo:\n",
    "        label_arquivo.configure(text=f\"Arquivo selecionado: {caminho_do_arquivo}\") # Calma é pra não estar definido msm\n",
    "        \n",
    "####################################### ANALISA O TIPO DO ARQUIVO #######################################\n",
    "    tipoArq = caminho_do_arquivo.split('.')\n",
    "    try:\n",
    "        if tipoArq[-1] in 'csv':\n",
    "            log = pm4py.format_dataframe(pd.read_csv(caminho_do_arquivo, sep= ','), case_id='ID', activity_key='Ocorrência', timestamp_key='Início') # depois arrumar um jeito de o usuario selecionar as colunas case_id activity_key e timestamp_key\n",
    "\n",
    "        elif tipoArq[-1] in 'xlsx':\n",
    "            log = pm4py.format_dataframe(pd.read_excel(caminho_do_arquivo), case_id='ID', activity_key='Ocorrência', timestamp_key='Início') # depois arrumar um jeito de o usuario selecionar as colunas case_id activity_key e timestamp_key\n",
    "\n",
    "        elif tipoArq[-1] in 'xes':\n",
    "            log = pm4py.format_dataframe(pm4py.read_xes(caminho_do_arquivo), case_id='ID', activity_key='Ocorrência', timestamp_key='Início') # depois arrumar um jeito de o usuario selecionar as colunas case_id \n",
    "    except Exception as error:\n",
    "        lable_auxImagem.configure(text=f\"NÃO CONSEGUI TRANSFORMAR EM GRÁFICO. UMA COLUNA NÃO FOI ENCONTRADA NESSE ARQUIVO.\\n erro: {error}\")\n",
    "\n",
    "    \n",
    "    return log"
   ]
  },
  {
   "cell_type": "markdown",
   "metadata": {},
   "source": [
    "### FILTRO"
   ]
  },
  {
   "cell_type": "code",
   "execution_count": 110,
   "metadata": {},
   "outputs": [],
   "source": [
    "def filtra_grafo_por_variantes():\n",
    "\n",
    "    log.fillna({'Início': 0},inplace=True)\n",
    "    log['Início'] = pd.to_datetime(log['Início'])\n",
    "    log['ID'] = log['ID'].astype(str)\n",
    "\n",
    "    filtrado = pm4py.filtering.filter_variants_by_coverage_percentage(log, paths.get(), case_id_key='ID', activity_key='Ocorrência', timestamp_key='Início')\n",
    "    filtrado = filtrado.drop('Unnamed: 0', axis=1)\n",
    "    return filtrado"
   ]
  },
  {
   "cell_type": "markdown",
   "metadata": {},
   "source": [
    "### função cria gráfico frequência (EM TESTE)"
   ]
  },
  {
   "cell_type": "code",
   "execution_count": 111,
   "metadata": {},
   "outputs": [],
   "source": [
    "def cria_grafo_dfg(caminho):\n",
    "############################################################################## FILTRA OS PATHS ##############################################################################\n",
    "    filtrado = filtra_grafo_por_variantes()\n",
    "#############################################################################################################################################################################\n",
    "    dfg, start_activities, end_activities = pm4py.discover_dfg(filtrado)\n",
    "    pm4py.vis.save_vis_dfg(dfg, start_activities, end_activities, \"grafico.png\")#, rankdir='TB'\n",
    "    \n",
    "    ##----------------------------------------------------------------------------------------------------------------------------------------\n",
    "    lable_auxImagem.configure(text=\"Imagem do DFG salva como 'grafico.png'\")\n",
    "\n",
    "    ##---------------------------------------------------------------DEIXEI PRA DEPOIS-------------------------------------------------------------------------\n",
    "\n",
    "    exibe_grafico(\"grafico.png\")\n",
    "    return"
   ]
  },
  {
   "cell_type": "markdown",
   "metadata": {},
   "source": [
    "#### função cria grafico de performance"
   ]
  },
  {
   "cell_type": "code",
   "execution_count": 112,
   "metadata": {},
   "outputs": [],
   "source": [
    "def cria_grafo_duracao(caminho):\n",
    "############################################################################## FILTRA OS PATHS ##############################################################################\n",
    "    filtrado = filtra_grafo_por_variantes()\n",
    "#############################################################################################################################################################################\n",
    "\n",
    "    performance_dfg, start_activities, end_activities = pm4py.discover_performance_dfg(filtrado, case_id_key='ID', activity_key='Ocorrência', timestamp_key='Início')\n",
    "######################################################## ESSE PARAMETRO COLOCA NO GRÁFICO O TEMPO QUE CADA ATIVIDADE DUROU ##################################################\n",
    "    \n",
    "    #########serv_time – (optional) provides the activities’ service times, used to decorate the graph\n",
    "    \n",
    "    pm4py.vis.save_vis_performance_dfg(performance_dfg, start_activities, end_activities, \"grafico_Duracao.png\") #, rankdir='TB' #bgcolor='str' tem como escolher a cor de fundo\n",
    "    ##----------------------------------------------------------------------------------------------------------------------------------------\n",
    "    lable_auxImagem.configure(text=\"Imagem do DFG salva como 'grafico_Duracao.png'\")\n",
    "\n",
    "    exibe_grafico(\"grafico_Duracao.png\")\n",
    "    return"
   ]
  },
  {
   "cell_type": "markdown",
   "metadata": {},
   "source": [
    "#### função cria petri net"
   ]
  },
  {
   "cell_type": "code",
   "execution_count": 113,
   "metadata": {},
   "outputs": [],
   "source": [
    "def cria_grafo_petri_net(caminho):\n",
    "    ##----------------------------------------------------------------------------------------------------------------------------------------\n",
    " \n",
    "    pn, ini, fim = pm4py.discover_petri_net_inductive(log)\n",
    "    pm4py.vis.save_vis_petri_net(pn, ini, fim, \"grafico_PetriNet.png\")#, rankdir='TB'\n",
    "    ##----------------------------------------------------------------------------------------------------------------------------------------\n",
    "    lable_auxImagem.configure(text=\"Imagem do rede de Petri salva como 'grafico_PetriNet.png'\")\n",
    "\n",
    "\n",
    "\n",
    "\n",
    "    exibe_grafico(\"grafico_PetriNet.png\")\n",
    "    return"
   ]
  },
  {
   "cell_type": "markdown",
   "metadata": {},
   "source": [
    "### Função que vai plotar os gráficos"
   ]
  },
  {
   "cell_type": "code",
   "execution_count": 114,
   "metadata": {},
   "outputs": [],
   "source": [
    "lableimg_atual = None\n",
    "\n",
    "def exibe_grafico(caminho):\n",
    "    global lableimg_atual\n",
    "    global imagem\n",
    "    caminho = './'+caminho\n",
    "    imagem = Image.open(caminho)\n",
    "\n",
    "    # Define o tamanho fixo para todos os gráficos\n",
    "    tamanho_grafico_largura = 1340 \n",
    "    tamanho_grafico_altura = 110\n",
    "\n",
    "    # Redimensione a imagem do gráfico para o tamanho fixo\n",
    "    imagem_redimensionada = imagem.resize((tamanho_grafico_largura, tamanho_grafico_altura))\n",
    "    # Remova o label antigo, se existir\n",
    "    if lableimg_atual:\n",
    "        lableimg_atual.destroy()\n",
    "\n",
    "    # Crie um novo label para o gráfico\n",
    "    fig_grafico = s.CTkImage(light_image=imagem_redimensionada, dark_image=imagem_redimensionada, size= (tamanho_grafico_largura, tamanho_grafico_altura))\n",
    "    lableimg_atual = s.CTkLabel(frame_grafico, text=None, image=fig_grafico)\n",
    "    lableimg_atual.pack(side='top')\n",
    "    \n",
    "    return get_variantes()\n"
   ]
  },
  {
   "cell_type": "code",
   "execution_count": 115,
   "metadata": {},
   "outputs": [],
   "source": [
    "def analize_conformidade():\n",
    "    log['ID'] = log['ID'].astype(str)\n",
    "    caminho_do_arquivo = askopenfilename(filetypes=[(\"Arquivo Pnml\", \"*.pnml\")])\n",
    "    rede, inicial, final = pmnl_importer.apply(caminho_do_arquivo)\n",
    "    # declare_model = pm4py.discover_declare(declare_model22)\n",
    "    conf_result = pm4py.fitness_token_based_replay(log, rede, inicial, final, case_id_key='ID', activity_key='Ocorrência', timestamp_key='Início')\n",
    "    lableConform.configure(text=f'mean fittness: {conf_result[\"average_trace_fitness\"]} \\n percentage fittness {conf_result[\"percentage_of_fitting_traces\"]}')\n",
    "    return"
   ]
  },
  {
   "cell_type": "code",
   "execution_count": 116,
   "metadata": {},
   "outputs": [],
   "source": [
    "# Função para alternar o modo de aparência\n",
    "def toggle_mode():\n",
    "    state = switch.get()\n",
    "    if state == \"on\":\n",
    "        s.set_appearance_mode(\"Light\")\n",
    "    else:\n",
    "        s.set_appearance_mode(\"Dark\")\n"
   ]
  },
  {
   "cell_type": "markdown",
   "metadata": {},
   "source": [
    "# _________________________________________________________________________________________________"
   ]
  },
  {
   "cell_type": "markdown",
   "metadata": {},
   "source": [
    "# TESTES"
   ]
  },
  {
   "cell_type": "markdown",
   "metadata": {},
   "source": [
    "### adicionando variantes"
   ]
  },
  {
   "cell_type": "code",
   "execution_count": 117,
   "metadata": {},
   "outputs": [],
   "source": [
    "def get_variantes():\n",
    "    variants = pm4py.get_variants_as_tuples(log)\n",
    "    # labelVariantes.configure(text= variants)\n",
    "    return"
   ]
  },
  {
   "cell_type": "markdown",
   "metadata": {},
   "source": [
    "### Analize de conformidade"
   ]
  },
  {
   "cell_type": "code",
   "execution_count": 118,
   "metadata": {},
   "outputs": [],
   "source": [
    "# ANÁLISE DE CONFORMIDADE --- DUDA #\n",
    "\n",
    "def analiseConformidadeFALSA(log):\n",
    "    # Para o modelo não ser igual ao normal (TESTE)\n",
    "    declare_model22= pm4py.filtering.filter_variants_by_coverage_percentage(log, 0.5)\n",
    "\n",
    "    declare_model = pm4py.discover_declare(declare_model22)\n",
    "    conf_result = pm4py.conformance_declare(log, declare_model)\n",
    "\n",
    "    for cada in conf_result:\n",
    "        if cada['deviations'] != [] and cada['dev_fitness'] != 0.9135802469135803:\n",
    "            print(cada['deviations'], '\\n')\n",
    "            print(cada['dev_fitness'])\n",
    "            print('\\n')\n"
   ]
  },
  {
   "cell_type": "markdown",
   "metadata": {},
   "source": [
    "### Filtrando os gráficos (Paths) (CONCLUÍDO)"
   ]
  },
  {
   "cell_type": "code",
   "execution_count": 119,
   "metadata": {},
   "outputs": [],
   "source": [
    "# def filtra_grafo_por_variantes(caminho):\n",
    "# ###################################################################################################################################################################################################\n",
    "#     tipoArq = caminho.split('.')\n",
    "#     try:\n",
    "#         if tipoArq[-1] in 'csv':\n",
    "#             log = pm4py.format_dataframe(pd.read_csv(caminho, sep=','), case_id='ID', activity_key='Ocorrência', timestamp_key='Início') # depois arrumar um jeito de o usuario selecionar as colunas case_id activity_key e timestamp_key\n",
    "\n",
    "#         elif tipoArq[-1] in 'xlsx':\n",
    "#             log = pm4py.format_dataframe(pd.read_excel(caminho), case_id='ID', activity_key='Ocorrência', timestamp_key='Início') # depois arrumar um jeito de o usuario selecionar as colunas case_id activity_key e timestamp_key\n",
    "\n",
    "#         elif tipoArq[-1] in 'xes':\n",
    "#             log = pm4py.format_dataframe(pm4py.read_xes(caminho), case_id='ID', activity_key='Ocorrência', timestamp_key='Início') # depois arrumar um jeito de o usuario selecionar as colunas case_id \n",
    "#     except Exception as error:\n",
    "#         print(\"NÃO CONSEGUI TRANSFORMAR EM GRÁFICO. UMA COLUNA NÃO FOI ENCONTRADA NESSE ARQUIVO.\\n erro: {error}\")\n",
    "\n",
    "# ###################################################################################################################################################################################################\n",
    "\n",
    "#     log.fillna({'Início': 0},inplace=True)\n",
    "#     log['Início'] = pd.to_datetime(log['Início'])\n",
    "#     log['ID'] = log['ID'].astype(str)\n",
    "\n",
    "#     filtrado = pm4py.filtering.filter_variants_by_coverage_percentage(log, paths.get(), case_id_key='ID', activity_key='Ocorrência', timestamp_key='Início')\n",
    "#     filtrado = filtrado.drop('Unnamed: 0', axis=1)\n",
    "\n",
    "# ###################################################################################################################################################################################################\n",
    "\n",
    "#     dfg, start_activities, end_activities = pm4py.discover_performance_dfg(filtrado, case_id_key='ID', activity_key='Ocorrência', timestamp_key='Início')\n",
    "#     pm4py.vis.save_vis_performance_dfg(dfg, start_activities, end_activities, \"grafico_Duracao_filtrado.png\")\n",
    "    \n",
    "#     ##----------------------------------------------------------------------------------------------------------------------------------------\n",
    "#     lable_auxImagem.configure(text=\"Imagem do DFG salva como 'grafico_Duracao_filtrado.png'\")\n",
    "\n",
    "#     exibe_grafico(\"grafico_Duracao_filtrado.png\")"
   ]
  },
  {
   "cell_type": "markdown",
   "metadata": {},
   "source": [
    "### Função que pega valor do widget Scale (função TESTE)"
   ]
  },
  {
   "cell_type": "code",
   "execution_count": 120,
   "metadata": {},
   "outputs": [],
   "source": [
    "# def pega_valor_scale():\n",
    "#     print('atividades:')\n",
    "#     print(escala1.get())\n",
    "#     print('Paths')\n",
    "#     print(paths.get())\n",
    "#     print(log)"
   ]
  },
  {
   "cell_type": "code",
   "execution_count": 121,
   "metadata": {},
   "outputs": [],
   "source": [
    "# def cria_grafo_analise(caminho):\n",
    "    \n",
    "# def filter_dfg_on_activities_percentage(dfg0, start_activities0, end_activities0, activities_count0, percentage):\n",
    "# def filter_dfg_on_paths_percentage(dfg0, start_activities0, end_activities0, activities_count0, percentage,\n",
    "#                                    keep_all_activities=False):"
   ]
  },
  {
   "cell_type": "markdown",
   "metadata": {},
   "source": [
    "### (TESTE) redefinindo o tamanho da imagme com o tamanho da janela"
   ]
  },
  {
   "cell_type": "code",
   "execution_count": 122,
   "metadata": {},
   "outputs": [],
   "source": [
    "################## AINDA NÃO DEU CERTO ##################\n",
    "# def resize_image(event):\n",
    "#     new_width = event.width\n",
    "#     new_height = event.height\n",
    "#     image = imagem.resize((new_width, new_height))\n",
    "#     photo = Image.open(image)\n",
    "#     lableimg_atual.config(image=photo)\n",
    "#     lableimg_atual.image = photo"
   ]
  },
  {
   "cell_type": "markdown",
   "metadata": {},
   "source": [
    "# _________________________________________________________________________________________________"
   ]
  },
  {
   "cell_type": "markdown",
   "metadata": {},
   "source": [
    "## Instanciando a janela"
   ]
  },
  {
   "cell_type": "code",
   "execution_count": 123,
   "metadata": {},
   "outputs": [],
   "source": [
    "raiz = s.CTk(className='Proces Mining GUI')\n",
    "s.set_appearance_mode(\"system\")  # \"dark\", \"light\", \"system\"\n",
    "s.set_default_color_theme(\"dark-blue\")  # \"blue\", \"dark-blue\", \"green\"\n",
    "raiz.geometry('960x540')\n",
    "\n",
    "#---------------------------------------------TENTATIVA PNG---------------------------------------------------------\n",
    "# raiz.title(\"Janela com Ícone Personalizado\")\n",
    "\n",
    "# # Carregar a imagem do ícone usando PIL\n",
    "# image = Image.open('C:\\\\Users\\\\meduarda\\\\grupo-2-7\\\\Notebooks\\\\Tkinter_resumo\\\\iconProcessGUI.png')\n",
    "# icon_image = ImageTk.PhotoImage(image)\n",
    "\n",
    "# # Definir a imagem como ícone da janela\n",
    "# raiz.iconphoto(False, icon_image)\n",
    "#---------------------------------------------TENTATIVA .ICO---------------------------------------------------------\n",
    "\n",
    "# image = Image.open(\"iconProcessGUI.png\")\n",
    "# icon_image = ImageTk.PhotoImage(image)\n",
    "\n",
    "# # Definir a imagem como ícone da janela\n",
    "# raiz.iconphoto(False, icon_image)"
   ]
  },
  {
   "cell_type": "markdown",
   "metadata": {},
   "source": [
    "## Frames"
   ]
  },
  {
   "cell_type": "markdown",
   "metadata": {},
   "source": [
    "### Criando o frame de seleção de arquivos"
   ]
  },
  {
   "cell_type": "code",
   "execution_count": 124,
   "metadata": {},
   "outputs": [],
   "source": [
    "frame1 = s.CTkFrame(raiz)\n",
    "frame1.pack(side='top',fill=tk.BOTH)"
   ]
  },
  {
   "cell_type": "code",
   "execution_count": 125,
   "metadata": {},
   "outputs": [],
   "source": [
    "switch_var = s.StringVar(value=\"off\")\n",
    "switch = s.CTkSwitch(frame1, text=None, variable=switch_var, onvalue=\"on\", offvalue=\"off\", command=lambda: toggle_mode())\n",
    "switch.pack(side='right')"
   ]
  },
  {
   "cell_type": "markdown",
   "metadata": {},
   "source": [
    "### Criando o frame Lateral"
   ]
  },
  {
   "cell_type": "code",
   "execution_count": 126,
   "metadata": {},
   "outputs": [],
   "source": [
    "frame_lateral = s.CTkFrame(raiz)\n",
    "frame_lateral.pack(side = 'right',pady=0,  fill='y')"
   ]
  },
  {
   "cell_type": "markdown",
   "metadata": {},
   "source": [
    "### Frame do grafico"
   ]
  },
  {
   "cell_type": "code",
   "execution_count": 127,
   "metadata": {},
   "outputs": [],
   "source": [
    "frame_grafico = s.CTkFrame(raiz)\n",
    "frame_grafico.pack(expand=True, fill='both')\n",
    "# frame_grafico.bind(\"<Configure>\", resize_image)"
   ]
  },
  {
   "cell_type": "code",
   "execution_count": 128,
   "metadata": {},
   "outputs": [],
   "source": [
    "frameConform = s.CTkFrame(raiz)\n",
    "frameConform.pack(side='right', fill='both')"
   ]
  },
  {
   "cell_type": "markdown",
   "metadata": {},
   "source": [
    "## Imagens"
   ]
  },
  {
   "cell_type": "code",
   "execution_count": 129,
   "metadata": {},
   "outputs": [],
   "source": [
    "arq = s.CTkImage(light_image=Image.open('iconArq.png'), dark_image=Image.open('iconArq.png'), size=(80,80))\n",
    "# arq = arq.subsample(2,2)\n",
    "\n",
    "arqPerform = s.CTkImage(light_image=Image.open('iconPerformance.png'), dark_image=Image.open('iconPerformanceDark.png'), size=(80,80))\n",
    "# arqPerform = arqPerform.subsample(5,5)\n",
    "\n",
    "arqFreq = s.CTkImage(light_image=Image.open('iconFreq.png'), dark_image=Image.open('iconFreqDark.png'), size=(80,80))\n",
    "# arqFreq = arqFreq.subsample(5,5)\n",
    "\n",
    "arqPetri = s.CTkImage(light_image=Image.open('iconPetri.png'), dark_image=Image.open('iconPetriDark.png'), size=(80,80))\n",
    "# arqPetri = arqPetri.subsample(5,5)\n",
    "\n",
    "arqNot = s.CTkImage(light_image=Image.open('mode.png'), dark_image=Image.open('modeDark.png'), size=(20,20))"
   ]
  },
  {
   "cell_type": "markdown",
   "metadata": {},
   "source": [
    "## Widgets"
   ]
  },
  {
   "cell_type": "markdown",
   "metadata": {},
   "source": [
    "### Botão de seleção de arquivos ###"
   ]
  },
  {
   "cell_type": "code",
   "execution_count": 130,
   "metadata": {},
   "outputs": [],
   "source": [
    "label_arquivo = s.CTkLabel(frame1, text=\"Nenhum arquivo selecionado\")\n",
    "label_arquivo.pack(side='bottom')\n",
    "\n",
    "lable_auxImagem= s.CTkLabel(frame1, text=\"Nenhma Imagem Gerada\")\n",
    "lable_auxImagem.pack(side='bottom')"
   ]
  },
  {
   "cell_type": "markdown",
   "metadata": {},
   "source": [
    "### Botões de seleção de Gráfico (TESTE) ###"
   ]
  },
  {
   "cell_type": "code",
   "execution_count": 131,
   "metadata": {},
   "outputs": [],
   "source": [
    "\n",
    "botaoArquivo = s.CTkButton(frame1, text= \"Seleção de arquivos\" , image=arq, command=lambda: escolhe_arquivo(), hover_color=None, fg_color=\"black\")\n",
    "botaoArquivo.pack(side='left')\n",
    "\n",
    "botaoFrequencia = s.CTkButton(frame1, text=\"Gráfico de Frequência\", image=arqFreq, command=lambda: cria_grafo_dfg(log), hover_color=None, fg_color=\"transparent\")\n",
    "botaoFrequencia.pack(side='left', pady=10)\n",
    "\n",
    "botaoPerformance = s.CTkButton(frame1, text=\"Gráfico de Performace\", image=arqPerform,  command=lambda: cria_grafo_duracao(log), hover_color=None, fg_color=\"transparent\")\n",
    "botaoPerformance.pack(side='left', pady=10)\n",
    "\n",
    "botaoPetriNet = s.CTkButton(frame1, text=\"Gráfico PetriNet\", image=arqPetri,  command=lambda: cria_grafo_petri_net(log), hover_color=None, fg_color=\"transparent\")\n",
    "botaoPetriNet.pack(side='left', pady=10)\n",
    "\n",
    "# toggle_button = s.CTkButton(frame1, text= None, image=arqNot, command=toggle_mode, hover_color=None, fg_color=\"transparent\")\n",
    "# toggle_button.pack(side='right')"
   ]
  },
  {
   "cell_type": "code",
   "execution_count": 132,
   "metadata": {},
   "outputs": [],
   "source": [
    "\n",
    "# Criando A lable na lateral direita\n",
    "# label_direita_sup = s.CTkLabel(frame_lateral)#, padx=40, pady=10, borderwidth=2, relief=\"solid\"\n",
    "# label_direita_sup.pack(fill=tk.Y, expand=True)\n",
    "\n",
    "################################################## DUDA\n",
    "# Criando um frame para cada conjunto de label e escala\n",
    "frame_escala1 = s.CTkFrame(frame_lateral)\n",
    "frame_escala1.pack(fill=\"both\", expand=True)\n",
    "\n",
    "# frame_escala2 = s.CTkFrame(frame_lateral, bg_color='green')\n",
    "# frame_escala2.pack(side = 'top')\n",
    "\n",
    "# Adicionando rótulo e escala no primeiro frame\n",
    "label_escala1 = s.CTkLabel(frame_escala1, text=\"Activities\")\n",
    "label_escala1.place(relx=0.3, rely=0.1, anchor=tk.CENTER)\n",
    "\n",
    "escala1 = s.CTkSlider(frame_escala1,from_=0, to=1, orientation='vertical')\n",
    "\n",
    "escala1.set(100)\n",
    "escala1.place(relx=0.3, rely=0.5, anchor=tk.CENTER)\n",
    "\n",
    "# Adicionando rótulo e escala no segundo frame\n",
    "label_escala2 = s.CTkLabel(frame_escala1, text=\"Paths\")\n",
    "label_escala2.place(relx=0.7, rely=0.1, anchor=tk.CENTER)\n",
    "\n",
    "paths = s.CTkSlider(frame_escala1, from_=0.95, to=0, orientation='vertical')\n",
    "paths.set(0)\n",
    "paths.place(relx=0.7, rely=0.5, anchor=tk.CENTER)\n",
    "\n",
    "\n",
    "# scale = tk.Scrollbar(frame_lateral, orient=tk.VERTICAL)\n",
    "# scale.pack()\n",
    "\n"
   ]
  },
  {
   "cell_type": "code",
   "execution_count": 133,
   "metadata": {},
   "outputs": [],
   "source": [
    "# # ANÁLISE DE CONFORMIDADE --- BET #\n",
    "\n",
    "# from pm4py.algo.conformance.tokenreplay import algorithm as token_based_replay\n",
    "# from pm4py.algo.conformance.tokenreplay.diagnostics import duration_diagnostics\n",
    "\n",
    "# logTeste = pd.read_excel(\"C:\\\\Users\\\\betsabenogueira\\\\grupo-2\\\\Notebooks\\\\Arquivos\\\\Relatório_NT_Deles.xlsx\")\n",
    "\n",
    "# logTeste = pm4py.convert_to_event_log(logTeste)\n",
    "\n",
    "# def analiseConform(log):\n",
    "#     # Criando modelo de log padrão para ser comparado\n",
    "#     filtered_log = pm4py.filter_variants_top_k(log, 3)\n",
    "\n",
    "#     # Aplicando algoritimo indutivo\n",
    "#     net, initial_marking, final_marking = pm4py.discover_petri_net_inductive(filtered_log)\n",
    "\n",
    "#     # Replay baseado em token com configurações especiais\n",
    "#     parameters_tbr = {token_based_replay.Variants.TOKEN_REPLAY.value.Parameters.DISABLE_VARIANTS: True, token_based_replay.Variants.TOKEN_REPLAY.value.Parameters.ENABLE_PLTR_FITNESS: True}\n",
    "#     replayed_traces, place_fitness, trans_fitness, unwanted_activities = token_based_replay.apply(log, net,\n",
    "#                                                                                                   initial_marking,\n",
    "#                                                                                                   final_marking,\n",
    "#                                                                                                   parameters=parameters_tbr)\n",
    "    \n",
    "#     # Análise de rendimento (execução inadequada)\n",
    "#     trans_diagnostics = duration_diagnostics.diagnose_from_trans_fitness(log, trans_fitness)\n",
    "#     for trans in trans_diagnostics:\n",
    "#         print(trans, trans_diagnostics[trans])\n",
    "\n",
    "# analiseConform(logTeste)"
   ]
  },
  {
   "cell_type": "markdown",
   "metadata": {},
   "source": [
    "### Botão de aplicar valores (TESTE)"
   ]
  },
  {
   "cell_type": "code",
   "execution_count": 134,
   "metadata": {},
   "outputs": [],
   "source": [
    "##########################Para a função escolhe arquivo que vai criar um grafico novo##########################\n",
    "# aplicar = s.CTkButton(frame_lateral, text='Aplicar', command=pega_valor_scale)\n",
    "# aplicar.pack()"
   ]
  },
  {
   "cell_type": "markdown",
   "metadata": {},
   "source": [
    "### Criando widgets da lable lateral"
   ]
  },
  {
   "cell_type": "code",
   "execution_count": 135,
   "metadata": {},
   "outputs": [],
   "source": [
    "# Bet\n",
    "\n",
    "# módulos\n",
    "from tkinter import ttk\n",
    "\n",
    "# funções\n",
    "def on_click():\n",
    "    # Alterna o estado do botão\n",
    "    if combo3.winfo_ismapped():\n",
    "        #button.config(state=tk.DISABLED)\n",
    "        label_secon.pack_forget()\n",
    "        combo3.pack_forget()\n",
    "        print(\"Botão ativado\")\n",
    "    else:\n",
    "        #button.config(state=tk.NORMAL)\n",
    "        label_secon.pack(padx=0, pady=0)\n",
    "        combo3.pack(padx=0, pady=0)\n",
    "        print(\"Botão desativado\")\n",
    "\n",
    "def selecionar_opcao(event=None):\n",
    "    opcao_selecionada = combo.get()\n",
    "    print(\"Opção Selecionada:\", opcao_selecionada)\n",
    "\n",
    "# funções do botão de frequency/performance\n",
    "def open_frequency():\n",
    "    label_perf.pack_forget()\n",
    "    combo2.pack_forget()\n",
    "    label_freq.pack(padx=0, pady=0)\n",
    "    combo.pack(padx=0, pady=0)\n",
    "\n",
    "def open_performance():\n",
    "    label_freq.pack_forget()\n",
    "    combo.pack_forget()\n",
    "    label_perf.pack(padx=0, pady=0)\n",
    "    combo2.pack(padx=0, pady=0)\n",
    "    \n",
    "# # B.P.\n",
    "# # LABEL DA PARTE LATERAL INFERIOR (DUDA: COMENTEI PQ NN SEI PQ TEM )\n",
    "# # label_direita_inf = s.CTkLabel(frame_lateral, padx=60, pady=10, )#borderwidth=2, relief=\"solid\"\n",
    "# # label_direita_inf.pack(fill=tk.Y, expand=True)#side = 'bottom',\n",
    "\n",
    "# # FREQUENCY\n",
    "# label_freq = s.CTkLabel(frame_lateral, text=\"Show Frequency:\")\n",
    "\n",
    "# opcoes = [\"Absolute frequency\",\"Case frequency\", \"Max. repetitions\", \"Case coverage\"]\n",
    "# combo = s.CTkComboBox(frame_lateral, values=opcoes, state=\"readonly\")\n",
    "# combo.bind(\"<<ComboboxSelected>>\", selecionar_opcao)\n",
    "\n",
    "# button1 = s.CTkButton(frame_lateral, text='Frequency', command=open_frequency)\n",
    "# button1.pack(side = 'top')#\n",
    "\n",
    "# # PERFORMANCE\n",
    "# label_perf = s.CTkLabel(frame_lateral, text=\"Show Performance:\")\n",
    "\n",
    "# opcoes2 = [\"Total duration\",\"Median duration\", \"Mean duration\", \"Max. duration\",\"Min. duration\"]\n",
    "# combo2 = s.CTkComboBox(frame_lateral, values=opcoes2, state=\"readonly\")\n",
    "# combo2.bind(\"<<ComboboxSelected>>\", selecionar_opcao)\n",
    "\n",
    "# button2 = s.CTkButton(frame_lateral, text='Performance', command=open_performance)\n",
    "# button2.pack()#side = 'top'\n",
    "\n",
    "# SECONDARY METRICS\n",
    "# frame_secon = tk.Frame(label_direita_inf2)\n",
    "# frame_secon.pack()\n",
    "\n",
    "label_secon = s.CTkLabel(frame_lateral, text=\"Secondary:\")\n",
    "\n",
    "opcoes3 = [\"Absolute frequency\",\"Case frequency\", \"Max. repetitions\", \"Case coverage\",\"Total duration\",\"Median duration\", \"Mean duration\", \"Max. duration\",\"Min. duration\"]\n",
    "combo3 = s.CTkComboBox(frame_lateral, values=opcoes3, state=\"readonly\")\n",
    "\n",
    "button3 = s.CTkButton(frame_lateral, text='Add secondary metrics', command=on_click)\n",
    "button3.pack()#side = 'top'\n",
    "# tem que sobrepor pois os itens do frame de cima esta desaparendo"
   ]
  },
  {
   "cell_type": "code",
   "execution_count": 136,
   "metadata": {},
   "outputs": [],
   "source": [
    "botaoConform = s.CTkButton(frame_lateral, text='Análise de Conformidade', command=lambda: analize_conformidade())\n",
    "botaoConform.pack()"
   ]
  },
  {
   "cell_type": "code",
   "execution_count": 137,
   "metadata": {},
   "outputs": [],
   "source": [
    "lableConform = s.CTkLabel(frameConform, text=None, font=('Arial', 20))\n",
    "lableConform.pack()\n",
    "\n",
    "# labelVariantes = s.CTkLabel(frame_grafico, text=None, font=('Arial', 20))\n",
    "# labelVariantes.pack(side='bottom')"
   ]
  },
  {
   "cell_type": "markdown",
   "metadata": {},
   "source": [
    "## LOOPING DA JANELA PRINCIPAL"
   ]
  },
  {
   "cell_type": "code",
   "execution_count": 138,
   "metadata": {},
   "outputs": [
    {
     "name": "stderr",
     "output_type": "stream",
     "text": [
      "C:\\Users\\meduarda\\AppData\\Local\\Packages\\PythonSoftwareFoundation.Python.3.11_qbz5n2kfra8p0\\LocalCache\\local-packages\\Python311\\site-packages\\pm4py\\utils.py:96: UserWarning: Some rows of the Pandas data frame have been removed because of empty case IDs, activity labels, or timestamps to ensure the correct functioning of PM4Py's algorithms.\n",
      "  warnings.warn(\"Some rows of the Pandas data frame have been removed because of empty case IDs, activity labels, or timestamps to ensure the correct functioning of PM4Py's algorithms.\")\n",
      "replaying log with TBR, completed traces :: 100%|██████████| 8/8 [00:00<00:00, 435.09it/s]\n"
     ]
    }
   ],
   "source": [
    "raiz.mainloop()"
   ]
  }
 ],
 "metadata": {
  "kernelspec": {
   "display_name": "Python 3",
   "language": "python",
   "name": "python3"
  },
  "language_info": {
   "codemirror_mode": {
    "name": "ipython",
    "version": 3
   },
   "file_extension": ".py",
   "mimetype": "text/x-python",
   "name": "python",
   "nbconvert_exporter": "python",
   "pygments_lexer": "ipython3",
   "version": "3.11.9"
  }
 },
 "nbformat": 4,
 "nbformat_minor": 2
}
