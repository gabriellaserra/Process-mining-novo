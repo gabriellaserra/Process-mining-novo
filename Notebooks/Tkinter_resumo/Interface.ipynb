{
 "cells": [
  {
   "cell_type": "code",
   "execution_count": 321,
   "metadata": {},
   "outputs": [],
   "source": [
    "from tkinter import *\n",
    "import tkinter as tk\n",
    "from tkinter.filedialog import askopenfilename\n",
    "from pm4py.visualization.dfg import visualizer as dfg_visualizer\n",
    "import os\n",
    "from PIL import Image, ImageTk\n",
    "import pm4py\n",
    "import pandas as pd\n"
   ]
  },
  {
   "cell_type": "code",
   "execution_count": 322,
   "metadata": {},
   "outputs": [],
   "source": [
    "# global caminho_do_arquivo"
   ]
  },
  {
   "cell_type": "markdown",
   "metadata": {},
   "source": [
    "### função que escolhe o caminho "
   ]
  },
  {
   "cell_type": "code",
   "execution_count": 323,
   "metadata": {},
   "outputs": [],
   "source": [
    "def escolhe_arquivo():\n",
    "    caminho_do_arquivo = askopenfilename(filetypes=[(\"Arquivo CSV\", \"*.csv\"), (\"Arquivo Excel\", \"*.xlsx\"), ('só para testes PNG', '*.png'), ('xes', '*.xes')])\n",
    "    if caminho_do_arquivo:\n",
    "        \n",
    "        label_arquivo.config(text=f\"Arquivo selecionado: {caminho_do_arquivo}\") # Calma é pra não estar definido msm\n",
    "\n",
    "        #Mudar a chama dessa função quando for criar a função que trata os dados\n",
    "        cria_grafo_dfg(caminho_do_arquivo)\n",
    "        "
   ]
  },
  {
   "cell_type": "markdown",
   "metadata": {},
   "source": [
    "### função cria o gráfico"
   ]
  },
  {
   "cell_type": "code",
   "execution_count": 324,
   "metadata": {},
   "outputs": [],
   "source": [
    "def cria_grafo_dfg(caminho):\n",
    "    #Checando se o arquivo é xlsx ou csv\n",
    "    tipoArq = caminho.split('.')\n",
    "    \n",
    "    if tipoArq[-1] in 'csv':\n",
    "        log = pm4py.format_dataframe(pd.read_csv(caminho), case_id='ID', activity_key='Ocorrência', timestamp_key='Início')\n",
    "\n",
    "    elif tipoArq[-1] in 'xlsx':\n",
    "        log = pm4py.format_dataframe(pd.read_excel(caminho), case_id='ID', activity_key='Ocorrência', timestamp_key='Início') # depois arrumar um jeito de o usuario selecionar as colunas case_id activity_key e timestamp_key\n",
    "\n",
    "    elif tipoArq[-1] in 'xes':\n",
    "        log = pm4py.format_dataframe(pm4py.read_xes(caminho), case_id='ID', activity_key='Ocorrência', timestamp_key='Início') # depois arrumar um jeito de o usuario selecionar as colunas case_id \n",
    "\n",
    "    ##----------------------------------------------------------------------------------------------------------------------------------------\n",
    "    log['ID'] = log['ID'].astype(str)\n",
    "\n",
    "    dfg, start_activities, end_activities = pm4py.discover_dfg(log)\n",
    "    grafo = dfg_visualizer.apply(dfg, log=log)\n",
    "    dfg_visualizer.save(grafo, \"dfg_grafico.png\")\n",
    "    \n",
    "    ##----------------------------------------------------------------------------------------------------------------------------------------\n",
    "    lable_auxImagem.config(text=\"Imagem do DFG salva como 'dfg_grafico.png'\")\n",
    "    print(\"Imagem do DFG salva como 'dfg_grafico.png'\")\n",
    "\n",
    "    \n",
    "\n",
    "    exibe_grafico(\"dfg_grafico.png\")"
   ]
  },
  {
   "cell_type": "markdown",
   "metadata": {},
   "source": [
    "### Função que vai plotar os gráficos"
   ]
  },
  {
   "cell_type": "code",
   "execution_count": 325,
   "metadata": {},
   "outputs": [],
   "source": [
    "def exibe_grafico(caminho):\n",
    "    \n",
    "    imagem_grafico = PhotoImage(file=caminho, master=frame_grafico)\n",
    "    imagem_grafico = imagem_grafico.subsample(1,1)\n",
    "    fig_grafico = Label(frame_grafico, image=imagem_grafico)\n",
    "    fig_grafico.image = imagem_grafico\n",
    "    fig_grafico.pack()"
   ]
  },
  {
   "cell_type": "markdown",
   "metadata": {},
   "source": [
    "### INSTANCIANDO A JANELA"
   ]
  },
  {
   "cell_type": "code",
   "execution_count": 326,
   "metadata": {},
   "outputs": [
    {
     "data": {
      "text/plain": [
       "''"
      ]
     },
     "execution_count": 326,
     "metadata": {},
     "output_type": "execute_result"
    }
   ],
   "source": [
    "raiz = Tk(className='Primeira janela de teste para a interface')\n",
    "raiz.geometry('960x540')"
   ]
  },
  {
   "cell_type": "markdown",
   "metadata": {},
   "source": [
    "### Criando o frame de seleção de arquivos"
   ]
  },
  {
   "cell_type": "code",
   "execution_count": 327,
   "metadata": {},
   "outputs": [],
   "source": [
    "frame1 = Frame(raiz) #bg=\"blue\"\n",
    "frame1.pack(side='top',fill=tk.BOTH)"
   ]
  },
  {
   "cell_type": "markdown",
   "metadata": {},
   "source": [
    "### Botão de seleção de arquivos ###"
   ]
  },
  {
   "cell_type": "code",
   "execution_count": 328,
   "metadata": {},
   "outputs": [],
   "source": [
    "arq = PhotoImage(file='iconArq.png', master=frame1)\n",
    "arq = arq.subsample(2,2)\n",
    "fig1 = Label(frame1, image=arq)\n",
    "fig1.image = arq\n",
    "\n",
    "botao = Button(frame1, image=arq, command=escolhe_arquivo, bd=0, highlightthickness=0, bg= 'green')\n",
    "botao.pack(side='left')\n",
    "\n",
    "label_arquivo = Label(frame1, text=\"Nenhum arquivo selecionado\")\n",
    "label_arquivo.pack(pady=10)\n",
    "\n",
    "lable_auxImagem= Label(frame1, text=\"Nenhma Imagem Gerada\")\n",
    "lable_auxImagem.pack(pady=10)"
   ]
  },
  {
   "cell_type": "markdown",
   "metadata": {},
   "source": [
    "### Botões de seleção de Gráfico (TESTE) ###"
   ]
  },
  {
   "cell_type": "code",
   "execution_count": 329,
   "metadata": {},
   "outputs": [],
   "source": [
    "\n",
    "# botaoFrequencia = Button(frame1, text='Grafico Frêquencia', command=cria_grafo_dfg, bd=5, relief=\"ridge\", bg= 'skyblue')\n",
    "# botaoFrequencia.pack(side='right', pady=10)\n",
    "\n",
    "# botaoPetriNet = Button(frame1, text='Grafico Rede de Petri', command=escolhe_arquivo, bd=5, relief=\"ridge\", bg= 'skyblue')\n",
    "# botaoPetriNet.pack(side='right', pady=10)\n",
    "\n",
    "# botaoPerformance = Button(frame1, text='Grafico Performance', command=escolhe_arquivo, bd=5, relief=\"ridge\", bg= 'skyblue')\n",
    "# botaoPerformance.pack(side='right', pady=10)\n"
   ]
  },
  {
   "cell_type": "markdown",
   "metadata": {},
   "source": [
    "### Criando o frame Lateral"
   ]
  },
  {
   "cell_type": "code",
   "execution_count": 330,
   "metadata": {},
   "outputs": [],
   "source": [
    "frame_lateral = Frame(raiz)\n",
    "frame_lateral.pack(side = 'right',pady=20, fill=tk.BOTH)\n",
    "\n",
    "# Criando A lable na lateral direita\n",
    "label_direita_sup = Label(frame_lateral, padx=40, pady=10, borderwidth=2, relief=\"solid\")\n",
    "label_direita_sup.pack(fill=tk.Y, expand=True)\n",
    "\n",
    "# Criando um frame para cada conjunto de label e escala\n",
    "frame_escala1 = tk.Frame(label_direita_sup)\n",
    "frame_escala1.pack(side='left', padx=5, pady=10)\n",
    "\n",
    "frame_escala2 = tk.Frame(label_direita_sup)\n",
    "frame_escala2.pack(side='left', padx=5, pady=10)\n",
    "\n",
    "# Adicionando rótulo e escala no primeiro frame\n",
    "label_escala1 = tk.Label(frame_escala1, text=\"Activities\")\n",
    "label_escala1.pack()\n",
    "\n",
    "escala1 = Scale(frame_escala1, from_=100, to=0, orient=tk.VERTICAL)\n",
    "escala1.set(0)\n",
    "escala1.pack(side = 'left')\n",
    "\n",
    "# Adicionando rótulo e escala no segundo frame\n",
    "label_escala2 = tk.Label(frame_escala2, text=\"Paths\")\n",
    "label_escala2.pack()\n",
    "\n",
    "escala2 = Scale(frame_escala2, from_=100, to=0, orient=tk.VERTICAL)\n",
    "escala2.set(0)\n",
    "escala2.pack(side = 'left')\n",
    "\n",
    "# scale = tk.Scrollbar(frame_lateral, orient=tk.VERTICAL)\n",
    "# scale.pack()\n",
    "\n"
   ]
  },
  {
   "cell_type": "markdown",
   "metadata": {},
   "source": [
    "### frame do grafico"
   ]
  },
  {
   "cell_type": "code",
   "execution_count": 331,
   "metadata": {},
   "outputs": [],
   "source": [
    "frame_grafico = Frame(raiz)\n",
    "\n",
    "frame_grafico.pack()"
   ]
  },
  {
   "cell_type": "markdown",
   "metadata": {},
   "source": [
    "### LOOPING DA JANELA PRINCIPAL"
   ]
  },
  {
   "cell_type": "code",
   "execution_count": 332,
   "metadata": {},
   "outputs": [
    {
     "name": "stderr",
     "output_type": "stream",
     "text": [
      "C:\\Users\\meduarda\\AppData\\Local\\Packages\\PythonSoftwareFoundation.Python.3.11_qbz5n2kfra8p0\\LocalCache\\local-packages\\Python311\\site-packages\\pm4py\\utils.py:96: UserWarning: Some rows of the Pandas data frame have been removed because of empty case IDs, activity labels, or timestamps to ensure the correct functioning of PM4Py's algorithms.\n",
      "  warnings.warn(\"Some rows of the Pandas data frame have been removed because of empty case IDs, activity labels, or timestamps to ensure the correct functioning of PM4Py's algorithms.\")\n"
     ]
    },
    {
     "name": "stdout",
     "output_type": "stream",
     "text": [
      "Imagem do DFG salva como 'dfg_grafico.png'\n"
     ]
    }
   ],
   "source": [
    "raiz.mainloop()"
   ]
  }
 ],
 "metadata": {
  "kernelspec": {
   "display_name": "Python 3",
   "language": "python",
   "name": "python3"
  },
  "language_info": {
   "codemirror_mode": {
    "name": "ipython",
    "version": 3
   },
   "file_extension": ".py",
   "mimetype": "text/x-python",
   "name": "python",
   "nbconvert_exporter": "python",
   "pygments_lexer": "ipython3",
   "version": "3.11.9"
  }
 },
 "nbformat": 4,
 "nbformat_minor": 2
}
