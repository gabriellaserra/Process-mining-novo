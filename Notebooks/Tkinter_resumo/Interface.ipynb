{
 "cells": [
  {
   "cell_type": "code",
   "execution_count": 31,
   "metadata": {},
   "outputs": [],
   "source": [
    "from tkinter import *\n",
    "import tkinter as tk\n",
    "from tkinter.filedialog import askopenfilename\n",
    "from PIL import Image, ImageTk"
   ]
  },
  {
   "cell_type": "markdown",
   "metadata": {},
   "source": [
    "### função que printa o caminho "
   ]
  },
  {
   "cell_type": "code",
   "execution_count": 33,
   "metadata": {},
   "outputs": [],
   "source": [
    "def escolhe_arquivo():\n",
    "    caminho_do_arquivo = askopenfilename(filetypes=[(\"Arquivo CSV\", \"*.csv\"), (\"Arquivo Excel\", \"*xlsx\"), ('só para testes PNG', '*.png')])\n",
    "    if caminho_do_arquivo:\n",
    "        \n",
    "        label_arquivo.config(text=f\"Arquivo selecionado: {caminho_do_arquivo}\") # Calma é pra não estar definido msm\n",
    "        #Mudar a chama dessa função quando for criar a função que trata os dados\n",
    "        exibe_grafico(caminho_do_arquivo)"
   ]
  },
  {
   "cell_type": "markdown",
   "metadata": {},
   "source": [
    "### Função que vai plotar os gráficos"
   ]
  },
  {
   "cell_type": "code",
   "execution_count": 34,
   "metadata": {},
   "outputs": [],
   "source": [
    "def exibe_grafico(caminho):\n",
    "    \n",
    "    imagem_grafico = PhotoImage(file=caminho, master=frame_grafico)\n",
    "    imagem_grafico = imagem_grafico.subsample(1,1)\n",
    "    fig_grafico = Label(frame_grafico, image=imagem_grafico)\n",
    "    fig_grafico.image = imagem_grafico\n",
    "    fig_grafico.pack()"
   ]
  },
  {
   "cell_type": "markdown",
   "metadata": {},
   "source": [
    "### INSTANCIANDO A JANELA"
   ]
  },
  {
   "cell_type": "code",
   "execution_count": 35,
   "metadata": {},
   "outputs": [
    {
     "data": {
      "text/plain": [
       "''"
      ]
     },
     "execution_count": 35,
     "metadata": {},
     "output_type": "execute_result"
    }
   ],
   "source": [
    "raiz = Tk(className='Primeira janela de teste para a interface')\n",
    "raiz.geometry('960x540')"
   ]
  },
  {
   "cell_type": "markdown",
   "metadata": {},
   "source": [
    "### Criando o frame de seleção de arquivos"
   ]
  },
  {
   "cell_type": "code",
   "execution_count": 36,
   "metadata": {},
   "outputs": [],
   "source": [
    "frame1 = Frame(raiz) #bg=\"blue\"\n",
    "frame1.pack(side='top',fill=tk.BOTH)"
   ]
  },
  {
   "cell_type": "markdown",
   "metadata": {},
   "source": [
    "### Botão de seleção de arquivos ###"
   ]
  },
  {
   "cell_type": "code",
   "execution_count": 37,
   "metadata": {},
   "outputs": [],
   "source": [
    "arq = PhotoImage(file='iconArq.png', master=frame1)\n",
    "arq = arq.subsample(2,2)\n",
    "fig1 = Label(frame1, image=arq)\n",
    "fig1.image = arq\n",
    "\n",
    "botao = Button(frame1, image=arq, command=escolhe_arquivo, bd=0, highlightthickness=0, bg= 'green')\n",
    "botao.pack()\n",
    "\n",
    "label_arquivo = Label(frame1, text=\"Nenhum arquivo selecionado\")\n",
    "label_arquivo.pack(pady=10)"
   ]
  },
  {
   "cell_type": "markdown",
   "metadata": {},
   "source": [
    "### Criando o frame Lateral"
   ]
  },
  {
   "cell_type": "code",
   "execution_count": 38,
   "metadata": {},
   "outputs": [],
   "source": [
    "# def on_scroll(*args):\n",
    "#     canvas.yview(*args)\n",
    "\n",
    "\n",
    "frame_lateral = Frame(raiz)\n",
    "frame_lateral.pack(side = 'right',pady=20, fill=tk.BOTH)\n",
    "\n",
    "# Criando A lable na lateral direita\n",
    "lable_direita = Label(frame_lateral, text=\"lateral esquerda\", padx=40, pady=10, borderwidth=2, relief=\"solid\")\n",
    "lable_direita.pack(fill=tk.Y, expand=True)\n",
    "\n",
    "\n",
    "\n",
    "\n",
    "# scale = tk.Scrollbar(frame_lateral, orient=tk.VERTICAL)\n",
    "# scale.pack()\n",
    "\n"
   ]
  },
  {
   "cell_type": "markdown",
   "metadata": {},
   "source": [
    "### frame do grafico"
   ]
  },
  {
   "cell_type": "code",
   "execution_count": 39,
   "metadata": {},
   "outputs": [],
   "source": [
    "frame_grafico = Frame(raiz)\n",
    "\n",
    "frame_grafico.pack()"
   ]
  },
  {
   "cell_type": "markdown",
   "metadata": {},
   "source": [
    "### LOOPING DA JANELA PRINCIPAL"
   ]
  },
  {
   "cell_type": "code",
   "execution_count": 40,
   "metadata": {},
   "outputs": [
    {
     "name": "stderr",
     "output_type": "stream",
     "text": [
      "Exception in Tkinter callback\n",
      "Traceback (most recent call last):\n",
      "  File \"C:\\Program Files\\WindowsApps\\PythonSoftwareFoundation.Python.3.11_3.11.2544.0_x64__qbz5n2kfra8p0\\Lib\\tkinter\\__init__.py\", line 1967, in __call__\n",
      "    return self.func(*args)\n",
      "           ^^^^^^^^^^^^^^^^\n",
      "  File \"C:\\Users\\meduarda\\AppData\\Local\\Temp\\ipykernel_12748\\1600990913.py\", line 7, in escolhe_arquivo\n",
      "    exibe_grafico(caminho_do_arquivo)\n",
      "  File \"C:\\Users\\meduarda\\AppData\\Local\\Temp\\ipykernel_12748\\2301394254.py\", line 8, in exibe_grafico\n",
      "    frame_grafico.clear()\n",
      "    ^^^^^^^^^^^^^^^^^^^\n",
      "AttributeError: 'Frame' object has no attribute 'clear'\n",
      "Exception in Tkinter callback\n",
      "Traceback (most recent call last):\n",
      "  File \"C:\\Program Files\\WindowsApps\\PythonSoftwareFoundation.Python.3.11_3.11.2544.0_x64__qbz5n2kfra8p0\\Lib\\tkinter\\__init__.py\", line 1967, in __call__\n",
      "    return self.func(*args)\n",
      "           ^^^^^^^^^^^^^^^^\n",
      "  File \"C:\\Users\\meduarda\\AppData\\Local\\Temp\\ipykernel_12748\\1600990913.py\", line 7, in escolhe_arquivo\n",
      "    exibe_grafico(caminho_do_arquivo)\n",
      "  File \"C:\\Users\\meduarda\\AppData\\Local\\Temp\\ipykernel_12748\\2301394254.py\", line 8, in exibe_grafico\n",
      "    frame_grafico.clear()\n",
      "    ^^^^^^^^^^^^^^^^^^^\n",
      "AttributeError: 'Frame' object has no attribute 'clear'\n"
     ]
    },
    {
     "ename": "KeyboardInterrupt",
     "evalue": "",
     "output_type": "error",
     "traceback": [
      "\u001b[1;31m---------------------------------------------------------------------------\u001b[0m",
      "\u001b[1;31mKeyboardInterrupt\u001b[0m                         Traceback (most recent call last)",
      "Cell \u001b[1;32mIn[40], line 1\u001b[0m\n\u001b[1;32m----> 1\u001b[0m \u001b[43mraiz\u001b[49m\u001b[38;5;241;43m.\u001b[39;49m\u001b[43mmainloop\u001b[49m\u001b[43m(\u001b[49m\u001b[43m)\u001b[49m\n",
      "File \u001b[1;32mC:\\Program Files\\WindowsApps\\PythonSoftwareFoundation.Python.3.11_3.11.2544.0_x64__qbz5n2kfra8p0\\Lib\\tkinter\\__init__.py:1504\u001b[0m, in \u001b[0;36mMisc.mainloop\u001b[1;34m(self, n)\u001b[0m\n\u001b[0;32m   1502\u001b[0m \u001b[38;5;28;01mdef\u001b[39;00m \u001b[38;5;21mmainloop\u001b[39m(\u001b[38;5;28mself\u001b[39m, n\u001b[38;5;241m=\u001b[39m\u001b[38;5;241m0\u001b[39m):\n\u001b[0;32m   1503\u001b[0m \u001b[38;5;250m    \u001b[39m\u001b[38;5;124;03m\"\"\"Call the mainloop of Tk.\"\"\"\u001b[39;00m\n\u001b[1;32m-> 1504\u001b[0m     \u001b[38;5;28;43mself\u001b[39;49m\u001b[38;5;241;43m.\u001b[39;49m\u001b[43mtk\u001b[49m\u001b[38;5;241;43m.\u001b[39;49m\u001b[43mmainloop\u001b[49m\u001b[43m(\u001b[49m\u001b[43mn\u001b[49m\u001b[43m)\u001b[49m\n",
      "\u001b[1;31mKeyboardInterrupt\u001b[0m: "
     ]
    },
    {
     "ename": "",
     "evalue": "",
     "output_type": "error",
     "traceback": [
      "\u001b[1;31mO Kernel deu pane ao executar o código na célula atual ou em uma célula anterior. \n",
      "\u001b[1;31mAnalise o código nas células para identificar uma possível causa da pane. \n",
      "\u001b[1;31mClique <a href='https://aka.ms/vscodeJupyterKernelCrash'>aqui</a> para obter mais informações. \n",
      "\u001b[1;31mConsulte Jupyter <a href='command:jupyter.viewOutput'>log</a> para obter mais detalhes."
     ]
    }
   ],
   "source": [
    "raiz.mainloop()"
   ]
  }
 ],
 "metadata": {
  "kernelspec": {
   "display_name": "Python 3",
   "language": "python",
   "name": "python3"
  },
  "language_info": {
   "codemirror_mode": {
    "name": "ipython",
    "version": 3
   },
   "file_extension": ".py",
   "mimetype": "text/x-python",
   "name": "python",
   "nbconvert_exporter": "python",
   "pygments_lexer": "ipython3",
   "version": "3.12.3"
  }
 },
 "nbformat": 4,
 "nbformat_minor": 2
}
