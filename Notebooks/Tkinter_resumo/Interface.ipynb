{
 "cells": [
  {
   "cell_type": "code",
   "execution_count": 127,
   "metadata": {},
   "outputs": [],
   "source": [
    "from tkinter import *\n",
    "import tkinter as tk\n",
    "from tkinter.filedialog import askopenfilename\n",
    "from pm4py.visualization.dfg import visualizer as pn_visualizer\n",
    "from PIL import Image, ImageTk\n",
    "import pm4py\n",
    "import pandas as pd\n"
   ]
  },
  {
   "cell_type": "markdown",
   "metadata": {},
   "source": [
    "### função que printa o caminho "
   ]
  },
  {
   "cell_type": "code",
   "execution_count": 128,
   "metadata": {},
   "outputs": [],
   "source": [
    "def escolhe_arquivo():\n",
    "    caminho_do_arquivo = askopenfilename(filetypes=[(\"Arquivo CSV\", \"*.csv\"), (\"Arquivo Excel\", \"*xlsx\"), ('só para testes PNG', '*.png')])\n",
    "    if caminho_do_arquivo:\n",
    "        \n",
    "        label_arquivo.config(text=f\"Arquivo selecionado: {caminho_do_arquivo}\") # Calma é pra não estar definido msm\n",
    "        #Mudar a chama dessa função quando for criar a função que trata os dados\n",
    "        cria_grafo_dfg(caminho_do_arquivo)"
   ]
  },
  {
   "cell_type": "code",
   "execution_count": 129,
   "metadata": {},
   "outputs": [],
   "source": [
    "def cria_grafo_dfg(caminho):\n",
    "    #Botar uma condição para identificar o tipo do arq, se nn for xlsx vai dar problema\n",
    "\n",
    "    # log = pm4py.format_dataframe(pd.read_excel(caminho), case_id='ID', activity_key='activity', timestamp_key='timestamp') # depois arrumar um jeito de o usuario selecionar as colunas case_id activity_key e timestamp_key\n",
    "    log = pd.read_excel(caminho)\n",
    "\n",
    "    log['ID'] = log['ID'].astype(str)\n",
    "\n",
    "    dfg, start_activities, end_activities = pm4py.discover_dfg(log,case_id_key='ID', activity_key='Ocorrência', timestamp_key='Início')\n",
    "\n",
    "    grafo = pn_visualizer.apply(dfg, start_activities, end_activities)\n",
    "    pn_visualizer.save(grafo, \"Notebooks\\\\Tkinter_resumo\\\\dfg.png\")\n",
    "\n",
    "    \n",
    "\n",
    "    exibe_grafico(\"Notebooks\\\\Tkinter_resumo\\\\dfg.png\")"
   ]
  },
  {
   "cell_type": "markdown",
   "metadata": {},
   "source": [
    "### Função que vai plotar os gráficos"
   ]
  },
  {
   "cell_type": "code",
   "execution_count": 130,
   "metadata": {},
   "outputs": [],
   "source": [
    "def exibe_grafico(caminho):\n",
    "    \n",
    "    imagem_grafico = PhotoImage(file=caminho, master=frame_grafico)\n",
    "    imagem_grafico = imagem_grafico.subsample(1,1)\n",
    "    fig_grafico = Label(frame_grafico, image=imagem_grafico)\n",
    "    fig_grafico.image = imagem_grafico\n",
    "    fig_grafico.pack()"
   ]
  },
  {
   "cell_type": "markdown",
   "metadata": {},
   "source": [
    "### INSTANCIANDO A JANELA"
   ]
  },
  {
   "cell_type": "code",
   "execution_count": 131,
   "metadata": {},
   "outputs": [
    {
     "data": {
      "text/plain": [
       "''"
      ]
     },
     "execution_count": 131,
     "metadata": {},
     "output_type": "execute_result"
    }
   ],
   "source": [
    "raiz = Tk(className='Primeira janela de teste para a interface')\n",
    "raiz.geometry('960x540')"
   ]
  },
  {
   "cell_type": "markdown",
   "metadata": {},
   "source": [
    "### Criando o frame de seleção de arquivos"
   ]
  },
  {
   "cell_type": "code",
   "execution_count": 132,
   "metadata": {},
   "outputs": [],
   "source": [
    "frame1 = Frame(raiz) #bg=\"blue\"\n",
    "frame1.pack(side='top',fill=tk.BOTH)"
   ]
  },
  {
   "cell_type": "markdown",
   "metadata": {},
   "source": [
    "### Botão de seleção de arquivos ###"
   ]
  },
  {
   "cell_type": "code",
   "execution_count": 133,
   "metadata": {},
   "outputs": [],
   "source": [
    "arq = PhotoImage(file='iconArq.png', master=frame1)\n",
    "arq = arq.subsample(2,2)\n",
    "fig1 = Label(frame1, image=arq)\n",
    "fig1.image = arq\n",
    "\n",
    "botao = Button(frame1, image=arq, command=escolhe_arquivo, bd=0, highlightthickness=0, bg= 'green')\n",
    "botao.pack()\n",
    "\n",
    "label_arquivo = Label(frame1, text=\"Nenhum arquivo selecionado\")\n",
    "label_arquivo.pack(pady=10)"
   ]
  },
  {
   "cell_type": "markdown",
   "metadata": {},
   "source": [
    "### Criando o frame Lateral"
   ]
  },
  {
   "cell_type": "code",
   "execution_count": 134,
   "metadata": {},
   "outputs": [],
   "source": [
    "# def on_scroll(*args):\n",
    "#     canvas.yview(*args)\n",
    "\n",
    "\n",
    "frame_lateral = Frame(raiz)\n",
    "frame_lateral.pack(side = 'right',pady=20, fill=tk.BOTH)\n",
    "\n",
    "# Criando A lable na lateral direita\n",
    "lable_direita = Label(frame_lateral, text=\"lateral esquerda\", padx=40, pady=10, borderwidth=2, relief=\"solid\")\n",
    "lable_direita.pack(fill=tk.Y, expand=True)\n",
    "\n",
    "\n",
    "\n",
    "\n",
    "# scale = tk.Scrollbar(frame_lateral, orient=tk.VERTICAL)\n",
    "# scale.pack()\n",
    "\n"
   ]
  },
  {
   "cell_type": "markdown",
   "metadata": {},
   "source": [
    "### frame do grafico"
   ]
  },
  {
   "cell_type": "code",
   "execution_count": 135,
   "metadata": {},
   "outputs": [],
   "source": [
    "frame_grafico = Frame(raiz)\n",
    "\n",
    "frame_grafico.pack()"
   ]
  },
  {
   "cell_type": "markdown",
   "metadata": {},
   "source": [
    "### LOOPING DA JANELA PRINCIPAL"
   ]
  },
  {
   "cell_type": "code",
   "execution_count": 136,
   "metadata": {},
   "outputs": [
    {
     "name": "stderr",
     "output_type": "stream",
     "text": [
      "Exception in Tkinter callback\n",
      "Traceback (most recent call last):\n",
      "  File \"C:\\Program Files\\WindowsApps\\PythonSoftwareFoundation.Python.3.11_3.11.2544.0_x64__qbz5n2kfra8p0\\Lib\\tkinter\\__init__.py\", line 1967, in __call__\n",
      "    return self.func(*args)\n",
      "           ^^^^^^^^^^^^^^^^\n",
      "  File \"C:\\Users\\meduarda\\AppData\\Local\\Temp\\ipykernel_21168\\242635910.py\", line 7, in escolhe_arquivo\n",
      "    cria_grafo_dfg(caminho_do_arquivo)\n",
      "  File \"C:\\Users\\meduarda\\AppData\\Local\\Temp\\ipykernel_21168\\1131521801.py\", line 9, in cria_grafo_dfg\n",
      "    dfg, start_activities, end_activities = pm4py.discover_dfg(log,case_id_key='ID', activity_key='Ocorrência', timestamp_key='Início')\n",
      "                                            ^^^^^^^^^^^^^^^^^^^^^^^^^^^^^^^^^^^^^^^^^^^^^^^^^^^^^^^^^^^^^^^^^^^^^^^^^^^^^^^^^^^^^^^^^^^\n",
      "  File \"C:\\Users\\meduarda\\AppData\\Local\\Packages\\PythonSoftwareFoundation.Python.3.11_qbz5n2kfra8p0\\LocalCache\\local-packages\\Python311\\site-packages\\pm4py\\discovery.py\", line 71, in discover_dfg\n",
      "    check_pandas_dataframe_columns(\n",
      "  File \"C:\\Users\\meduarda\\AppData\\Local\\Packages\\PythonSoftwareFoundation.Python.3.11_qbz5n2kfra8p0\\LocalCache\\local-packages\\Python311\\site-packages\\pm4py\\util\\pandas_utils.py\", line 396, in check_pandas_dataframe_columns\n",
      "    raise Exception(\"the timestamp column should not contain any empty value.\")\n",
      "Exception: the timestamp column should not contain any empty value.\n"
     ]
    }
   ],
   "source": [
    "raiz.mainloop()"
   ]
  }
 ],
 "metadata": {
  "kernelspec": {
   "display_name": "Python 3",
   "language": "python",
   "name": "python3"
  },
  "language_info": {
   "codemirror_mode": {
    "name": "ipython",
    "version": 3
   },
   "file_extension": ".py",
   "mimetype": "text/x-python",
   "name": "python",
   "nbconvert_exporter": "python",
   "pygments_lexer": "ipython3",
   "version": "3.12.3"
  }
 },
 "nbformat": 4,
 "nbformat_minor": 2
}
