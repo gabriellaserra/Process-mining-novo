{
 "cells": [
  {
   "cell_type": "code",
   "execution_count": 41,
   "metadata": {},
   "outputs": [],
   "source": [
    "from tkinter import * \n",
    "import tkinter as tk\n",
    "from PIL import Image, ImageTk\n",
    "# from tkinter import Entry"
   ]
  },
  {
   "cell_type": "code",
   "execution_count": 22,
   "metadata": {},
   "outputs": [],
   "source": [
    "# Teste\n",
    "\n",
    "janela = Tk('teste Janela', baseName= 'acho que é a base', className= 'é o nome no header da janela')\n",
    "janela.configure()\n",
    "\n",
    "\n",
    "janela.mainloop()"
   ]
  },
  {
   "cell_type": "code",
   "execution_count": 49,
   "metadata": {},
   "outputs": [],
   "source": [
    "\n",
    "\n",
    "# Em OO\n",
    "\n",
    "class Janela:\n",
    "    def __init__(self, instancia_tk):\n",
    "        # Posso criar frames, botoes e qualquer widget aqui do objeto Janela aqui\n",
    "        self.frame1 = Frame(instancia_tk, background='blue', width=1000)\n",
    "        self.frame1.pack()\n",
    "\n",
    "        self.botao = Button(self.frame1, text= 'primeiro botão', background='red', font=('arial','12', 'italic'))\n",
    "        self.botao2 = Button(self.frame1, text= 'segundo botão',width=20 ,background='green', font=('arial','12', 'italic'), fg='white')\n",
    "\n",
    "        self.botao.pack(side=LEFT) #não definir mais de 1 posicionamento de widget no mesmo frame, da problema no redimencionamento\n",
    "        self.botao2.pack()\n",
    "        # Tipos de widgets\n",
    "        \n",
    "\n",
    "class Packing:\n",
    "    def __init__(self, instancia_Tk):\n",
    "        # definindo frames\n",
    "        self.container1=Frame(instancia_Tk)\n",
    "        self.container2=Frame(instancia_Tk)\n",
    "        self.container3=Frame(instancia_Tk)\n",
    "        \n",
    "       \n",
    "\n",
    "        '''testes'''\n",
    "        # plotando frames\n",
    "        # self.container1.pack(side= BOTTOM)\n",
    "        # self.container2.pack(side= BOTTOM)\n",
    "        # self.container3.pack(side= BOTTOM)# permanecem em baixo com o redimencionamento da janela\n",
    "\n",
    "        # definindo botoes\n",
    "        # Button(self.container1,text='B1').pack()\n",
    "        # Button(self.container2,text='B2').pack(side=LEFT)\n",
    "        # Button(self.container2,text='B3').pack(side=LEFT)\n",
    "\n",
    "        # self.b4=Button(self.container3,text='B4')\n",
    "        # self.b5=Button(self.container3,text='B5')\n",
    "        # self.b6=Button(self.container3,text='B6')\n",
    "        # self.b6.pack(side=RIGHT)\n",
    "        # self.b4.pack(side=RIGHT)\n",
    "        # self.b5.pack(side=RIGHT)\n",
    "\n",
    "        self.menu = Menu(instancia_Tk)\n",
    "    \n",
    "    \n",
    "\n",
    "\n",
    "# raiz = Tk(className= 'é o nome no header da janela')\n",
    "# Janela(raiz)\n",
    "# raiz.mainloop()\n",
    "\n",
    "raiz = Tk(className= 'é o nome no header da janela')\n",
    "raiz.geometry('1366x768')\n",
    "# raiz.iconbitmap() # Define o ícone da janela.\n",
    "Packing(raiz)\n",
    "raiz.mainloop()\n",
    "\n"
   ]
  },
  {
   "cell_type": "code",
   "execution_count": 79,
   "metadata": {},
   "outputs": [],
   "source": [
    "def abrir_imagem():\n",
    "     #### INSERINDO IMAGENS ####\n",
    "        # Carregar imagem com PIL\n",
    "        imagem_pil = Image.open('OnePiece.jpg')\n",
    "        # imagem = imagem.subsample(2,2)\n",
    "        # Converter imagem PIL para o formato suportado pelo Tkinter\n",
    "        imagem = ImageTk.PhotoImage(imagem_pil)\n",
    "        \n",
    "        janela_imagem = tk.Toplevel(root)\n",
    "        janela_imagem.title(\"Imagem\")\n",
    "        \n",
    "        graficos = tk.Label(janela_imagem, image = imagem)\n",
    "        graficos.pack()\n",
    "\n",
    "        graficos.image = imagem\n",
    "\n",
    "root = tk.Tk()\n",
    "root.title(\"Abrir Imagem\")\n",
    "botao_abrir = tk.Button(root, text=\"Abrir Imagem\", command=abrir_imagem)\n",
    "botao_abrir.pack()\n",
    "root.mainloop()"
   ]
  },
  {
   "cell_type": "code",
   "execution_count": 73,
   "metadata": {},
   "outputs": [],
   "source": [
    "root = tk.Tk()\n",
    "entrada = Entry(root)\n",
    "entrada.pack()\n",
    "texto = entrada.get()\n",
    "\n",
    "root.mainloop()"
   ]
  },
  {
   "cell_type": "code",
   "execution_count": 75,
   "metadata": {},
   "outputs": [
    {
     "data": {
      "text/plain": [
       "''"
      ]
     },
     "execution_count": 75,
     "metadata": {},
     "output_type": "execute_result"
    }
   ],
   "source": [
    "texto\n",
    "\n"
   ]
  },
  {
   "cell_type": "code",
   "execution_count": 59,
   "metadata": {},
   "outputs": [],
   "source": [
    "def tratar_enter(event):\n",
    "    texto_digitado = entrada.get()\n",
    "    etiqueta = Label(root, text=texto_digitado)\n",
    "    etiqueta.pack()\n",
    "    \n",
    "\n",
    "root = Tk()\n",
    "entrada = Entry(root)\n",
    "entrada.pack()\n",
    "\n",
    "entrada.bind(\"<Return>\", tratar_enter)\n",
    "root.mainloop()"
   ]
  }
 ],
 "metadata": {
  "kernelspec": {
   "display_name": "Python 3",
   "language": "python",
   "name": "python3"
  },
  "language_info": {
   "codemirror_mode": {
    "name": "ipython",
    "version": 3
   },
   "file_extension": ".py",
   "mimetype": "text/x-python",
   "name": "python",
   "nbconvert_exporter": "python",
   "pygments_lexer": "ipython3",
   "version": "3.11.9"
  }
 },
 "nbformat": 4,
 "nbformat_minor": 2
}
