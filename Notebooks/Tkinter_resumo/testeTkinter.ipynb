{
 "cells": [
  {
   "cell_type": "code",
   "execution_count": 8,
   "metadata": {},
   "outputs": [],
   "source": [
    "from tkinter import *\n",
    "import tkinter as tk\n",
    "from tkinter.filedialog import askopenfilename\n",
    "import customtkinter as s\n",
    "import os\n",
    "from PIL import Image, ImageTk\n",
    "import pm4py\n",
    "from pm4py.objects.petri_net.importer import importer as pmnl_importer\n",
    "import pandas as pd\n"
   ]
  },
  {
   "cell_type": "markdown",
   "metadata": {},
   "source": [
    "### Em OO"
   ]
  },
  {
   "cell_type": "code",
   "execution_count": 9,
   "metadata": {},
   "outputs": [],
   "source": [
    "class Janela:\n",
    "    def __init__(self, instancia_tk):\n",
    "        # Posso criar frames, botoes e qualquer widget aqui do objeto Janela aqui\n",
    "        self.frameGraf = s.CTkFrame(instancia_tk, background='blue', width=1000)\n",
    "        self.frameGraf.pack()\n",
    "\n",
    "        self.botao = Button(self.frame1, text= 'primeiro botão', background='red', font=('arial','12', 'italic'))\n",
    "        self.botao2 = Button(self.frame1, text= 'segundo botão',width=20 ,background='green', font=('arial','12', 'italic'), fg='white')\n",
    "\n",
    "        self.botao.pack(side=LEFT) #não definir mais de 1 posicionamento de widget no mesmo frame, da problema no redimencionamento\n",
    "        self.botao2.pack()\n",
    "        # Tipos de widgets\n",
    "        \n",
    "\n",
    "class Packing:\n",
    "    def __init__(self, instancia_Tk):\n",
    "        # definindo frames\n",
    "        self.container1=Frame(instancia_Tk)\n",
    "        self.container2=Frame(instancia_Tk)\n",
    "        self.container3=Frame(instancia_Tk)\n",
    "        \n",
    "       \n",
    "\n",
    "        '''testes'''\n",
    "        # plotando frames\n",
    "        # self.container1.pack(side= BOTTOM)\n",
    "        # self.container2.pack(side= BOTTOM)\n",
    "        # self.container3.pack(side= BOTTOM)# permanecem em baixo com o redimencionamento da janela\n",
    "\n",
    "        # definindo botoes\n",
    "        # Button(self.container1,text='B1').pack()\n",
    "        # Button(self.container2,text='B2').pack(side=LEFT)\n",
    "        # Button(self.container2,text='B3').pack(side=LEFT)\n",
    "\n",
    "        # self.b4=Button(self.container3,text='B4')\n",
    "        # self.b5=Button(self.container3,text='B5')\n",
    "        # self.b6=Button(self.container3,text='B6')\n",
    "        # self.b6.pack(side=RIGHT)\n",
    "        # self.b4.pack(side=RIGHT)\n",
    "        # self.b5.pack(side=RIGHT)\n",
    "\n",
    "        self.menu = Menu(instancia_Tk)\n",
    "    \n",
    "    \n",
    "\n",
    "\n",
    "# raiz = Tk(className= 'é o nome no header da janela')\n",
    "# Janela(raiz)\n",
    "# raiz.mainloop()\n",
    "\n",
    "raiz = Tk(className= 'é o nome no header da janela')\n",
    "raiz.geometry('1366x768')\n",
    "# raiz.iconbitmap() # Define o ícone da janela.\n",
    "Packing(raiz)\n",
    "raiz.mainloop()\n",
    "\n"
   ]
  },
  {
   "cell_type": "code",
   "execution_count": 10,
   "metadata": {},
   "outputs": [
    {
     "ename": "KeyboardInterrupt",
     "evalue": "",
     "output_type": "error",
     "traceback": [
      "\u001b[1;31m---------------------------------------------------------------------------\u001b[0m",
      "\u001b[1;31mKeyboardInterrupt\u001b[0m                         Traceback (most recent call last)",
      "Cell \u001b[1;32mIn[10], line 21\u001b[0m\n\u001b[0;32m     19\u001b[0m botao_abrir \u001b[38;5;241m=\u001b[39m tk\u001b[38;5;241m.\u001b[39mButton(root, text\u001b[38;5;241m=\u001b[39m\u001b[38;5;124m\"\u001b[39m\u001b[38;5;124mAbrir Imagem\u001b[39m\u001b[38;5;124m\"\u001b[39m, command\u001b[38;5;241m=\u001b[39mabrir_imagem)\n\u001b[0;32m     20\u001b[0m botao_abrir\u001b[38;5;241m.\u001b[39mpack()\n\u001b[1;32m---> 21\u001b[0m \u001b[43mroot\u001b[49m\u001b[38;5;241;43m.\u001b[39;49m\u001b[43mmainloop\u001b[49m\u001b[43m(\u001b[49m\u001b[43m)\u001b[49m\n",
      "File \u001b[1;32mC:\\Program Files\\WindowsApps\\PythonSoftwareFoundation.Python.3.11_3.11.2544.0_x64__qbz5n2kfra8p0\\Lib\\tkinter\\__init__.py:1504\u001b[0m, in \u001b[0;36mMisc.mainloop\u001b[1;34m(self, n)\u001b[0m\n\u001b[0;32m   1502\u001b[0m \u001b[38;5;28;01mdef\u001b[39;00m \u001b[38;5;21mmainloop\u001b[39m(\u001b[38;5;28mself\u001b[39m, n\u001b[38;5;241m=\u001b[39m\u001b[38;5;241m0\u001b[39m):\n\u001b[0;32m   1503\u001b[0m \u001b[38;5;250m    \u001b[39m\u001b[38;5;124;03m\"\"\"Call the mainloop of Tk.\"\"\"\u001b[39;00m\n\u001b[1;32m-> 1504\u001b[0m     \u001b[38;5;28;43mself\u001b[39;49m\u001b[38;5;241;43m.\u001b[39;49m\u001b[43mtk\u001b[49m\u001b[38;5;241;43m.\u001b[39;49m\u001b[43mmainloop\u001b[49m\u001b[43m(\u001b[49m\u001b[43mn\u001b[49m\u001b[43m)\u001b[49m\n",
      "\u001b[1;31mKeyboardInterrupt\u001b[0m: "
     ]
    }
   ],
   "source": [
    "def abrir_imagem():\n",
    "     #### INSERINDO IMAGENS ####\n",
    "        # Carregar imagem com PIL\n",
    "        imagem_pil = Image.open('OnePiece.jpg')\n",
    "        # imagem = imagem.subsample(2,2)\n",
    "        # Converter imagem PIL para o formato suportado pelo Tkinter\n",
    "        imagem = ImageTk.PhotoImage(imagem_pil)\n",
    "        \n",
    "        janela_imagem = tk.Toplevel(root)\n",
    "        janela_imagem.title(\"Imagem\")\n",
    "        \n",
    "        graficos = tk.Label(janela_imagem, image = imagem)\n",
    "        graficos.pack()\n",
    "\n",
    "        graficos.image = imagem\n",
    "\n",
    "root = tk.Tk()\n",
    "root.title(\"Abrir Imagem\")\n",
    "botao_abrir = tk.Button(root, text=\"Abrir Imagem\", command=abrir_imagem)\n",
    "botao_abrir.pack()\n",
    "root.mainloop()"
   ]
  },
  {
   "cell_type": "code",
   "execution_count": null,
   "metadata": {},
   "outputs": [],
   "source": [
    "root = tk.Tk()\n",
    "entrada = Entry(root)\n",
    "entrada.pack()\n",
    "texto = entrada.get()\n",
    "\n",
    "root.mainloop()"
   ]
  },
  {
   "cell_type": "code",
   "execution_count": null,
   "metadata": {},
   "outputs": [
    {
     "data": {
      "text/plain": [
       "''"
      ]
     },
     "execution_count": 5,
     "metadata": {},
     "output_type": "execute_result"
    }
   ],
   "source": [
    "texto\n",
    "\n"
   ]
  },
  {
   "cell_type": "code",
   "execution_count": null,
   "metadata": {},
   "outputs": [],
   "source": [
    "def tratar_enter(event):\n",
    "    texto_digitado = entrada.get()\n",
    "    etiqueta = Label(root, text=texto_digitado)\n",
    "    etiqueta.pack()\n",
    "    \n",
    "\n",
    "root = Tk()\n",
    "entrada = Entry(root)\n",
    "entrada.pack()\n",
    "\n",
    "entrada.bind(\"<Return>\", tratar_enter)\n",
    "root.mainloop()"
   ]
  },
  {
   "cell_type": "markdown",
   "metadata": {},
   "source": [
    "### tentei faze um listbox como do disco para selecionr os tipos de visualização"
   ]
  },
  {
   "cell_type": "code",
   "execution_count": null,
   "metadata": {},
   "outputs": [
    {
     "ename": "IndentationError",
     "evalue": "expected an indented block after function definition on line 18 (2256039172.py, line 20)",
     "output_type": "error",
     "traceback": [
      "\u001b[1;36m  Cell \u001b[1;32mIn[7], line 20\u001b[1;36m\u001b[0m\n\u001b[1;33m    indice_selecionado = self.listFrequency.curselection()\u001b[0m\n\u001b[1;37m    ^\u001b[0m\n\u001b[1;31mIndentationError\u001b[0m\u001b[1;31m:\u001b[0m expected an indented block after function definition on line 18\n"
     ]
    }
   ],
   "source": [
    "# class Janela:\n",
    "#     def __init__(self, instancia_tk):\n",
    "        \n",
    "#         self.frame_principal = Frame(instancia_tk, background='blue', width=1000)\n",
    "#         self.listFrequency = Listbox(instancia_tk)\n",
    "#         self.listFrequency.pack()\n",
    "#         self.frame_principal.pack()\n",
    "\n",
    "#         itens = [\"Item 1\", \"Item 2\", \"Item 3\", \"Item 4\"]\n",
    "#         for item in itens:\n",
    "#             self.listFrequency.insert(tk.END, item)\n",
    "        \n",
    "#     def mostrar_selecionado(self):\n",
    "#     # Obter o índice do item selecionado\n",
    "#     indice_selecionado = self.listFrequency.curselection()\n",
    "#     # Se algum item estiver selecionado\n",
    "#     if indice_selecionado:\n",
    "#         # Obter o valor do item selecionado\n",
    "#         valor_selecionado = self.listFrequency.get(indice_selecionado)\n",
    "#         # Exibir o valor selecionado\n",
    "#         label_valor_selecionado.config(text=f\"Item selecionado: {valor_selecionado}\")\n",
    "#     else:\n",
    "#         label_valor_selecionado.config(text=\"Nenhum item selecionado\")"
   ]
  }
 ],
 "metadata": {
  "kernelspec": {
   "display_name": "Python 3",
   "language": "python",
   "name": "python3"
  },
  "language_info": {
   "codemirror_mode": {
    "name": "ipython",
    "version": 3
   },
   "file_extension": ".py",
   "mimetype": "text/x-python",
   "name": "python",
   "nbconvert_exporter": "python",
   "pygments_lexer": "ipython3",
   "version": "3.11.9"
  }
 },
 "nbformat": 4,
 "nbformat_minor": 2
}
