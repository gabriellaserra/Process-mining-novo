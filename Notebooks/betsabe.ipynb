{
 "cells": [
  {
   "cell_type": "code",
   "execution_count": 11,
   "metadata": {},
   "outputs": [
    {
     "name": "stdout",
     "output_type": "stream",
     "text": [
      "Number of events: 42\n",
      "Number of cases: 6\n"
     ]
    }
   ],
   "source": [
    "import pandas\n",
    "\n",
    "def import_csv(file_path):\n",
    "    event_log = pandas.read_csv(file_path, sep=';')\n",
    "    num_events = len(event_log) # numero de eventos (fases que a pessoa vai passar)\n",
    "    num_cases = len(event_log.case_id.unique()) # numero de casos (numero de pessoas)\n",
    "    print(\"Number of events: {}\\nNumber of cases: {}\".format(num_events, num_cases))\n",
    "\n",
    "\n",
    "if __name__ == \"__main__\":\n",
    "    import_csv(\"Y:\\\\git\\\\process ming\\\\grupo-2\\\\Bases_de_Dados\\\\running-example.csv\")\n"
   ]
  },
  {
   "cell_type": "code",
   "execution_count": 13,
   "metadata": {},
   "outputs": [
    {
     "name": "stdout",
     "output_type": "stream",
     "text": [
      "Start activities: {'register request': 6}\n",
      "End activities: {'reject request': 3, 'pay compensation': 3}\n"
     ]
    }
   ],
   "source": [
    "import pandas\n",
    "import pm4py\n",
    "\n",
    "\n",
    "def import_csv(file_path):\n",
    "    event_log = pandas.read_csv(file_path, sep=';') # carregamento do log de eventos\n",
    "    event_log = pm4py.format_dataframe(event_log, case_id='case_id', activity_key='activity', timestamp_key='timestamp')\n",
    "    # ^transforma a tabela de dados de eventos em um formato que pode ser usado por qualquer algoritmo de mineração de processos em pm4py\n",
    "    # ^cria uma cópia do log de eventos de entrada e renomeia as colunas atribuídas para nomes de colunas padronizados usados ​​em pm4py\n",
    "    start_activities = pm4py.get_start_activities(event_log) # pega as atividades que ocorrem primeiro no log de eventos\n",
    "    end_activities = pm4py.get_end_activities(event_log) # pega as atividades que ocorrem por último no log de eventos\n",
    "    print(\"Start activities: {}\\nEnd activities: {}\".format(start_activities, end_activities))\n",
    "\n",
    "if __name__ == \"__main__\":\n",
    "    import_csv(\"Y:\\\\git\\\\process ming\\\\grupo-2\\\\Bases_de_Dados\\\\running-example.csv\")"
   ]
  },
  {
   "cell_type": "code",
   "execution_count": null,
   "metadata": {},
   "outputs": [],
   "source": [
    "# exemplo de importação de arquivos .xes\n",
    "import pm4py\n",
    "def import_xes(file_path):\n",
    "    event_log = pm4py.read_xes(file_path)\n",
    "    start_activities = pm4py.get_start_activities(event_log) # pega as atividades que ocorrem primeiro no log de eventos\n",
    "    end_activities = pm4py.get_end_activities(event_log) # pega as atividades que ocorrem por último no log de eventos\n",
    "    print(\"Start activities: {}\\nEnd activities: {}\".format(start_activities, end_activities))\n",
    "\n",
    "if __name__ == \"__main__\":\n",
    "    import_xes(\"C:/Users/demo/Downloads/running-example.xes\")"
   ]
  },
  {
   "cell_type": "code",
   "execution_count": null,
   "metadata": {},
   "outputs": [],
   "source": [
    "# armazenando um quadro de dados (log de eventos) do Pandas como um arquivo csv\n",
    "import pandas as pd\n",
    "import pm4py\n",
    "\n",
    "if __name__ == \"__main__\":\n",
    "    event_log = pm4py.format_dataframe(pd.read_csv('C:/Users/demo/Downloads/running-example.csv', sep=';'), case_id='case_id',\n",
    "    activity_key='activity', timestamp_key='timestamp') # lendo um quadro de dados do panda\n",
    "    event_log.to_csv('C:/Users/demo/Desktop/running-example-exported.csv') # convertendo para um arquivo csv"
   ]
  },
  {
   "cell_type": "code",
   "execution_count": null,
   "metadata": {},
   "outputs": [],
   "source": [
    "import pm4py\n",
    "\n",
    "if __name__ == \"__main__\":\n",
    "    event_log = pm4py.read_xes('C:/Users/demo/Downloads/running-example.xes') # arquivo XES que será exportado\n",
    "    df = pm4py.convert_to_dataframe(event_log) # convertendo as informações lidas para um quadro de dados\n",
    "    df.to_csv('C:/Users/demo/Desktop/running-example-exported.csv') # arquivo CSV que vai receber a importação \n"
   ]
  },
  {
   "cell_type": "code",
   "execution_count": 22,
   "metadata": {},
   "outputs": [
    {
     "name": "stderr",
     "output_type": "stream",
     "text": [
      "parsing log, completed traces :: 100%|██████████| 6/6 [00:00<00:00, 5247.25it/s]"
     ]
    },
    {
     "name": "stdout",
     "output_type": "stream",
     "text": [
      "Start activities: {'register request': 6}\n",
      "End activities: {'reject request': 3, 'pay compensation': 3}\n"
     ]
    },
    {
     "name": "stderr",
     "output_type": "stream",
     "text": [
      "\n"
     ]
    }
   ],
   "source": [
    "# carregando um arquivo .xes\n",
    "def import_xes(file_path):\n",
    "    event_log = pm4py.read_xes(file_path)\n",
    "    start_activities = pm4py.get_start_activities(event_log)\n",
    "    end_activities = pm4py.get_end_activities(event_log)\n",
    "    print(\"Start activities: {}\\nEnd activities: {}\".format(start_activities, end_activities))\n",
    "\n",
    "if __name__ == \"__main__\":\n",
    "    import_xes(\"Y:\\\\git\\\\process ming\\\\grupo-2\\\\Bases_de_Dados\\\\running-example.xes\")"
   ]
  },
  {
   "cell_type": "code",
   "execution_count": 26,
   "metadata": {},
   "outputs": [
    {
     "name": "stderr",
     "output_type": "stream",
     "text": [
      "parsing log, completed traces :: 100%|██████████| 6/6 [00:00<00:00, 4895.12it/s]"
     ]
    },
    {
     "name": "stderr",
     "output_type": "stream",
     "text": [
      "\n"
     ]
    }
   ],
   "source": [
    "# testando filtros, usando arquivos .xes\n",
    "import pm4py\n",
    "import datetime as dt\n",
    "\n",
    "if __name__ == \"__main__\":\n",
    "    log = pm4py.read_xes('Y:\\\\git\\\\process ming\\\\grupo-2\\\\Bases_de_Dados\\\\running-example.xes')\n",
    "\n",
    "    # filtra as atividades que ocorrem no começo de um rastreamento\n",
    "    filtered = pm4py.filter_start_activities(log, {'register request'})\n",
    "\n",
    "    \n",
    "    filtered = pm4py.filter_start_activities(log, {'register request TYPO!'})\n",
    "\n",
    "    # filtra as atividades que ocorrem no final de um rastreamento\n",
    "    filtered = pm4py.filter_end_activities(log, {'pay compensation'})\n",
    "\n",
    "    filtered = pm4py.filter_event_attribute_values(log, 'org:resource', {'Pete', 'Mike'})\n",
    "\n",
    "    filtered = pm4py.filter_event_attribute_values(log, 'org:resource', {'Pete', 'Mike'}, level='event')\n",
    "\n",
    "    filtered = pm4py.filter_trace_attribute_values(log, 'concept:name', {'3', '4'})\n",
    "\n",
    "    filtered = pm4py.filter_trace_attribute_values(log, 'concept:name', {'3', '4'}, retain=False)\n",
    "\n",
    "    filtered = pm4py.filter_variants(log, [\n",
    "        ['register request', 'check ticket', 'examine casually', 'decide', 'pay compensation']])\n",
    "\n",
    "    filtered = pm4py.filter_variants(log, [\n",
    "        ['register request', 'check ticket', 'examine casually', 'decide', 'reject request']])\n",
    "\n",
    "    filtered = pm4py.filter_directly_follows_relation(log, [('check ticket', 'examine casually')])\n",
    "\n",
    "    filtered = pm4py.filter_eventually_follows_relation(log, [('examine casually', 'reject request')])\n",
    "\n",
    "    filtered = pm4py.filter_time_range(log, dt.datetime(2010, 12, 30), dt.datetime(2010, 12, 31), mode='events')\n",
    "\n",
    "    filtered = pm4py.filter_time_range(log, dt.datetime(2010, 12, 30), dt.datetime(2010, 12, 31),\n",
    "                                       mode='traces_contained')\n",
    "\n",
    "    filtered = pm4py.filter_time_range(log, dt.datetime(2010, 12, 30), dt.datetime(2010, 12, 31),mode='traces_intersecting')"
   ]
  },
  {
   "cell_type": "code",
   "execution_count": 84,
   "metadata": {},
   "outputs": [
    {
     "name": "stdout",
     "output_type": "stream",
     "text": [
      "[3, 3, 3, 3, 3, 3, 3, 3, 3, 2, 2, 2, 2, 2, 1, 1, 1, 1, 1, 6, 6, 6, 6, 6, 5, 5, 5, 5, 5, 5, 5, 5, 5, 5, 5, 5, 5, 4, 4, 4, 4, 4]\n",
      "['14:32:0', '15:6:0', '16:34:0', '9:18:0', '12:18:0', '13:6:0', '11:43:0', '9:55:0', '10:45:0', '11:32:0', '12:12:0', '14:16:0', '11:22:0', '12:5:0', '11:2:0', '10:6:0', '15:12:0', '11:18:0', '14:24:0', '15:2:0', '16:6:0', '16:22:0', '16:52:0', '11:47:0', '9:2:0', '10:16:0', '11:22:0', '13:28:0', '16:18:0', '14:33:0', '15:50:0', '11:18:0', '12:48:0', '9:6:0', '11:34:0', '13:12:0', '14:56:0', '15:2:0', '12:6:0', '14:43:0', '12:2:0', '15:44:0']\n"
     ]
    }
   ],
   "source": [
    "# filtrando a hora dos casos\n",
    "import pandas\n",
    "import pm4py\n",
    "import datetime\n",
    "import pytz\n",
    "\n",
    "if __name__ == \"__main__\":\n",
    "    log = pandas.read_csv('Y:\\\\git\\\\process ming\\\\grupo-2\\\\Bases_de_Dados\\\\running-example_3.csv', sep = ';')\n",
    "    # listaAtividades = log['activity']\n",
    "    listaPessoas = list(log.case_id)\n",
    "    listaHoras = list(log.timestamp)\n",
    "    listaHora2 = []\n",
    "    for hora in listaHora:\n",
    "        dataConvertida = datetime.datetime.strptime(hora, \"%Y-%m-%d %H:%M:%S%z\")\n",
    "        listaHora2.append(f'{dataConvertida.hour}:{dataConvertida.minute}:{dataConvertida.second}')\n",
    "    # listaHora = pd.to_datetime(log['timestamp']).dt.strftime('%H:%M:%S')\n",
    "    print(listaPessoas)\n",
    "    print(listaHora2)\n",
    "    # print(listaAtividades)\n",
    "    # listaHora = pd.to_datetime(log['time:timestamp']).dt.strftime('%H:%M:%S')\n",
    "    # for (i, atividade) in enumerate(listaAtividades):\n",
    "    #     print('atividade: ',atividade)\n",
    "    #     print('hora: ',listaHora[i])\n",
    "        "
   ]
  }
 ],
 "metadata": {
  "kernelspec": {
   "display_name": "Python 3",
   "language": "python",
   "name": "python3"
  },
  "language_info": {
   "codemirror_mode": {
    "name": "ipython",
    "version": 3
   },
   "file_extension": ".py",
   "mimetype": "text/x-python",
   "name": "python",
   "nbconvert_exporter": "python",
   "pygments_lexer": "ipython3",
   "version": "3.12.2"
  }
 },
 "nbformat": 4,
 "nbformat_minor": 2
}
