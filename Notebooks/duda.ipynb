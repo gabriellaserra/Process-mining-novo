{
 "cells": [
  {
   "cell_type": "code",
   "execution_count": 58,
   "metadata": {},
   "outputs": [],
   "source": [
    "import pandas as pd\n",
    "import graphviz"
   ]
  },
  {
   "cell_type": "code",
   "execution_count": 59,
   "metadata": {},
   "outputs": [
    {
     "name": "stdout",
     "output_type": "stream",
     "text": [
      "Number of events:     case_id            activity                  timestamp  costs resource\n",
      "0         3    register request  2010-12-30 14:32:00+01:00     50     Pete\n",
      "1         3    examine casually  2010-12-30 15:06:00+01:00    400     Mike\n",
      "2         3        check ticket  2010-12-30 16:34:00+01:00    100    Ellen\n",
      "3         3              decide  2011-01-06 09:18:00+01:00    200     Sara\n",
      "4         3  reinitiate request  2011-01-06 12:18:00+01:00    200     Sara\n",
      "5         3  examine thoroughly  2011-01-06 13:06:00+01:00    400     Sean\n",
      "6         3        check ticket  2011-01-08 11:43:00+01:00    100     Pete\n",
      "7         3              decide  2011-01-09 09:55:00+01:00    200     Sara\n",
      "8         3    pay compensation  2011-01-15 10:45:00+01:00    200    Ellen\n",
      "9         2    register request  2010-12-30 11:32:00+01:00     50     Mike\n",
      "10        2        check ticket  2010-12-30 12:12:00+01:00    100     Mike\n",
      "11        2    examine casually  2010-12-30 14:16:00+01:00    400     Sean\n",
      "12        2              decide  2011-01-05 11:22:00+01:00    200     Sara\n",
      "13        2    pay compensation  2011-01-08 12:05:00+01:00    200    Ellen\n",
      "14        1    register request  2010-12-30 11:02:00+01:00     50     Pete\n",
      "15        1  examine thoroughly  2010-12-31 10:06:00+01:00    400      Sue\n",
      "16        1        check ticket  2011-01-05 15:12:00+01:00    100     Mike\n",
      "17        1              decide  2011-01-06 11:18:00+01:00    200     Sara\n",
      "18        1      reject request  2011-01-07 14:24:00+01:00    200     Pete\n",
      "19        6    register request  2011-01-06 15:02:00+01:00     50     Mike\n",
      "20        6    examine casually  2011-01-06 16:06:00+01:00    400    Ellen\n",
      "21        6        check ticket  2011-01-07 16:22:00+01:00    100     Mike\n",
      "22        6              decide  2011-01-07 16:52:00+01:00    200     Sara\n",
      "23        6    pay compensation  2011-01-16 11:47:00+01:00    200     Mike\n",
      "24        5    register request  2011-01-06 09:02:00+01:00     50    Ellen\n",
      "25        5    examine casually  2011-01-07 10:16:00+01:00    400     Mike\n",
      "26        5        check ticket  2011-01-08 11:22:00+01:00    100     Pete\n",
      "27        5              decide  2011-01-10 13:28:00+01:00    200     Sara\n",
      "28        5  reinitiate request  2011-01-11 16:18:00+01:00    200     Sara\n",
      "29        5        check ticket  2011-01-14 14:33:00+01:00    100    Ellen\n",
      "30        5    examine casually  2011-01-16 15:50:00+01:00    400     Mike\n",
      "31        5              decide  2011-01-19 11:18:00+01:00    200     Sara\n",
      "32        5  reinitiate request  2011-01-20 12:48:00+01:00    200     Sara\n",
      "33        5    examine casually  2011-01-21 09:06:00+01:00    400      Sue\n",
      "34        5        check ticket  2011-01-21 11:34:00+01:00    100     Pete\n",
      "35        5              decide  2011-01-23 13:12:00+01:00    200     Sara\n",
      "36        5      reject request  2011-01-24 14:56:00+01:00    200     Mike\n",
      "37        4    register request  2011-01-06 15:02:00+01:00     50     Pete\n",
      "38        4        check ticket  2011-01-07 12:06:00+01:00    100     Mike\n",
      "39        4  examine thoroughly  2011-01-08 14:43:00+01:00    400     Sean\n",
      "40        4              decide  2011-01-09 12:02:00+01:00    200     Sara\n",
      "41        4      reject request  2011-01-12 15:44:00+01:00    200    Ellen\n",
      "Number of cases: 6\n"
     ]
    }
   ],
   "source": [
    "import pandas\n",
    "\n",
    "#Função para organizar e importar o arquivo\n",
    "def import_csv(file_path):\n",
    "    #o pandas tem várias funções para ler diferentes tipos de arquivos\n",
    "    event_log = pandas.read_csv(file_path, sep=';') #PARAMETROS: arquivo; 'sep' define que tipo de separação o arquivo tem, geralmente tem ',' como default\n",
    "    #event_log agora é uma 'tabela'\n",
    "    num_events = event_log\n",
    "    #.unique() retorna uma lista do id dos quantos clientes\n",
    "    num_cases = len(event_log.case_id.unique())\n",
    "    print(\"Number of events: {}\\nNumber of cases: {}\".format(num_events, num_cases))\n",
    "\n",
    "#forma de organizar o codigo: é uma prática padrão em Python para diferenciar a execução direta de um script da sua importação como um módulo.\n",
    "if __name__ == \"__main__\":\n",
    "    import_csv(\"C:\\\\Users\\\\meduarda\\\\grupo-2\\\\Bases_de_Dados\\\\running-example.csv\")"
   ]
  },
  {
   "cell_type": "code",
   "execution_count": 60,
   "metadata": {},
   "outputs": [
    {
     "name": "stdout",
     "output_type": "stream",
     "text": [
      "Linha Temporal: ['2010-12-30 11:02:00+01:00', '2010-12-30 11:32:00+01:00', '2010-12-30 12:12:00+01:00', '2010-12-30 14:16:00+01:00', '2010-12-30 14:32:00+01:00', '2010-12-30 15:06:00+01:00', '2010-12-30 16:34:00+01:00', '2010-12-31 10:06:00+01:00', '2011-01-05 11:22:00+01:00', '2011-01-05 15:12:00+01:00', '2011-01-06 09:02:00+01:00', '2011-01-06 09:18:00+01:00', '2011-01-06 11:18:00+01:00', '2011-01-06 12:18:00+01:00', '2011-01-06 13:06:00+01:00', '2011-01-06 15:02:00+01:00', '2011-01-06 15:02:00+01:00', '2011-01-06 16:06:00+01:00', '2011-01-07 10:16:00+01:00', '2011-01-07 12:06:00+01:00', '2011-01-07 14:24:00+01:00', '2011-01-07 16:22:00+01:00', '2011-01-07 16:52:00+01:00', '2011-01-08 11:22:00+01:00', '2011-01-08 11:43:00+01:00', '2011-01-08 12:05:00+01:00', '2011-01-08 14:43:00+01:00', '2011-01-09 09:55:00+01:00', '2011-01-09 12:02:00+01:00', '2011-01-10 13:28:00+01:00', '2011-01-11 16:18:00+01:00', '2011-01-12 15:44:00+01:00', '2011-01-14 14:33:00+01:00', '2011-01-15 10:45:00+01:00', '2011-01-16 11:47:00+01:00', '2011-01-16 15:50:00+01:00', '2011-01-19 11:18:00+01:00', '2011-01-20 12:48:00+01:00', '2011-01-21 09:06:00+01:00', '2011-01-21 11:34:00+01:00', '2011-01-23 13:12:00+01:00', '2011-01-24 14:56:00+01:00']\n",
      "Lista de eventos organizado: [(3, '2010-12-30 11:02:00+01:00'), (3, '2010-12-30 11:32:00+01:00'), (3, '2010-12-30 12:12:00+01:00'), (3, '2010-12-30 14:16:00+01:00'), (3, '2010-12-30 14:32:00+01:00'), (3, '2010-12-30 15:06:00+01:00'), (3, '2010-12-30 16:34:00+01:00'), (3, '2010-12-31 10:06:00+01:00'), (3, '2011-01-05 11:22:00+01:00'), (2, '2011-01-05 15:12:00+01:00'), (2, '2011-01-06 09:02:00+01:00'), (2, '2011-01-06 09:18:00+01:00'), (2, '2011-01-06 11:18:00+01:00'), (2, '2011-01-06 12:18:00+01:00'), (1, '2011-01-06 13:06:00+01:00'), (1, '2011-01-06 15:02:00+01:00'), (1, '2011-01-06 15:02:00+01:00'), (1, '2011-01-06 16:06:00+01:00'), (1, '2011-01-07 10:16:00+01:00'), (6, '2011-01-07 12:06:00+01:00'), (6, '2011-01-07 14:24:00+01:00'), (6, '2011-01-07 16:22:00+01:00'), (6, '2011-01-07 16:52:00+01:00'), (6, '2011-01-08 11:22:00+01:00'), (5, '2011-01-08 11:43:00+01:00'), (5, '2011-01-08 12:05:00+01:00'), (5, '2011-01-08 14:43:00+01:00'), (5, '2011-01-09 09:55:00+01:00'), (5, '2011-01-09 12:02:00+01:00'), (5, '2011-01-10 13:28:00+01:00'), (5, '2011-01-11 16:18:00+01:00'), (5, '2011-01-12 15:44:00+01:00'), (5, '2011-01-14 14:33:00+01:00'), (5, '2011-01-15 10:45:00+01:00'), (5, '2011-01-16 11:47:00+01:00'), (5, '2011-01-16 15:50:00+01:00'), (5, '2011-01-19 11:18:00+01:00'), (4, '2011-01-20 12:48:00+01:00'), (4, '2011-01-21 09:06:00+01:00'), (4, '2011-01-21 11:34:00+01:00'), (4, '2011-01-23 13:12:00+01:00'), (4, '2011-01-24 14:56:00+01:00')]\n"
     ]
    }
   ],
   "source": [
    "import pandas\n",
    "\n",
    "\n",
    "def import_csv(file_path):\n",
    "    event_log = pandas.read_csv(file_path, sep=';')\n",
    "    num_cases = event_log.case_id\n",
    "    #organiza a lista em ordem de eventos pelo tempo\n",
    "    clients = sorted(event_log.timestamp)\n",
    "    listaOrganizada = list(zip(num_cases, clients))\n",
    "    print(\"Linha Temporal: {}\\nLista de eventos organizado: {}\".format(clients, listaOrganizada))\n",
    "\n",
    "\n",
    "if __name__ == \"__main__\":\n",
    "    import_csv(\"C:\\\\Users\\\\meduarda\\\\grupo-2\\\\Bases_de_Dados\\\\running-example.csv\")"
   ]
  }
 ],
 "metadata": {
  "kernelspec": {
   "display_name": "Python 3",
   "language": "python",
   "name": "python3"
  },
  "language_info": {
   "codemirror_mode": {
    "name": "ipython",
    "version": 3
   },
   "file_extension": ".py",
   "mimetype": "text/x-python",
   "name": "python",
   "nbconvert_exporter": "python",
   "pygments_lexer": "ipython3",
   "version": "3.11.8"
  }
 },
 "nbformat": 4,
 "nbformat_minor": 2
}
